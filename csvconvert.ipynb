{
 "cells": [
  {
   "cell_type": "code",
   "execution_count": 6,
   "id": "6ec4afd1-d356-4b00-8a5a-de8f6c03582e",
   "metadata": {
    "tags": []
   },
   "outputs": [],
   "source": [
    "import pandas as pd\n",
    "import os\n",
    "import html\n",
    "\n",
    "directory = r'C:/Users/inbra/OneDrive - Software AG/Documents/Adda/testReports'\n",
    "\n",
    "\n",
    "\n",
    "for filename in os.listdir(directory):\n",
    "    if filename.endswith('.html'):\n",
    "        csv_filename = filename.replace('.html','.csv')\n",
    "        csv_filename = os.path.join(directory,csv_filename)\n",
    "        fname = os.path.join(directory,filename)\n",
    "        \n",
    "        with open(fname, 'r',encoding='utf-8') as f:\n",
    "            table = pd.read_html(f.read(),encoding='utf-8')[0]\n",
    "            table.to_csv(csv_filename, index=False)\n",
    "\n"
   ]
  },
  {
   "cell_type": "code",
   "execution_count": null,
   "id": "f0148632-a22e-4400-9481-648df5fe7e51",
   "metadata": {},
   "outputs": [],
   "source": []
  }
 ],
 "metadata": {
  "kernelspec": {
   "display_name": "Python 3 (ipykernel)",
   "language": "python",
   "name": "python3"
  },
  "language_info": {
   "codemirror_mode": {
    "name": "ipython",
    "version": 3
   },
   "file_extension": ".py",
   "mimetype": "text/x-python",
   "name": "python",
   "nbconvert_exporter": "python",
   "pygments_lexer": "ipython3",
   "version": "3.8.10"
  }
 },
 "nbformat": 4,
 "nbformat_minor": 5
}
