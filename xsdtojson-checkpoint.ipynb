{
 "cells": [
  {
   "cell_type": "code",
   "execution_count": 7,
   "id": "147d933e-baf4-4656-8cf2-4e89cd23e7f1",
   "metadata": {
    "tags": []
   },
   "outputs": [],
   "source": [
    "import xml.etree.ElementTree as ET\n",
    "import json\n",
    "\n",
    "def convert_xsd_to_json_schema(xsd_file):\n",
    "    tree = ET.parse(xsd_file)\n",
    "    root = tree.getroot()\n",
    "\n",
    "    json_schema = {\n",
    "        \"$schema\": \"http://json-schema.org/draft-07/schema#\",\n",
    "        \"type\": \"object\",\n",
    "        \"properties\": {},\n",
    "        \"required\": []\n",
    "    }\n",
    "\n",
    "    for element in root.iter(\"element\"):\n",
    "        name = element.get(\"name\")\n",
    "        json_schema[\"properties\"][name] = parse_xsd_element(element)\n",
    "\n",
    "    return json_schema\n",
    "\n",
    "def parse_xsd_element(element):\n",
    "    element_type = element.get(\"type\")\n",
    "\n",
    "    if element_type is not None and element_type.startswith(\"xs:\"):\n",
    "        return parse_xsd_type(element_type[3:])\n",
    "\n",
    "    complex_type = element.find(\"complexType\")\n",
    "    if complex_type is not None:\n",
    "        return parse_xsd_complex_type(complex_type)\n",
    "\n",
    "    return {}\n",
    "\n",
    "def parse_xsd_complex_type(complex_type):\n",
    "    properties = {}\n",
    "\n",
    "    sequence = complex_type.find(\"sequence\")\n",
    "    if sequence is not None:\n",
    "        for child_element in sequence.iter(\"element\"):\n",
    "            name = child_element.get(\"name\")\n",
    "            properties[name] = parse_xsd_element(child_element)\n",
    "\n",
    "    return {\n",
    "        \"type\": \"object\",\n",
    "        \"properties\": properties\n",
    "    }\n",
    "\n",
    "def parse_xsd_type(type_string):\n",
    "    if type_string == \"string\":\n",
    "        return {\"type\": \"string\"}\n",
    "    elif type_string == \"boolean\":\n",
    "        return {\"type\": \"boolean\"}\n",
    "    elif type_string == \"decimal\":\n",
    "        return {\"type\": \"number\"}\n",
    "    elif type_string == \"integer\":\n",
    "        return {\"type\": \"integer\"}\n",
    "    elif type_string == \"positiveInteger\":\n",
    "        return {\"type\": \"integer\", \"minimum\": 1}\n",
    "    elif type_string == \"array\":\n",
    "        return {\"type\": \"array\", \"items\": {\"type\": \"string\"}}\n",
    "    else:\n",
    "        return {\"$ref\": \"#/definitions/\" + type_string}"
   ]
  },
  {
   "cell_type": "code",
   "execution_count": 8,
   "id": "a463ac2e-4992-4722-971c-e326368517ee",
   "metadata": {
    "tags": []
   },
   "outputs": [
    {
     "name": "stdout",
     "output_type": "stream",
     "text": [
      "{\n",
      "  \"$schema\": \"http://json-schema.org/draft-07/schema#\",\n",
      "  \"type\": \"object\",\n",
      "  \"properties\": {\n",
      "    \"shiporder\": {\n",
      "      \"type\": \"string\"\n",
      "    },\n",
      "    \"shipto\": {\n",
      "      \"type\": \"string\"\n",
      "    },\n",
      "    \"address\": {\n",
      "      \"type\": \"string\"\n",
      "    },\n",
      "    \"city\": {\n",
      "      \"type\": \"string\"\n",
      "    },\n",
      "    \"country\": {\n",
      "      \"type\": \"string\"\n",
      "    },\n",
      "    \"item\": {\n",
      "      \"type\": \"string\"\n",
      "    },\n",
      "    \"note\": {\n",
      "      \"type\": \"string\"\n",
      "    },\n",
      "    \"quantity\": {\n",
      "      \"type\": \"integer\",\n",
      "      \"minimum\": 1\n",
      "    },\n",
      "    \"price\": {\n",
      "      \"type\": \"number\"\n",
      "    }\n",
      "  },\n",
      "  \"required\": []\n",
      "}\n"
     ]
    }
   ],
   "source": [
    "xsd_file='c:\\\\users\\\\inbra\\\\workspaceUtil\\\\sample.xsd'\n",
    "json_schema = convert_xsd_to_json_schema(xsd_file)\n",
    "\n",
    "print(json.dumps(json_schema, indent=2))"
   ]
  },
  {
   "cell_type": "code",
   "execution_count": null,
   "id": "9989626f-1f33-4769-855d-2c8c6928e52a",
   "metadata": {},
   "outputs": [],
   "source": []
  },
  {
   "cell_type": "code",
   "execution_count": null,
   "id": "9f388f8c-006d-47d0-b4d6-be0aecfb9c6b",
   "metadata": {},
   "outputs": [],
   "source": []
  }
 ],
 "metadata": {
  "kernelspec": {
   "display_name": "Python 3 (ipykernel)",
   "language": "python",
   "name": "python3"
  },
  "language_info": {
   "codemirror_mode": {
    "name": "ipython",
    "version": 3
   },
   "file_extension": ".py",
   "mimetype": "text/x-python",
   "name": "python",
   "nbconvert_exporter": "python",
   "pygments_lexer": "ipython3",
   "version": "3.8.10"
  }
 },
 "nbformat": 4,
 "nbformat_minor": 5
}
