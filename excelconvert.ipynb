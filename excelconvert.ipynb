{
 "cells": [
  {
   "cell_type": "code",
   "execution_count": 1,
   "id": "224b4607-4cb5-4c73-80c9-e8988d36bf63",
   "metadata": {
    "tags": []
   },
   "outputs": [],
   "source": [
    "import pandas as pd\n",
    "import os\n",
    "import html\n",
    "\n",
    "# location of all the report HTML files to convert to Excel; do not replace r only replace path inside ''\n",
    "directory = r'C:/Users/inbra/OneDrive - Software AG/Documents/Adda/testReports'\n",
    "\n",
    "\n",
    "\n",
    "for filename in os.listdir(directory):\n",
    "    if filename.endswith('.html'):\n",
    "        excel_filename = filename.replace('.html','.xlsx')\n",
    "        excel_filename = os.path.join(directory,excel_filename)\n",
    "        fname = os.path.join(directory,filename)\n",
    "        \n",
    "        with open(fname, 'r',encoding='utf-8') as f:\n",
    "            table = pd.read_html(f.read(),encoding='utf-8')[0]\n",
    "            table.to_excel(excel_filename, index=False)\n"
   ]
  },
  {
   "cell_type": "code",
   "execution_count": null,
   "id": "0cde8271-6e74-41c8-8d2f-6a7cf816206b",
   "metadata": {},
   "outputs": [],
   "source": []
  }
 ],
 "metadata": {
  "kernelspec": {
   "display_name": "Python 3 (ipykernel)",
   "language": "python",
   "name": "python3"
  },
  "language_info": {
   "codemirror_mode": {
    "name": "ipython",
    "version": 3
   },
   "file_extension": ".py",
   "mimetype": "text/x-python",
   "name": "python",
   "nbconvert_exporter": "python",
   "pygments_lexer": "ipython3",
   "version": "3.8.10"
  }
 },
 "nbformat": 4,
 "nbformat_minor": 5
}
