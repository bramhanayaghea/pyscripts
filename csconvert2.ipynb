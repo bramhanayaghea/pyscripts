{
 "cells": [
  {
   "cell_type": "code",
   "execution_count": 9,
   "id": "f1eacad1-b747-4c48-9d92-7ad9fe1cd0cb",
   "metadata": {
    "tags": []
   },
   "outputs": [
    {
     "ename": "AttributeError",
     "evalue": "'list' object has no attribute 'encode'",
     "output_type": "error",
     "traceback": [
      "\u001b[1;31m---------------------------------------------------------------------------\u001b[0m",
      "\u001b[1;31mAttributeError\u001b[0m                            Traceback (most recent call last)",
      "Cell \u001b[1;32mIn[9], line 45\u001b[0m\n\u001b[0;32m     43\u001b[0m \u001b[38;5;28;01mwith\u001b[39;00m \u001b[38;5;28mopen\u001b[39m(csv_filename, \u001b[38;5;124m'\u001b[39m\u001b[38;5;124mwb\u001b[39m\u001b[38;5;124m'\u001b[39m) \u001b[38;5;28;01mas\u001b[39;00m f:\n\u001b[0;32m     44\u001b[0m     writer \u001b[38;5;241m=\u001b[39m csv\u001b[38;5;241m.\u001b[39mwriter(f)\n\u001b[1;32m---> 45\u001b[0m     writer\u001b[38;5;241m.\u001b[39mwriterow(\u001b[43mheader\u001b[49m\u001b[38;5;241;43m.\u001b[39;49m\u001b[43mencode\u001b[49m)\n\u001b[0;32m     46\u001b[0m     writer\u001b[38;5;241m.\u001b[39mwriterows(row \u001b[38;5;28;01mfor\u001b[39;00m row \u001b[38;5;129;01min\u001b[39;00m rows \u001b[38;5;28;01mif\u001b[39;00m row)\n",
      "\u001b[1;31mAttributeError\u001b[0m: 'list' object has no attribute 'encode'"
     ]
    }
   ],
   "source": [
    "# Importing the required modules\n",
    "import os\n",
    "import sys\n",
    "import pandas as pd\n",
    "import csv\n",
    "from bs4 import BeautifulSoup\n",
    "  \n",
    "path = r'C:/Users/inbra/OneDrive - Software AG/Documents/Adda/testReports'\n",
    "  \n",
    "\n",
    "for filename in os.listdir(path):\n",
    "     if filename.endswith('.html'):\n",
    "            \n",
    "            from lxml.html.clean import Cleaner\n",
    "            \n",
    "            # empty list\n",
    "            #data = []\n",
    "            # for getting the header from\n",
    "            # the HTML file\n",
    "            #list_header = []\n",
    "            filename= os.path.join(path,filename)\n",
    "            soup = BeautifulSoup(open(filename,'r',encoding='utf-8'),'html.parser')\n",
    "            \n",
    "            table = soup.find('table')\n",
    "            header = [header.text for header in table.find_all('th')]\n",
    "            \n",
    "            rows = []\n",
    "             # for getting the data\n",
    "            for row in table.find_all('tr'):\n",
    "                rows.append([val.text.encode('utf8') for val in row.find_all('td')])\n",
    "\n",
    "              \n",
    "            \n",
    "            \n",
    "\n",
    "            # Storing the data into csv\n",
    "            # DataFrame\n",
    "            #dataFrame = pd.DataFrame(data = data, columns = header)\n",
    "\n",
    "            # Converting Pandas DataFrame\n",
    "            # into CSV file\n",
    "            csv_filename = filename.replace('.html','.csv')\n",
    "            with open(csv_filename, 'wb') as f:\n",
    "                writer = csv.writer(f)\n",
    "                writer.writerow(header.encode)\n",
    "                writer.writerows(row for row in rows if row)\n",
    "         "
   ]
  },
  {
   "cell_type": "code",
   "execution_count": null,
   "id": "43434468-48c5-4979-b55b-c8c6bb974ab7",
   "metadata": {},
   "outputs": [],
   "source": []
  }
 ],
 "metadata": {
  "kernelspec": {
   "display_name": "Python 3 (ipykernel)",
   "language": "python",
   "name": "python3"
  },
  "language_info": {
   "codemirror_mode": {
    "name": "ipython",
    "version": 3
   },
   "file_extension": ".py",
   "mimetype": "text/x-python",
   "name": "python",
   "nbconvert_exporter": "python",
   "pygments_lexer": "ipython3",
   "version": "3.8.10"
  }
 },
 "nbformat": 4,
 "nbformat_minor": 5
}
