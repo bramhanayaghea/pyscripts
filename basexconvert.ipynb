{
 "cells": [
  {
   "cell_type": "code",
   "execution_count": 16,
   "id": "6190b681-5cfd-4407-b00f-e8e4ea9224b6",
   "metadata": {
    "tags": []
   },
   "outputs": [
    {
     "name": "stdout",
     "output_type": "stream",
     "text": [
      "Error: Command '['C:\\\\BaseX\\\\bin\\\\basex.bat', 'c', 'open', 'C:/Users/inbra/pyscripts/xquery/SecurePersonInquiryResp1-1.xqy', 'xslt', '-s', '/', '-o', 'C:/Users/inbra/pyscripts/xquery/SecurePersonInquiryResp1-1.xsl']' returned non-zero exit status 1.\n"
     ]
    }
   ],
   "source": [
    "import subprocess\n",
    "\n",
    "# Define the path to the BaseX command-line tool\n",
    "basex_command = r\"C:\\BaseX\\bin\\basex.bat\"\n",
    "\n",
    "# Define the path to your XQuery file (using forward slashes for cross-platform compatibility)\n",
    "xquery_file = \"C:/Users/inbra/pyscripts/xquery/SecurePersonInquiryResp1-1.xqy\"\n",
    "\n",
    "# Define the path where you want to save the XSLT file (using forward slashes)\n",
    "xslt_file = \"C:/Users/inbra/pyscripts/xquery/SecurePersonInquiryResp1-1.xsl\"\n",
    "\n",
    "# Define the XQuery execution command\n",
    "xquery_command = [\n",
    "    basex_command,\n",
    "    \"c\",\n",
    "    \"open\",\n",
    "    xquery_file,  # Include the path to the XQuery file here\n",
    "    \"xslt\",\n",
    "    \"-s\", \"/\",  # Specify the source path (change as needed)\n",
    "    \"-o\", xslt_file,  # Specify the output path\n",
    "]\n",
    "\n",
    "# Execute the XQuery to XSLT conversion\n",
    "try:\n",
    "    subprocess.run(xquery_command, check=True, shell=True)\n",
    "    print(f\"XQuery successfully converted to XSLT and saved to {xslt_file}\")\n",
    "except subprocess.CalledProcessError as e:\n",
    "    print(f\"Error: {e}\")\n"
   ]
  },
  {
   "cell_type": "code",
   "execution_count": null,
   "id": "5a0526e5-cd98-42b3-b019-0ff0dd62cb95",
   "metadata": {},
   "outputs": [],
   "source": []
  },
  {
   "cell_type": "code",
   "execution_count": null,
   "id": "17c33cd4-a01c-4377-b442-cb6519558356",
   "metadata": {},
   "outputs": [],
   "source": []
  }
 ],
 "metadata": {
  "kernelspec": {
   "display_name": "Python 3 (ipykernel)",
   "language": "python",
   "name": "python3"
  },
  "language_info": {
   "codemirror_mode": {
    "name": "ipython",
    "version": 3
   },
   "file_extension": ".py",
   "mimetype": "text/x-python",
   "name": "python",
   "nbconvert_exporter": "python",
   "pygments_lexer": "ipython3",
   "version": "3.8.10"
  }
 },
 "nbformat": 4,
 "nbformat_minor": 5
}
