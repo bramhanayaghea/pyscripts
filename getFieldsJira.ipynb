{
 "cells": [
  {
   "cell_type": "code",
   "execution_count": 2,
   "id": "673b3f2f-a1b6-433e-ae4a-124c35e20f0f",
   "metadata": {
    "tags": []
   },
   "outputs": [
    {
     "name": "stdout",
     "output_type": "stream",
     "text": [
      "The parent option value for custom field customfield_10209 is None.\n",
      "The child option value for custom field customfield_10209 is None.\n"
     ]
    }
   ],
   "source": [
    "from jira import JIRA\n",
    "\n",
    "# Connect to JIRA\n",
    "jira_options = {'server': 'https://jira.addata.gov.ae'}\n",
    "jira = JIRA(options=jira_options, basic_auth=('bharathi', 'Welcome@123'))\n",
    "\n",
    "# Set the issue key and custom field ID\n",
    "issue_key = 'ACACM-12795'\n",
    "custom_field_id = 'customfield_10209'\n",
    "\n",
    "# Get the issue and custom field values\n",
    "issue = jira.issue(issue_key)\n",
    "custom_field_value = issue.fields.customfield_10209\n",
    "\n",
    "# Get the parent and child options\n",
    "parent_option_value = None\n",
    "child_option_value = None\n",
    "if custom_field_value is not None and 'value' in custom_field_value:\n",
    "    parent_option = custom_field_value['value'].get('value')\n",
    "    if parent_option is not None:\n",
    "        parent_option_value = parent_option.get('value')\n",
    "    child_option = custom_field_value['child']\n",
    "    if child_option is not None:\n",
    "        child_option_value = child_option.get('value')\n",
    "\n",
    "# Print the values\n",
    "print(f\"The parent option value for custom field {custom_field_id} is {parent_option_value}.\")\n",
    "print(f\"The child option value for custom field {custom_field_id} is {child_option_value}.\")\n"
   ]
  },
  {
   "cell_type": "code",
   "execution_count": null,
   "id": "e060827c-c435-48e2-a2bb-361872a33d91",
   "metadata": {},
   "outputs": [],
   "source": []
  },
  {
   "cell_type": "code",
   "execution_count": null,
   "id": "4a83e71e-c0f2-434a-9f8e-8cd30b08af8c",
   "metadata": {},
   "outputs": [],
   "source": []
  }
 ],
 "metadata": {
  "kernelspec": {
   "display_name": "Python 3 (ipykernel)",
   "language": "python",
   "name": "python3"
  },
  "language_info": {
   "codemirror_mode": {
    "name": "ipython",
    "version": 3
   },
   "file_extension": ".py",
   "mimetype": "text/x-python",
   "name": "python",
   "nbconvert_exporter": "python",
   "pygments_lexer": "ipython3",
   "version": "3.8.10"
  }
 },
 "nbformat": 4,
 "nbformat_minor": 5
}
