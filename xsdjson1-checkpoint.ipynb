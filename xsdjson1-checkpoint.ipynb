{
 "cells": [
  {
   "cell_type": "code",
   "execution_count": 12,
   "id": "f7e96c6c-59d7-47e9-9e6d-02aa8fc44429",
   "metadata": {
    "tags": []
   },
   "outputs": [],
   "source": [
    "import json\n",
    "import xml.etree.ElementTree as ET\n",
    "\n",
    "def xsd_to_json(xsd_file, json_file):\n",
    "    ns = {'xs': 'http://www.w3.org/2001/XMLSchema'}\n",
    "    tree = ET.parse(xsd_file)\n",
    "    root = tree.getroot()\n",
    "\n",
    "    json_schema = {\n",
    "        \"$schema\": \"http://json-schema.org/draft-07/schema#\",\n",
    "        \"type\": \"object\",\n",
    "        \"properties\": {}\n",
    "    }\n",
    "\n",
    "    def process_element(element):\n",
    "        type_map = {\n",
    "            'xs:string': 'string',\n",
    "            'xs:dateTime': 'string',\n",
    "            'xs:int': 'integer',\n",
    "            'xs:long': 'integer',\n",
    "            'xs:decimal': 'number',\n",
    "            'xs:boolean': 'boolean'\n",
    "        }\n",
    "\n",
    "        element_info = {}\n",
    "        \n",
    "        type = element.get('type')\n",
    "        if type:\n",
    "            element_info['type'] = type_map.get(type, 'string')\n",
    "            if type == 'xs:dateTime':\n",
    "                element_info['format'] = 'date-time'\n",
    "        else:\n",
    "            complex_type = element.find('xs:complexType', ns)\n",
    "            if complex_type is not None:\n",
    "                element_info['type'] = 'object'\n",
    "                element_info['properties'] = {}\n",
    "                sequence = complex_type.find('xs:sequence', ns)\n",
    "                if sequence is not None:\n",
    "                    for seq_element in sequence.findall('xs:element', ns):\n",
    "                        element_info['properties'][seq_element.get('name')] = process_element(seq_element)\n",
    "                \n",
    "                choice = complex_type.find('xs:choice', ns)\n",
    "                if choice is not None:\n",
    "                    for choice_element in choice.findall('xs:element', ns):\n",
    "                        element_info['properties'][choice_element.get('name')] = process_element(choice_element)\n",
    "        \n",
    "        return element_info\n",
    "\n",
    "    for element in root.findall('xs:element', ns):\n",
    "        json_schema['properties'][element.get('name')] = process_element(element)\n",
    "\n",
    "    with open(json_file, 'w') as f:\n",
    "        json.dump(json_schema, f, indent=2)\n",
    "\n",
    "# usage\n",
    "xsd_file='c:\\\\users\\\\inbra\\\\workspaceUtil\\\\PersonProfileSchemas_Custom-2.xsd'\n",
    "output_json='c:\\\\users\\\\inbra\\\\workspaceUtil\\\\samplejson.json'\n",
    "xsd_to_json_schema(xsd_file, output_json)\n",
    "\n"
   ]
  },
  {
   "cell_type": "code",
   "execution_count": null,
   "id": "f0bc089a-e392-42e1-b1df-931e1aef46a8",
   "metadata": {},
   "outputs": [],
   "source": []
  },
  {
   "cell_type": "code",
   "execution_count": null,
   "id": "9e259d76-14e0-42db-8992-02893a0be7c3",
   "metadata": {},
   "outputs": [],
   "source": []
  }
 ],
 "metadata": {
  "kernelspec": {
   "display_name": "Python 3 (ipykernel)",
   "language": "python",
   "name": "python3"
  },
  "language_info": {
   "codemirror_mode": {
    "name": "ipython",
    "version": 3
   },
   "file_extension": ".py",
   "mimetype": "text/x-python",
   "name": "python",
   "nbconvert_exporter": "python",
   "pygments_lexer": "ipython3",
   "version": "3.8.10"
  }
 },
 "nbformat": 4,
 "nbformat_minor": 5
}
