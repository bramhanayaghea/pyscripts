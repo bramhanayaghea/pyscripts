{
 "cells": [
  {
   "cell_type": "code",
   "execution_count": 2,
   "id": "41079615-2860-43a3-bd74-3806a80e2635",
   "metadata": {
    "tags": []
   },
   "outputs": [
    {
     "name": "stdout",
     "output_type": "stream",
     "text": [
      "XML document is not valid against the XSD schema.\n"
     ]
    }
   ],
   "source": [
    "from lxml import etree\n",
    "\n",
    "# Load the XML document and XSD schema\n",
    "xml_doc = etree.parse(\"c:\\\\users\\\\inbra\\\\workspaceUtil\\\\ProviderOutput.xml\")\n",
    "xsd_doc = etree.parse(\"c:\\\\users\\\\inbra\\\\workspaceUtil\\\\PersonProfileSchemas_Custom.xsd\")\n",
    "\n",
    "# Create the XML schema object\n",
    "xml_schema = etree.XMLSchema(xsd_doc)\n",
    "\n",
    "# Validate the XML document against the XSD schema\n",
    "is_valid = xml_schema.validate(xml_doc)\n",
    "\n",
    "if is_valid:\n",
    "    # Retrieve the root element\n",
    "    root_element = xml_doc.getroot()\n",
    "\n",
    "    # Traverse through the elements and add annotations based on XSD constraints\n",
    "    for element in xml_schema.iter():\n",
    "        if element in xml_doc.iter():\n",
    "            if element.type.name == \"boolean\":\n",
    "                element_value = element.text\n",
    "                if element_value == \"true\" or element_value == \"1\":\n",
    "                    element.set(\"valid\", \"true\")\n",
    "                else:\n",
    "                    element.set(\"valid\", \"false\")\n",
    "            elif element.type.name in [\"int\", \"long\"]:\n",
    "                element_value = element.text\n",
    "                try:\n",
    "                    int(element_value) if element.type.name == \"int\" else long(element_value)\n",
    "                    element.set(\"valid\", \"true\")\n",
    "                except ValueError:\n",
    "                    element.set(\"valid\", \"false\")\n",
    "\n",
    "    xml_doc.write(\"annotated.xml\", encoding=\"utf-8\", xml_declaration=True)\n",
    "    print(\"Annotated XML document created successfully.\")\n",
    "else:\n",
    "    print(\"XML document is not valid against the XSD schema.\")\n"
   ]
  },
  {
   "cell_type": "code",
   "execution_count": null,
   "id": "53247536-33dd-4387-8584-d8fe6d25b487",
   "metadata": {},
   "outputs": [],
   "source": []
  },
  {
   "cell_type": "code",
   "execution_count": null,
   "id": "5b7a51cb-3e9a-4284-970c-a0d5c9523b0c",
   "metadata": {},
   "outputs": [],
   "source": []
  }
 ],
 "metadata": {
  "kernelspec": {
   "display_name": "Python 3 (ipykernel)",
   "language": "python",
   "name": "python3"
  },
  "language_info": {
   "codemirror_mode": {
    "name": "ipython",
    "version": 3
   },
   "file_extension": ".py",
   "mimetype": "text/x-python",
   "name": "python",
   "nbconvert_exporter": "python",
   "pygments_lexer": "ipython3",
   "version": "3.8.10"
  }
 },
 "nbformat": 4,
 "nbformat_minor": 5
}
