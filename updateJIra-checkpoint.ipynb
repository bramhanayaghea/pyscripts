{
 "cells": [
  {
   "cell_type": "code",
   "execution_count": 5,
   "id": "8ca1e833-3e06-4267-91cf-4cc3fd0c6ce1",
   "metadata": {
    "tags": []
   },
   "outputs": [
    {
     "name": "stdout",
     "output_type": "stream",
     "text": [
      "Found 1 substrings:\n",
      "Found 1 issues for substring 'licensingflagsads/getstepinfo' in string 'licensingflagsadsgetstepinfo':\n"
     ]
    },
    {
     "ename": "TypeError",
     "evalue": "update_test_data_available() missing 2 required positional arguments: 'custom_field_label' and 'custom_field_value'",
     "output_type": "error",
     "traceback": [
      "\u001b[1;31m---------------------------------------------------------------------------\u001b[0m",
      "\u001b[1;31mTypeError\u001b[0m                                 Traceback (most recent call last)",
      "Cell \u001b[1;32mIn[5], line 73\u001b[0m\n\u001b[0;32m     71\u001b[0m     \u001b[38;5;28;01mfor\u001b[39;00m issue \u001b[38;5;129;01min\u001b[39;00m issues:\n\u001b[0;32m     72\u001b[0m         issue_key \u001b[38;5;241m=\u001b[39m issue[\u001b[38;5;124m'\u001b[39m\u001b[38;5;124mkey\u001b[39m\u001b[38;5;124m'\u001b[39m]\n\u001b[1;32m---> 73\u001b[0m         \u001b[43mupdate_test_data_available\u001b[49m\u001b[43m(\u001b[49m\u001b[43mbase_url\u001b[49m\u001b[43m,\u001b[49m\u001b[43m \u001b[49m\u001b[43musername\u001b[49m\u001b[43m,\u001b[49m\u001b[43m \u001b[49m\u001b[43mpassword\u001b[49m\u001b[43m,\u001b[49m\u001b[43m \u001b[49m\u001b[43missue_key\u001b[49m\u001b[43m)\u001b[49m\n\u001b[0;32m     74\u001b[0m \u001b[38;5;28;01melse\u001b[39;00m:\n\u001b[0;32m     75\u001b[0m     \u001b[38;5;28mprint\u001b[39m(\u001b[38;5;124mf\u001b[39m\u001b[38;5;124m\"\u001b[39m\u001b[38;5;124mNo issues found for substring \u001b[39m\u001b[38;5;124m'\u001b[39m\u001b[38;5;132;01m{\u001b[39;00msubstring\u001b[38;5;132;01m}\u001b[39;00m\u001b[38;5;124m'\u001b[39m\u001b[38;5;124m in string \u001b[39m\u001b[38;5;124m'\u001b[39m\u001b[38;5;132;01m{\u001b[39;00ms\u001b[38;5;132;01m}\u001b[39;00m\u001b[38;5;124m'\u001b[39m\u001b[38;5;124m.\u001b[39m\u001b[38;5;124m\"\u001b[39m)\n",
      "\u001b[1;31mTypeError\u001b[0m: update_test_data_available() missing 2 required positional arguments: 'custom_field_label' and 'custom_field_value'"
     ]
    }
   ],
   "source": [
    "import requests\n",
    "import json\n",
    "\n",
    "def extract_substrings(string_set, substring_set):\n",
    "    result = {}\n",
    "    for s in string_set:\n",
    "        for substring in substring_set:\n",
    "            index = s.find(substring)\n",
    "            if index != -1:\n",
    "                rest_of_chars = s[index+len(substring):]\n",
    "                result[s] = substring + \"/\" + rest_of_chars\n",
    "                break\n",
    "    return result\n",
    "\n",
    "def search_jira(base_url, username, password, substring, custom_field_label):\n",
    "    headers = {\n",
    "        'Content-Type': 'application/json'\n",
    "    }\n",
    "    url = base_url + '/rest/api/2/search'\n",
    "    jql_query = f\"summary ~ '{substring}'\"\n",
    "    data = {\n",
    "        'jql': jql_query,\n",
    "        'maxResults': 10,\n",
    "        'fields': ['summary', 'status', 'assignee', 'issuetype', custom_field_label]\n",
    "    }\n",
    "    response = requests.post(url, headers=headers, auth=(username, password), data=json.dumps(data))\n",
    "    if response.status_code == 200:\n",
    "        issues = response.json()['issues']\n",
    "        return issues\n",
    "    else:\n",
    "        print('Error searching Jira:', response.text)\n",
    "        return None\n",
    "\n",
    "def update_test_data_available(base_url, username, password, issue_key, custom_field_label, custom_field_value):\n",
    "    headers = {\n",
    "        'Content-Type': 'application/json'\n",
    "    }\n",
    "    url = base_url + f'/rest/api/2/issue/{issue_key}'\n",
    "    data = {\n",
    "        'fields': {\n",
    "            custom_field_label: custom_field_value\n",
    "        }\n",
    "    }\n",
    "    response = requests.put(url, headers=headers, auth=(username, password), data=json.dumps(data))\n",
    "    if response.status_code == 204:\n",
    "        print(f\"{custom_field_label} field updated successfully for issue {issue_key}\")\n",
    "    else:\n",
    "        print(f\"Error updating {custom_field_label} field for issue {issue_key}:\", response.text)\n",
    "\n",
    "\n",
    "\n",
    "base_url = 'https://jira.addata.gov.ae'\n",
    "username = 'bharathi'\n",
    "password = 'Welcome@123'\n",
    "#string_set = {'demarcationofplotcornerssecondtimeconfirmback', 'registerpowerofattorneystartworkflow', 'demarcationofplotcornersexaminationapplycancel', 'registerpowerofattorneyconfirmcancel', 'verifycoordinatesofbuildingandfenceconfirmsubmit', 'upscarparkingcanopiespermitgetstepinfo', 'registerpowerofattorneygetstepinfo', 'customerprofileupdategetstepinfo', 'upscarparkingcanopiespermitsearchcurrentcustomerproperties', 'demarcationofplotcornerssecondtimegetstartaction', 'siteplangetsiteplan', 'requestsettingoutofplotstemporarystartworkflow', 'demarcationofplotcornerssecondtimestartworkflow', 'lookupregisternewcommoditycardsearchmunicipalities', 'lookupgetgovernmententities', 'lookupgetunifiedrejectionreasons', 'demarcationofplotcornerssecondtimesearchcurrentcustomerproperties', 'verifycoordinatesofbuildingandfencestartworkflow', 'cancelpowerofattorneygetstepinfo', 'demarcationofplotcornersexaminationgetstartaction', 'engineercancelmecsrolegetstartaction', 'registerguardiangetstepinfo', 'verifycoordinatesofbuildingandfenceapplycancel', 'requestsettingoutofplotstemporarygetstartaction', 'lookupgetengeducationalqualifications', 'cancelpowerofattorneyconfirmsubmit', 'requestsettingoutofplotstemporarysearchcurrentcustomerproperties', 'licensingtempwalladsgetstepinfo', 'customerprofileupdategetstartaction', 'renewcarparkingcanopiesoutsideoftheplotpermitresidentialgetstartaction', 'lookupgetworkpermittypes', 'ownerprofilegetcdpprovideragreement', 'lookupgetupsmaterialtypes', 'renewtenancycontractmunicipalassetsgetstartaction', 'customerprofileupdatestartworkflow', 'licensingtempsignageadsstartworkflow', 'demarcationofplotcornersexaminationconfirmback', 'renewcarparkingcanopiesoutsideoftheplotpermitresidentialconfirmsubmit', 'renewtenancycontractmunicipalassetsgetstepinfo', 'siteplangetlandsshortlist', 'registerpowerofattorneysearchfirstpartiesproperties', 'mediaannouncementpermitsearchcurrentcustomerfreeholdprojects', 'licensingflagsadsgetstepinfo', 'registerguardianconfirmcancel', 'issuingadvertisingpermitsgetstartaction', 'profilesgetengineerprofile', 'engineerconsultinginvitationextensiongetinvitationdetails', 'registerguardianconfirmsubmit', 'onwanigisidsearchar', 'upscarparkingcanopiespermitpaymentsubmit', 'landverificationcertificategetlandverification', 'cancelguardianconfirmsubmit', 'verifycoordinatesofbuildingandfencegetstartaction', 'lookupgetgovernmentfirms', 'licensingwalladsforconstructionprojectsgetstepinfo', 'demarcationofplotcornerssecondtimeapplysubmit', 'newtenancycontracttenantpaymentdopayment', 'renewtenancycontractmunicipalassetsstartworkflow', 'engineercancelmecsrolegetstepinfo', 'requestsettingoutofplotstemporaryconfirmsubmit', 'licensingflagsadsstartworkflow', 'demarcationofplotcornersexaminationsearchcurrentcustomerproperties', 'upscarparkingcanopiespermitgetstartaction', 'profilesupdateengsearchpreference', 'lookupgetgovernmententitiesoutsource', 'manageauthorizedsignatoryusersstartworkflow', 'demarcationofplotcornersexaminationstartworkflow', 'demarcationofplotcornerssecondtimeconfirmcancel', 'registerpowerofattorneyapplysubmit', 'requestsiteplanstartworkflow', 'renewtenancycontractmunicipalassetsconfirmsubmit', 'engineerconsultinginvitationgetstartaction', 'lookupsearchmunicipalities', 'licensingtempsignageadsconfirmcancel', 'usergetfinancialobligationblocks', 'profilesgetmypoacontracts', 'licensingstandadsstartworkflow', 'renewcarparkingcanopiesoutsideoftheplotpermitresidentialpaymentcancel', 'siteplangetsiteplanbyplotinfo', 'upscarparkingcanopiespermitpaymentdopayment', 'onwaniaddress', 'licensingmobileadsonbuildingconfirmcancel', 'onwanigisidsearch', 'registerpowerofattorneyapplycancel', 'onwaniaddressingplotinfo', 'licensingflagsadsconfirmcancel', 'renewcarparkingcanopiesoutsideoftheplotpermitresidentialstartworkflow', 'demarcationofplotcornerssecondtimeconfirmsubmit', 'registerguardiangetstartaction', 'cancelguardiangetstepinfo', 'demarcationofplotcornerssecondtimegetstepinfo', 'registerpowerofattorneygetstartaction', 'temporarytentstartworkflow', 'registerguardianstartworkflow', 'renewcarparkingcanopiesoutsideoftheplotpermitresidentialpaymentsubmit', 'renewcarparkingcanopiesoutsideoftheplotpermitresidentialpaymentdopayment', 'upscarparkingcanopiespermitprintpaymentslip', 'verifycoordinatesofbuildingandfenceconfirmcancel', 'cancelguardianstartworkflow', 'licensingmobileadsonbuildinggetstepinfo', 'manageauthorizedsignatoryusersgetstartaction', 'verifycoordinatesofbuildingandfencesearchcurrentcustomerproperties', 'securitysearchdomainusers', 'verifycoordinatesofbuildingandfenceapplysubmit', 'manageauthorizedsignatoryusersapplysubmit', 'upscarparkingcanopiespermitendprint', 'demarcationofplotcornersexaminationapplysubmit', 'renewcarparkingcanopiesoutsideoftheplotpermitresidentialgetstepinfo', 'profilesgetuserprofiledetails', 'registerpowerofattorneysearchfirstpartiesunits', 'renewtenancycontractmunicipalassetsprofilesgetmygovtassetcontracts', 'carshedwithinthelandstartworkflow', 'manageauthorizedsignatoryusersconfirmsubmit', 'verifycoordinatesofbuildingandfencegetstepinfo', 'cancelpowerofattorneygetstartaction', 'manageauthorizedsignatoryusersgetstepinfo', 'lookupgetoffenceclassification', 'requestsettingoutofplotstemporarygetstepinfo', 'upscarparkingcanopiespermitstartworkflow', 'licensingtempwalladsconfirmcancel', 'requestsettingoutofplotstemporaryapplysubmit', 'cancelpowerofattorneystartworkflow', 'demarcationofplotcornersexaminationgetstepinfo', 'renewcarparkingcanopiesoutsideoftheplotpermitresidentialsearchcurrentcustomerproperties', 'demarcationofplotcornerssecondtimeapplycancel', 'licensingfixedadsonbuildinggetstepinfo', 'licensingtempwalladsstartworkflow', 'licensingwalladsforconstructionprojectsconfirmcancel', 'newtenancycontracttenantpaymentsubmit', 'cancelguardiangetstartaction', 'profilesgetloggedincustomerprofile', 'licensingfixedadsonbuildingstartworkflow', 'renewtenancycontractmunicipalassetsconfirmcancel', 'registerpowerofattorneyconfirmback', 'propertymanagementagreementaddunitbyapplicationnumber', 'licensingmobileadsonbuildingstartworkflow', 'profilesgetmywalletdetails', 'verifycoordinatesofbuildingandfenceconfirmback', 'issuingadvertisingpermitssearchcurrentcustomeradvertisepermits', 'profilesgetuserprofilepoacontracts', 'licensingstandadsconfirmcancel', 'registerpowerofattorneyconfirmsubmit', 'licensingtempsignageadsgetstepinfo', 'tawtheeqonlinedashboardgettawtheeqonlinedashboard', 'lookupgettenancycontractstatus', 'upscarparkingcanopiespermitconfirmsubmit', 'demarcationofplotcornersexaminationconfirmsubmit', 'propertymanagementagreementremoveunit', 'requestsettingoutofplotstemporaryconfirmback', 'lookupgetparkingtypes', 'lookupgetwaterfacilitiesservices', 'licensingwalladsforconstructionprojectsstartworkflow', 'customerprofileupdatecreatecustomerprofiledocument', 'licensingstandadsgetstepinfo'}\n",
    "#substring_set = {'agriculturalAndCosmeticPermit','allotmentOfTemporaryPlot','approximatePreviewOfPlotLocation','assignServiceProviderForProject','beachBooking','boundaryWall','cancelFoodTrucksPermit','cancelGuardian','cancelLicensingAds','cancelPowerOfAttorney','cancelPropertyManagementAgreement','cancelTemporaryOutdoorSeatingPermitOrPavementWorks','cancelTenancyContract','carShedWithinTheLand','cdpAssignServiceProvider','certificateOfLandFreeOfBuildings','civilMaterialApproval','closeTenancyContract','commodityPurchaseOrder','consultantAuthorization','consultantsAndContractors','convertPublicHouseToResidentialLand','customerProfileUpdate','deedTransfer','demarcationOfPlotCornersExamination','demarcationOfPlotCornersSecondTime','digitalData','document','electricalMaterialApproval','engineerCancelMECSRole','engineerConsultingInvitation','engineerConsultingInvitationExtension','engineerLicense','engineerLicenseDeactivation','engineerRegistrationServicesWizard','esbService','foodTrucksLocationPermit','foodTrucksPermit','gardenBooking','getOnlineInboxes','getServiceDetails','getStartAction','governmentCustomers','health','iftarTentPermit','increasePlotArea','infraDesignsApproval','integratedServices','interimExtensionForEngineers','interimRegistrationForEngineers','internationalExhibitionPermit','irrigationAndLandscapeMaterialApproval','issueEngineerCertifiedLetters','issuingAdvertisingPermits','issuingLicenseToInstallPublicDrinkingWaterDispenser','issuingLicenseToPublicSwimmingPool','issuingSlaughterhouseEntryCard','landVerificationCertificate','launchProjectPermit','licensingDigitalAdsSigns','licensingDrinkingWaterTankCleanerRegistration','licensingFixedAdsOnBuilding','licensingFlagsAds','licensingMobileAdsOnBuilding','licensingPrimaryDeveloper','licensingRelicensingAccountKeeper','licensingRelicensingAuctioneerCompany','licensingRelicensingAuctioneerIndividual','licensingRelicensingBrokerCompany','licensingRelicensingBrokerEmployee','licensingRelicensingBrokerIndividual','licensingRelicensingEvaluatorCompany','licensingRelicensingEvaluatorIndividual','licensingRelicensingSurveyingCompany','licensingRelicensingSurveyingIndividual','licensingStandAds','licensingSwimmingPoolRegistration','licensingTempSignageAds','licensingTempWallAds','licensingWallAdsForConstructionProjects','licensingWaterDispenserOperatorRegistration','localExhibitionPermit','lookup','mailboxRequest','manageAuthorizedSignatoryUsers','mechanicalMaterialApproval','mediaAnnouncementPermit','mepMaterialApproval','mergeCorridor','mergePlots','modifyPropertyManagementAgreement','modifyTenancyContract','musatahaContractReigstration','newTenancyContract','offers','offPlanBuyAndSellRegistration','offPlanPlotAndUnitBuyAndSellRegistration','offPlanPlotBuyAndSellRegistration','onwani','onwaniMap','openCompanyEmployeeAccount','ownerProfile','participationInSatelliteBasedSurveyNetworkSystem','paymentApprovalForRealestateProjectEscrowAccount','playGroundBooking','plotEvaluationCertificate','plotIndustrialContracts','plotLevelingAndAccessRoadExecution','profiles','projectAssignServiceProvider','projectEscrowAccountAgreement','propertyEnrollment','propertyManagementAgreement','propertyPlotUnits','publicEntrance','ramadanTempTentOutsideResidentialPlot','ranchAllotmentRequest','ranchContractRegistration','realEstateBoothPermit','realEstateInterimOwnershipConfirmation','registerCompany','registerEngineerFirstTime','registerGuardian','registerPowerOfAttorney','registerProject','registerTenancyContractMunicipalAssets','registrationNewRealEstateDevelopmentProject','renewcarparkingCanopiesoutsideoftheplotpermitResidential','renewEngineerRegistration','renewFoodTrucksPermit','renewLicensingAds','renewPropertyManagementAgreement','renewTemporaryOutdoorSeatingPermitOrPavementWorks','renewTenancyContract','renewTenancyContractMunicipalAssets','rentFeeCollection','requestBuyAndSellPlots','requestCompanyPermissions','requestCopyOfDcoumet','requestCreateMortgage','requestLandVerificationCertificate','requestOwnershipDeed','requestPropertyCertificate','requestRefundOfFeesAndAmounts','requestRefundOfInsuranceFees','requestReleaseMortgage','requestSettingOutOfPlotsTemporary','requestSitePlan','requestToDemarcatePlotCorners','requestToDemarcatePlotCornersByOwner','residentialVillaMaintenancePermit','roadWorksApproval','security','sesonalRanchAllotmentRequest','sitePlan','smartHub','spatialDataGenerationRequest','splitPlot','surveyOfBuildingBoundariesSource','tAMMPropertyProfileService','tawtheeqOnlineDashboard','temporaryOutdoorSeatingPermitOrPavementWorks','temporaryRegistrationServicesWizard','temporaryTent','tenancyContractTerminationForIndustrialPlotsAndRanches','tentsforevents','terminateTenancyContract','transferInterimToNewRegistrationForEngineer','transferMortgage','unitEvaluationCertificate','unitOwnershipDeed','unitTransferFirstSell','unitVerificationCertificate','updateEngineerRegistration','updatePropertyInformation','upsApprovalForVillas','upsCarParkingCanopiesPermit','user','userLoginprofiles','userLoginprofilesD10','userLoginprofilesD11','userLoginprofilesD12','userLoginprofilesD13','userLoginprofilesD14','userLoginprofilesD15','userLoginprofilesD16','userLoginprofilesD4','userLoginprofilesD6','userLoginprofilesDT','userLoginprofilesV2','userLoginprofilesV3','userLoginToken','verifyCoordinatesOfBuildingAndFence','verifyCoordinatesOfBuildingAndFenceSource','violationPayment','weddingHallBooking'}\n",
    "\n",
    "string_set = {'licensingflagsadsgetstepinfo'}\n",
    "substring_set = {'licensingflagsads'}\n",
    "custom_field_label = 'Test Data Available'\n",
    "custom_field_value = 'Yes'\n",
    "\n",
    "\n",
    "substrings = extract_substrings(string_set, substring_set)\n",
    "if substrings:\n",
    "    print(f\"Found {len(substrings)} substrings:\")\n",
    "    for s, substring in substrings.items():\n",
    "        issues = search_jira(base_url, username, password, substring, custom_field_label)\n",
    "        if issues:\n",
    "            print(f\"Found {len(issues)} issues for substring '{substring}' in string '{s}':\")\n",
    "            for issue in issues:\n",
    "                issue_key = issue['key']\n",
    "                update_test_data_available(base_url, username, password, issue_key, custom_field_label, custom_field_value)\n",
    "        else:\n",
    "            print(f\"No issues found for substring '{substring}' in string '{s}'.\")\n",
    "else:\n",
    "    print('No substrings found.')"
   ]
  },
  {
   "cell_type": "code",
   "execution_count": null,
   "id": "2299b18e-fde9-469f-9329-d46f83d38de6",
   "metadata": {},
   "outputs": [],
   "source": []
  }
 ],
 "metadata": {
  "kernelspec": {
   "display_name": "Python 3 (ipykernel)",
   "language": "python",
   "name": "python3"
  },
  "language_info": {
   "codemirror_mode": {
    "name": "ipython",
    "version": 3
   },
   "file_extension": ".py",
   "mimetype": "text/x-python",
   "name": "python",
   "nbconvert_exporter": "python",
   "pygments_lexer": "ipython3",
   "version": "3.8.10"
  }
 },
 "nbformat": 4,
 "nbformat_minor": 5
}
