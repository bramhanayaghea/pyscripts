{
 "cells": [
  {
   "cell_type": "code",
   "execution_count": null,
   "id": "63f91282-5b28-4e0b-a003-34c67dec9646",
   "metadata": {},
   "outputs": [],
   "source": [
    "import os\n",
    "import re\n",
    "\n",
    "# List of words to search for\n",
    "search_words = ['eventLicensing/organizers/{id}','eventLicensing/organizers/validateContactMail/{contactMail}/{OrganizedID}','eventLicensing/v2/payment/getRecieptUrl','eventLicensing/event/{id}/venues','eventLicensing/sharedServices/vwTicketPaymentDetails','eventLicensing/event/{eventId}/paymentCallBack','eventLicensing/organizers/getSelfOrganizerByIdNoArea/{Id}','specialLicense/saveNoc','eventLicensing/participant/getById','eventLicensing/event/{id}/lineItems/eventApprovalStatusId','eventLicensing/draft/createEntertainerPermit','eventLicensing/entertainerPermit/{id}/invoices','eventLicensing/masterData/educationLevels','venueBooking/venueUpdatePayment','venueBooking/bookingEvents','specialLicense/specialLicenseByTradeLicense','artWorkshop/deleteOrder','venueBooking/venueBook','hotelLicensing/requests/{id}/payment','eventLicensing/category/{parentId}/childs','eventLicensing/companies/{id}','sso/linkSsoUser','specialLicense/specialLicenseMasterData','artWorkshop/productAvailability','eventLicensing/userNotifications/updateIsRead','eventLicensing/event/workFlow','eventLicensing/userNotifications/count','venueBooking/venueAvailability','artWorkshop/onboardUser','eventLicensing/survey/type','eventLicensing/sponsors','eventLicensing/notifications/{id}','eventLicensing/organizers/getSelfOrganizerProfileStatusCount/{emiratesId}','specialLicense/nocList','eventLicensing/entertainerPermit/permitsListing/count','eventLicensing/organizers/validateCompanyTL/{tlNumber}','specialLicense/specialLicenseProfile','sso/otp','eventLicensing/draft/{id}/delete','eventLicensing/sharedServices/eventTermsAndConditions','hotelLicensing/requests','eventLicensing/draft/entertainerPermit','eventLicensing/organizers/getSelfOrganizerById/{Id}','eventLicensing/organizers/delinkUser','eventLicensing/organizers','eventLicensing/participant/{id}','eventLicensing/participant/submit','hotelLicensing/classificationTypes/{id}','eventLicensing/event/eventsListing/count','hotelLicensing/classificationTypes','venues/{id}','eventLicensing/draft/participant','specialLicense/document','eventLicensing/v2/emailParticipant/sendParticipaintOtp','touristGuideLicensing/registration/licenseEligibility','eventLicensing/participant/sendInvitiationsByEmail','events/getEventDetails','venueBooking/venueCancel','eventLicensing/companies/venusView/count','specialLicense/nocDetails','specialLicense/payment/invoice/{id}','hotelLicensing/requests/{id}/paymentCallBack','specialLicense/temparoryLicenseList','artWorkshop/productDetails','eventLicensing/organizers/removeContact/{contactID}','venueBooking/token','hotelLicensing/hotelLicenseTermsAndConditions/{id}','venueBooking/venueExtend','hotelLicensing/requests/{id}/accounts/type/{id2}','eventLicensing/draft/venue','eventLicensing/event/amend','artWorkshop/productLocations','eventLicensing/organizers/listUsers/count','hotelLicensing/accountTypes','eventLicensing/v2/payment/downloadReceipt','specialLicense/circular','hotelLicensing/hotelLicenseRegions','eventLicensing/masterData/genders','eventLicensing/token','hotelLicensing/common/disclaimer/{id}','eventLicensing/entertainerPermit/{id}/paymentApprovalStatus','venueBooking/venuebooking','venueBooking/bookingEvent','eventLicensing/masterData/userTypes','eventLicensing/participant','eventLicensing/masterData/permitType','eventLicensing/event/{id}/permitStatus','eventLicensing/mstrAreaCategory','eventLicensing/v2/emailParticipant/verifyOtp','eventLicensing/organizers/addContact','eventLicensing/masterData/shapes','venueBooking/venueAmend','artWorkshop/reservationDetails','eventLicensing/draft/entertainerPermit/count','eventLicensing/organizers/addUserForOrganizer','eventLicensing/v2/event/{eventId}/invoices','eventLicensing/organizers/businessLicense','eventLicensing/entertainerPermit/{id}/paymentCallBack','eventLicensing/v2/emailParticipant/verifyToken','eventLicensing/event/getEvent/{id}','venueBooking/eventsAudiences','eventLicensing/event/{id}/cancel','eventLicensing/category/fullCategoryName/{categoryId}','events/getEvents','eventLicensing/mstrParticipantType','eventLicensing/event/{id}','eventLicensing/event/{id}/comments','venues','artWorkshop/createOrder','hotelLicensing/requests/{id}/attachments','eventLicensing/companies/venusView','specialLicense/payment/paymentCallBack/{id}','eventLicensing/entertainerPermit/ammentComment','hotelLicensing/requests/{id}/facilities','eventLicensing/organizers/getSelfOrganizerProfileStatus/{emiratesId}','hotelLicensing/requests/{id}/attachmentTypes','eventLicensing/masterData/permitActivity','artWorkshop/productList','venueBooking/termsConditions','eventLicensing/sharedServices/fileContent','eventLicensing/masterData/notificationCategory','sso/v2/ssoUserDetails','eventLicensing/userNotifications/getAllNoAttachment','hotelLicensing/requests/{id}/accounts/{id2}','eventLicensing/event/submit','eventLicensing/organizers/validateContactMail/{contactMail}','token','eventLicensing/organizers/getSelfOrganizercount/{emiratesId}','hotelLicensing/requests/{id}/submit','artWorkshop/orderVoucher','eventLicensing/masterData/visaTypes','eventLicensing/masterData/professions','hotelLicensing/createHotelLicenseRequest','eventLicensing/masterData/marketingCategories','eventLicensing/organizers/validateCompanyTL/{tlNumber}/{OrganizedID}','hotelLicensing/requests/{id}/projectdetails','eventLicensing/draft/{id}/{entityName}','specialLicense/token','eventLicensing/venueCities','eventLicensing/participant/count','eventLicensing/v2/sharedServices/vwPaymentDetails','eventLicensing/organizers/listUsers','hotelLicensing/unitGroups','eventLicensing/masterData/religions','eventLicensing/sharedServices/entertainmentPermitTermsAndConditions','eventLicensing/organizers/validateCompanyName/{companyName}','eventLicensing/sharedServices/getActionNotificationByUserId','venueBooking/venueUserProfile','eventLicensing/venueCities/all','eventLicensing/entertainerPermit/{id}/cancel','eventLicensing/organizers/getSelfOrganizer/{userName}','eventLicensing/organizers/submit','artWorkshop/updateReservation','hotelLicensing/classificationTypes/{id}/ratings','artWorkshop/createAwInvoice','venueBooking/venueUserProfilePost','eventLicensing/participant/emailValid','artWorkshop/token','sso/modifySsoUserDetails','venueBooking/rentalFees','artWorkshop/productOrderDetails','eventLicensing/countries','eventLicensing/sharedServices/vwTicketPaymentDetails/count','eventLicensing/organizers/validateUserAssociation','eventLicensing/v2/emailParticipant/expireToken','artWorkshop/artWorkShopOrders','events/token','eventLicensing/masterData/permitIssuePeriod','hotelLicensing/requests/{id}/accounts','eventLicensing/entertainerPermit/{id}/permitVoucherViewModel','eventLicensing/organizersView','eventLicensing/organizers/validateCompanyName/{companyName}/{organizedID}','artWorkshop/createReservation','hotelLicensing/unitGroups/{id}/UnitTypes','eventLicensing/entertainerPermit/{id}','eventLicensing/survey/questions','eventLicensing/v2/areaList/shapes','specialLicense/temparoryLicense','eventLicensing/sharedServices/vwPaymentDetails','eventLicensing/sharedServices/roleSections','eventLicensing/participant/passportValid','eventLicensing/activities','eventLicensing/file','touristGuideLicensing/token','venueBooking/venueInfo','eventLicensing/entertainerPermit/submit','specialLicense/specialLicenseVenues','eventLicensing/draft/createEvent','eventLicensing/sharedServices/updateActionNotification','eventLicensing/masterData/socialNetworkType','sso/v3/ssoUserDetails','eventLicensing/draft/event','eventLicensing/sharePoint/getTaskItemStatus','eventLicensing/survey/submit','eventLicensing/draft/event/count','eventLicensing/masterData/passportTypes','hotelLicensing/attachmentTypes','venueBooking/eventTypes','hotelLicensing/token','specialLicense/saveDocument','eventLicensing/masterData/nationalities','eventLicensing/marketing/getByEventId/{id}','eventLicensing/draft/venue/count','venueBooking/organizationTypes','eventLicensing/participant/emiratesIdValid','eventLicensing/entertainerPermit/{id}/approvalStatus/{approvalStatusId}','eventLicensing/entertainerPermit/workFlow','eventLicensing/masterData/speakerLanguages','eventLicensing/organizationCategories','eventLicensing/attachments/byCode/{code}','sso/createSsoUser','venueBooking/venueApplication','venueBooking/venueApplicationDetail','eventLicensing/organizers/{id}/isEligibleForApply','eventLicensing/venue/submit','eventLicensing/entertainerPermit/amend','hotelLicensing/permits','hotelLicensing/requests/{id}/status','venueBooking/emirates','eventLicensing/organizersView/count','eventLicensing/organizers/setAdminUser','hotelLicensing/requests/{id}','eventLicensing/category','eventLicensing/entertainerPermit/permitsListing','artWorkshop/updateAwInvoice','eventLicensing/event/eventsListing','eventLicensing/sharedServices/pdfLicense','eventLicensing/licenseType','artWorkshop/updateOrder','eventLicensing/participant/amend/{id}','eventLicensing/countries/{id}/cities','artWorkshop/profiles/{id}','artWorkshop/productCategories','eventLicensing/entertainerPermit/{id}/renew','eventLicensing/v2/entertainerPermit/{permitId}/invoices','eventLicensing/companies/area/{id}','sso/token','eventLicensing/draft/participant/count','eventLicensing/entertainerPermit/{permitId}/getApproved','hotelLicensing/requests/{id}/permit','venueBooking/venueEvents','hotelLicensing/accountTypes/{id}']\n",
    "\n",
    "# Directory path to search in\n",
    "dir_path = 'C:\\\\JDeveloper\\\\mywork\\\\Adda_Prod\\\\TammMicroservices\\\\DCT'\n",
    "\n",
    "# Loop through all directories, subdirectories, and files in the directory tree\n",
    "for root, dirs, files in os.walk(dir_path):\n",
    "    for filename in files:\n",
    "        # Check if file has the extension .xqy or .pipeline\n",
    "        if filename.lower().endswith(('.xqy', '.pipeline','.js')):\n",
    "            # Get full file path\n",
    "            file_path = os.path.join(root, filename)\n",
    "            # Check if search word is in filename\n",
    "            for search_word in search_words:\n",
    "                search_parts = search_word.lower().split('/')\n",
    "                if search_parts[0] in filename.lower():\n",
    "                   # print(f\"Found '{search_word}' in file '{file_path}' filename\")\n",
    "                     print(\"\")\n",
    "                # Open file and read its contents\n",
    "                with open(file_path, 'r') as f:\n",
    "                    file_contents = f.read().lower() # Convert contents to lowercase\n",
    "                    # Check if last part of search word is in file contents\n",
    "                    last_part = search_parts[-1]\n",
    "                    \n",
    "                    if '{}' in file_contents:\n",
    "                        # Search contents for second last part of search word\n",
    "                        if len(search_parts) > 2:\n",
    "                            last_but_one_part = search_parts[-2]\n",
    "                            for word in [last_but_one_part, last_part]:\n",
    "                                if word in file_contents:\n",
    "                                    print(f\"Found '{word}' in file '{file_path}' contents\")\n",
    "                        else:\n",
    "                            if last_part in file_contents:\n",
    "                                print(f\"Found '{last_part}' in file '{file_path}' contents\")\n",
    "                    else:\n",
    "                        if last_part in file_contents:\n",
    "                            print(f\"Found '{last_part}' in file '{file_path}' contents\")"
   ]
  }
 ],
 "metadata": {
  "kernelspec": {
   "display_name": "Python 3 (ipykernel)",
   "language": "python",
   "name": "python3"
  },
  "language_info": {
   "codemirror_mode": {
    "name": "ipython",
    "version": 3
   },
   "file_extension": ".py",
   "mimetype": "text/x-python",
   "name": "python",
   "nbconvert_exporter": "python",
   "pygments_lexer": "ipython3",
   "version": "3.8.10"
  }
 },
 "nbformat": 4,
 "nbformat_minor": 5
}
