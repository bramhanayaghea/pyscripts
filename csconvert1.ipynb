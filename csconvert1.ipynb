{
 "cells": [
  {
   "cell_type": "code",
   "execution_count": 6,
   "id": "378e5977-302f-4905-a0b8-5e6069e4fa5d",
   "metadata": {
    "tags": []
   },
   "outputs": [],
   "source": [
    "# Importing the required modules\n",
    "import os\n",
    "import sys\n",
    "import pandas as pd\n",
    "from bs4 import BeautifulSoup\n",
    "  \n",
    "path = r'C:/Users/inbra/OneDrive - Software AG/Documents/Adda/testReports'\n",
    "  \n",
    "\n",
    "for filename in os.listdir(path):\n",
    "     if filename.endswith('.html'):\n",
    "            \n",
    "            from lxml.html.clean import Cleaner\n",
    "            \n",
    "            # empty list\n",
    "            data = []\n",
    "            # for getting the header from\n",
    "            # the HTML file\n",
    "            list_header = []\n",
    "            filename= os.path.join(path,filename)\n",
    "            soup = BeautifulSoup(open(filename,'r',encoding='utf-8'),'html.parser')\n",
    "            header = soup.find_all(\"table\")[0].find(\"tr\")\n",
    "\n",
    "            for items in header:\n",
    "                try:\n",
    "                    list_header.append(items.get_text())\n",
    "                except:\n",
    "                    continue\n",
    "\n",
    "            # for getting the data\n",
    "            HTML_data = soup.find_all(\"table\")[0].find_all(\"tr\")[1:]\n",
    "\n",
    "            for element in HTML_data:\n",
    "                sub_data = []\n",
    "                for sub_element in element:\n",
    "                    try:\n",
    "                        sub_data.append(sub_element.get_text())\n",
    "                        sub_data.encode\n",
    "                    except:\n",
    "                        continue\n",
    "                data.append(sub_data)\n",
    "                \n",
    "\n",
    "            # Storing the data into Pandas\n",
    "            # DataFrame\n",
    "            dataFrame = pd.DataFrame(data = data, columns = list_header)\n",
    "\n",
    "            # Converting Pandas DataFrame\n",
    "            # into CSV file\n",
    "            csv_filename = filename.replace('.html','.csv')\n",
    "            dataFrame.to_csv(csv_filename)"
   ]
  },
  {
   "cell_type": "code",
   "execution_count": null,
   "id": "ae80faf6-3107-4402-9d6a-187dd192b832",
   "metadata": {},
   "outputs": [],
   "source": []
  },
  {
   "cell_type": "code",
   "execution_count": null,
   "id": "6e10cdbc-cd9a-49b5-9eb1-ba50e8f546ab",
   "metadata": {},
   "outputs": [],
   "source": []
  }
 ],
 "metadata": {
  "kernelspec": {
   "display_name": "Python 3 (ipykernel)",
   "language": "python",
   "name": "python3"
  },
  "language_info": {
   "codemirror_mode": {
    "name": "ipython",
    "version": 3
   },
   "file_extension": ".py",
   "mimetype": "text/x-python",
   "name": "python",
   "nbconvert_exporter": "python",
   "pygments_lexer": "ipython3",
   "version": "3.8.10"
  }
 },
 "nbformat": 4,
 "nbformat_minor": 5
}
