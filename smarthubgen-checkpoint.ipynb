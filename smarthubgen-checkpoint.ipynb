{
 "cells": [
  {
   "cell_type": "code",
   "execution_count": null,
   "id": "81f0768c-15eb-47af-9679-f86ba1bb1033",
   "metadata": {},
   "outputs": [],
   "source": [
    "import pandas as pd\n",
    "\n",
    "# Define APIs and operations\n",
    "apis = ['requestReleaseMortgage','unitTransferFirstSell','temporaryOutdoorSeatingPermitOrPavementWorks','transferMortgage','requestCreateMortgage','offPlanBuyAndSellRegistration','offPlanPlotBuyAndSellRegistration','violationAppealRequest','inspection','manageAuthorizedSignatoryUsers','townPlanningApprovalForEconomicActivityOnResOrInvLand','mOIAccountVerification','openCustomerWallet','rechargeCustomerWallet','report','registerFacilitiesSpecializedWaterQuality','renewTenancyContractMunicipalAssets','commodityPurchaseOrder','weddingHallBooking','registerCommodityServiceCard','propertyRegistration','user','lookup','issuingLicenseToInstallPublicDrinkingWaterDispenser','theaterBooking','customer','registerTenancyContractMunicipalAssets','modifyPropertyManagementAgreement']\n",
    "operations = ['{serviceName}/applyCancel','{serviceName}/applySubmit','{serviceName}/auditSubmit','{serviceName}/bankApprovalApprove','{serviceName}/bankApprovalBack','{serviceName}/bankApprovalReject','{serviceName}/bankStudyReject','{serviceName}/bankStudySubmit','{serviceName}/bankStudySubmitToFeedBack','{serviceName}/completePrint','{serviceName}/completeSubmit','{serviceName}/confirmBack','{serviceName}/confirmCancel','{serviceName}/confirmPersonalInfo','{serviceName}/confirmResidencyInfo','{serviceName}/confirmSubmit','{serviceName}/electricityBillUploadSubmit','{serviceName}/endPrint','{serviceName}/endPrintOffPlanContractSticker','{serviceName}/endPrintOffPlanMortgageSticker','{serviceName}/feedbackCancel','{serviceName}/feedbackSubmit','{serviceName}/getActiveContracts','{serviceName}/getAllCommodityOrderDetails','{serviceName}/GetBookingPurposes','{serviceName}/getCommodityCardsRemainingCards','{serviceName}/getCommodityCategories','{serviceName}/getCommodityOrderDetails','{serviceName}/getCommoditySubCategories','{serviceName}/getDocumentTypeNots','{serviceName}/getDraftCommodityOrder','{serviceName}/getOrderDetails','{serviceName}/getQCCCetificate','{serviceName}/getStartAction','{serviceName}/getStepInfo','{serviceName}/licensingConfirmSubmit','{serviceName}/ModifyBooking','{serviceName}/paymentCancel','{serviceName}/paymentDoPayment','{serviceName}/paymentSubmit','{serviceName}/printPaymentSlip','{serviceName}/renameCommodityOrder','{serviceName}/requestVerificationCancel','{serviceName}/requestVerificationSubmit','{serviceName}/retrievePersonInfo','{serviceName}/saveCart','{serviceName}/setCommodityOrderAsfavourite','{serviceName}/ssoLogin','{serviceName}/startAddViolation','{serviceName}/startGetViolationsList','{serviceName}/startWorkflow','{serviceName}/updateCauseRemoval']\n",
    "\n",
    "# Prepare data\n",
    "data = {\n",
    "    'rest_endpoint': [],\n",
    "    'operation': [],\n",
    "    'operationMapping': [],\n",
    "}\n",
    "\n",
    "# Generate data\n",
    "for api in apis:\n",
    "    for operation in operations:\n",
    "        operation = operation.replace(\"{serviceName}\", api)\n",
    "        data['rest_endpoint'].append('/smartHub/' + operation)\n",
    "        data['operation'].append('/' + operation)\n",
    "        data['operationMapping'].append('/' + operation)\n",
    "\n",
    "# Create DataFrame and save as Excel\n",
    "df = pd.DataFrame(data)\n",
    "df.to_excel('smathub_endpoints.xlsx', index=False)\n"
   ]
  }
 ],
 "metadata": {
  "kernelspec": {
   "display_name": "Python 3 (ipykernel)",
   "language": "python",
   "name": "python3"
  },
  "language_info": {
   "codemirror_mode": {
    "name": "ipython",
    "version": 3
   },
   "file_extension": ".py",
   "mimetype": "text/x-python",
   "name": "python",
   "nbconvert_exporter": "python",
   "pygments_lexer": "ipython3",
   "version": "3.8.10"
  }
 },
 "nbformat": 4,
 "nbformat_minor": 5
}
