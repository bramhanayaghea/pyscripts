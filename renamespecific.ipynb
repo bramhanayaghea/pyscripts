{
 "cells": [
  {
   "cell_type": "code",
   "execution_count": 3,
   "id": "ca7feb1c-7645-4aa7-acf9-d00e22064606",
   "metadata": {
    "tags": []
   },
   "outputs": [],
   "source": [
    "import os\n",
    "\n",
    "\n",
    "#strings_to_match = {'agriculturalAndCosmeticPermit','allotmentOfTemporaryPlot','approximatePreviewOfPlotLocation','assignServiceProviderForProject','beachBooking','boundaryWall','cancelFoodTrucksPermit','cancelGuardian'}\n",
    "\n",
    "# Root directory to search for files\n",
    "root_dir = 'C:\\\\Users\\\\inbra\\\\testAutomate\\\\adm\\\\TammJourneyAdm_2.0_31_03_2023\\\\renamed'\n",
    "\n",
    "\n",
    "            \n",
    "# Loop over all files in the root directory\n",
    "for filename in os.listdir(root_dir):\n",
    "    if os.path.isfile(os.path.join(root_dir, filename)):\n",
    "        new_filename = filename\n",
    "        new_filename = new_filename.replace('__', '_')\n",
    "        new_filename = new_filename.replace('onwani_Map', 'onwaniMap')\n",
    "        src_path = os.path.join(root_dir, filename)\n",
    "        dst_path = os.path.join(root_dir, new_filename)\n",
    "        os.rename(src_path, dst_path)\n"
   ]
  },
  {
   "cell_type": "code",
   "execution_count": null,
   "id": "75ce59a9-c5b1-4dbc-92dc-1d73049407fa",
   "metadata": {},
   "outputs": [],
   "source": []
  }
 ],
 "metadata": {
  "kernelspec": {
   "display_name": "Python 3 (ipykernel)",
   "language": "python",
   "name": "python3"
  },
  "language_info": {
   "codemirror_mode": {
    "name": "ipython",
    "version": 3
   },
   "file_extension": ".py",
   "mimetype": "text/x-python",
   "name": "python",
   "nbconvert_exporter": "python",
   "pygments_lexer": "ipython3",
   "version": "3.8.10"
  }
 },
 "nbformat": 4,
 "nbformat_minor": 5
}
