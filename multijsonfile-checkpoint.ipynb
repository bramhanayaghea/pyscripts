{
 "cells": [
  {
   "cell_type": "code",
   "execution_count": 3,
   "id": "a7cd52eb-65ee-43a7-b4d5-b079c0f46cee",
   "metadata": {
    "tags": []
   },
   "outputs": [
    {
     "name": "stdout",
     "output_type": "stream",
     "text": [
      "File TammJourneyAdm_2_0_carShedWithinTheLandgetStepInfo_post_20230118160000000_NativeRequestHeader.json contains two JSON strings.\n",
      "File TammJourneyAdm_2_0_carShedWithinTheLandgetStepInfo_post_20230118160000000_NativeResponse.json contains two JSON strings.\n",
      "File TammJourneyAdm_2_0_carShedWithinTheLandgetStepInfo_post_20230118160000000_NativeResponseHeader.json contains two JSON strings.\n",
      "File TammJourneyAdm_2_0_carShedWithinTheLandgetStepInfo_post_20230118160000000_RequestHeader.json contains two JSON strings.\n",
      "File TammJourneyAdm_2_0_carShedWithinTheLandgetStepInfo_post_20230118160000000_Response.json contains two JSON strings.\n",
      "File TammJourneyAdm_2_0_carShedWithinTheLandgetStepInfo_post_20230118160000000_ResponseHeader.json contains two JSON strings.\n"
     ]
    }
   ],
   "source": [
    "import os\n",
    "import json\n",
    "\n",
    "def contains_two_json_strings(file_path):\n",
    "    with open(file_path, 'r', encoding='utf-8') as file:\n",
    "        content = file.read()\n",
    "        \n",
    "    content = content.replace('\\n', '')\n",
    "    open_brackets = 0\n",
    "    closing_brackets = 0\n",
    "    split_index = -1\n",
    "\n",
    "    for index, char in enumerate(content):\n",
    "        if char == '{':\n",
    "            open_brackets += 1\n",
    "        elif char == '}':\n",
    "            closing_brackets += 1\n",
    "\n",
    "            if open_brackets == closing_brackets and open_brackets > 1:\n",
    "                split_index = index\n",
    "                break\n",
    "\n",
    "    if split_index == -1:\n",
    "        return False\n",
    "\n",
    "    try:\n",
    "        json.loads(content[:split_index+1])\n",
    "        json.loads(content[split_index+1:])\n",
    "        return True\n",
    "    except json.JSONDecodeError:\n",
    "        return False\n",
    "\n",
    "directory = 'C:\\\\Users\\\\inbra\\\\testAutomate\\\\adm\\\\TammJourneyAdm_2.0_31_03_2023\\\\renamed'  # Change this to the desired directory\n",
    "#directory = 'C:\\\\Users\\\\inbra\\\\OneDrive - Software AG\\\\Documents\\\\Adda\\\\msc\\\\ADM\\\\testData\\\\tst'\n",
    "\n",
    "for filename in os.listdir(directory):\n",
    "    file_path = os.path.join(directory, filename)\n",
    "    \n",
    "    if os.path.isfile(file_path) and contains_two_json_strings(file_path):\n",
    "        print(f\"File {filename} contains two JSON strings.\")\n"
   ]
  },
  {
   "cell_type": "code",
   "execution_count": null,
   "id": "7b1c64d7-81f9-4613-9cc0-72d966b8b747",
   "metadata": {},
   "outputs": [],
   "source": []
  }
 ],
 "metadata": {
  "kernelspec": {
   "display_name": "Python 3 (ipykernel)",
   "language": "python",
   "name": "python3"
  },
  "language_info": {
   "codemirror_mode": {
    "name": "ipython",
    "version": 3
   },
   "file_extension": ".py",
   "mimetype": "text/x-python",
   "name": "python",
   "nbconvert_exporter": "python",
   "pygments_lexer": "ipython3",
   "version": "3.8.10"
  }
 },
 "nbformat": 4,
 "nbformat_minor": 5
}
