{
 "cells": [
  {
   "cell_type": "code",
   "execution_count": null,
   "id": "5dc9d287-e834-4905-8a04-770a771f5d23",
   "metadata": {
    "tags": []
   },
   "outputs": [],
   "source": [
    "import json\n",
    "import os\n",
    "\n",
    "def search_for_401(directory):\n",
    "    for root, dirs, files in os.walk(directory):\n",
    "        for file in files:\n",
    "            if file.endswith(\".json\"):\n",
    "                with open(os.path.join(root, file), \"r\", encoding='utf-8') as f:\n",
    "                    try:\n",
    "                        data = json.load(f)\n",
    "                        if \"code 401\" in str(data):\n",
    "                            print(f\"Match found in {os.path.join(root, file)}:\")\n",
    "                            for num, line in enumerate(f, 1):\n",
    "                                if \"code 401\" in line:\n",
    "                                    print(f\"Line {num}: {line}\")\n",
    "                    except json.JSONDecodeError as e:\n",
    "                        print(f\"Error reading {os.path.join(root, file)}: {e}\")\n",
    "\n",
    "\n",
    "# Root directory to search for files\n",
    "root_dir = 'C:\\\\Users\\\\inbra\\\\OneDrive - Software AG\\\\Documents\\\\Adda\\\\msc\\\\ADM\\\\testData\\\\REST_APIs'\n",
    "search_for_401(root_dir)"
   ]
  },
  {
   "cell_type": "code",
   "execution_count": null,
   "id": "edc379f9-a67d-46fb-8a9d-033e2c5ff48f",
   "metadata": {},
   "outputs": [],
   "source": []
  }
 ],
 "metadata": {
  "kernelspec": {
   "display_name": "Python 3 (ipykernel)",
   "language": "python",
   "name": "python3"
  },
  "language_info": {
   "codemirror_mode": {
    "name": "ipython",
    "version": 3
   },
   "file_extension": ".py",
   "mimetype": "text/x-python",
   "name": "python",
   "nbconvert_exporter": "python",
   "pygments_lexer": "ipython3",
   "version": "3.8.10"
  }
 },
 "nbformat": 4,
 "nbformat_minor": 5
}
