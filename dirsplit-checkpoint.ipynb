{
 "cells": [
  {
   "cell_type": "code",
   "execution_count": 11,
   "id": "da578c1d-afd1-419f-a7f4-813c3f5dbca1",
   "metadata": {
    "tags": []
   },
   "outputs": [],
   "source": [
    "import os\n",
    "import shutil\n",
    "\n",
    "def group_files(directory):\n",
    "    # Create a new subdirectory for the first group of files\n",
    "    i = 0\n",
    "    subdirectory = os.path.join(directory, f\"group_{i}\")\n",
    "    os.makedirs(subdirectory, exist_ok=True)\n",
    "    count = 0\n",
    "\n",
    "    # Loop over all files in the directory\n",
    "    for filename in os.listdir(directory):\n",
    "        # Ignore any subdirectories\n",
    "        if os.path.isdir(os.path.join(directory, filename)):\n",
    "            continue\n",
    "\n",
    "        # Move the file to the current subdirectory\n",
    "        shutil.move(os.path.join(directory, filename), os.path.join(subdirectory, filename))\n",
    "\n",
    "        # Increment the count of files in the current subdirectory\n",
    "        count += 1\n",
    "\n",
    "        # If the current subdirectory contains 1000 files, create a new one\n",
    "        if count == 12500:\n",
    "            i += 1\n",
    "            subdirectory = os.path.join(directory, f\"group_{i}\")\n",
    "            os.makedirs(subdirectory, exist_ok=True)\n",
    "            count = 0\n"
   ]
  },
  {
   "cell_type": "code",
   "execution_count": 12,
   "id": "ca8ce429-1b6a-452c-8cc6-f231788a32a8",
   "metadata": {
    "tags": []
   },
   "outputs": [],
   "source": [
    "group_files(\"C:\\\\Users\\\\inbra\\\\testAutomate\\\\adm\\\\TammJourneyAdm_2.0_31_03_2023\\\\renamed\\group_2\\group_0\")\n"
   ]
  },
  {
   "cell_type": "code",
   "execution_count": null,
   "id": "a2fda801-b324-421e-9d33-41c662cc9cb1",
   "metadata": {},
   "outputs": [],
   "source": []
  }
 ],
 "metadata": {
  "kernelspec": {
   "display_name": "Python 3 (ipykernel)",
   "language": "python",
   "name": "python3"
  },
  "language_info": {
   "codemirror_mode": {
    "name": "ipython",
    "version": 3
   },
   "file_extension": ".py",
   "mimetype": "text/x-python",
   "name": "python",
   "nbconvert_exporter": "python",
   "pygments_lexer": "ipython3",
   "version": "3.8.10"
  }
 },
 "nbformat": 4,
 "nbformat_minor": 5
}
