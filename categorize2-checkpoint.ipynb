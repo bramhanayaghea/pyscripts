{
 "cells": [
  {
   "cell_type": "code",
   "execution_count": 7,
   "id": "7e8208ad-8d33-4336-9cfa-439e48bc2a81",
   "metadata": {
    "tags": []
   },
   "outputs": [
    {
     "name": "stdout",
     "output_type": "stream",
     "text": [
      "['API Name', 'API Version', 'Operation Name', 'Response Status', 'Native Request Status', 'Native Response Status', 'Overall Status', 'Header_Resp_status', 'NativeHeader_Req_Status', 'NativeHeader_Resp_Status', 'Request Number', 'ErrorMsg', 'NativeErrorMsg', 'NativeRespErrorMsg', 'Request', 'Expected Response', 'Actual Response', 'Native Expected Request', 'Native Actual Request', 'Native Expected Response', 'Native Actual Response', 'HeaderReq', 'Header_Exp_Resp', 'Header_Act_Resp', 'NativeHeader_Exp_Req', 'NativeHeader_Act_Req', 'NativeHeader_Exp_Resp', 'NativeHeader_Act_Resp', 'HeaderErrMsg', 'HeaderNativeReqErrMsg', 'HeaderNativeRespErrMsg', 'Total Operations Executed', 'Total Success', 'Total Failed', 'Total Others']\n"
     ]
    },
    {
     "name": "stderr",
     "output_type": "stream",
     "text": [
      "C:\\Users\\inbra\\AppData\\Local\\Temp\\ipykernel_31408\\838084469.py:21: SettingWithCopyWarning: \n",
      "A value is trying to be set on a copy of a slice from a DataFrame\n",
      "\n",
      "See the caveats in the documentation: https://pandas.pydata.org/pandas-docs/stable/user_guide/indexing.html#returning-a-view-versus-a-copy\n",
      "  matchedDF.drop(['Error_Description'], axis=1, inplace=True);\n"
     ]
    }
   ],
   "source": [
    "\n",
    "import pandas as pd\n",
    "# Load in the input\n",
    "df1 = pd.read_excel('C:/Users/inbra/OneDrive - Software AG/Documents/Adda/testReports/total_report_errors.xlsx')\n",
    "# Load in the output\n",
    "df2 = pd.read_excel('C:/Users/inbra/OneDrive - Software AG/Documents/Adda/archive/ErrorCategories_1.xlsx')\n",
    "print(list(df1))\n",
    "\n",
    "df1['join'] = 1\n",
    "df2['join'] = 1\n",
    "  \n",
    "dataFrameFull = df1.merge(\n",
    "  df2, on='join').drop('join', axis=1)\n",
    "  \n",
    "df2.drop('join', axis=1, inplace=True)\n",
    "\n",
    "\n",
    "  \n",
    "dataFrameFull['match'] = dataFrameFull.apply(\n",
    "    lambda x: str(x.ErrorMsg).find(x.Error_Description), axis=1).ge(0)\n",
    "matchedDF=dataFrameFull[dataFrameFull['match']]\n",
    "matchedDF.drop(['Error_Description'], axis=1, inplace=True);\n",
    "matchedDF.to_excel('C:/Users/inbra/OneDrive - Software AG/Documents/Adda/testReports/result.xlsx')\n",
    "\n"
   ]
  },
  {
   "cell_type": "code",
   "execution_count": null,
   "id": "6034a1d0-2c3d-4894-b463-609f4a3bfd70",
   "metadata": {},
   "outputs": [],
   "source": []
  },
  {
   "cell_type": "code",
   "execution_count": null,
   "id": "03df080f-da21-4c54-a749-1c9a50084857",
   "metadata": {},
   "outputs": [],
   "source": []
  }
 ],
 "metadata": {
  "kernelspec": {
   "display_name": "Python 3 (ipykernel)",
   "language": "python",
   "name": "python3"
  },
  "language_info": {
   "codemirror_mode": {
    "name": "ipython",
    "version": 3
   },
   "file_extension": ".py",
   "mimetype": "text/x-python",
   "name": "python",
   "nbconvert_exporter": "python",
   "pygments_lexer": "ipython3",
   "version": "3.8.10"
  }
 },
 "nbformat": 4,
 "nbformat_minor": 5
}
