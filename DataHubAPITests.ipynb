{
 "cells": [
  {
   "cell_type": "code",
   "execution_count": 1,
   "metadata": {},
   "outputs": [],
   "source": [
    "from requests.auth import HTTPBasicAuth\n",
    "import requests\n",
    "import json\n",
    "import time"
   ]
  },
  {
   "cell_type": "markdown",
   "metadata": {},
   "source": [
    "#### Deploy a new model"
   ]
  },
  {
   "cell_type": "code",
   "execution_count": 2,
   "metadata": {},
   "outputs": [
    {
     "name": "stdout",
     "output_type": "stream",
     "text": [
      "project >>>>  200\n"
     ]
    }
   ],
   "source": [
    "payload = \"{\\\"name\\\":\\\"Project06\\\",\\\"description\\\":\\\"A dummy project\\\"}\"\n",
    "\n",
    "auth = HTTPBasicAuth('vinaykumar','Testing@1234')\n",
    "\n",
    "projectURL = \"https://zmk.latest.stage.c8y.io/service/mlw/projects\"\n",
    "project = requests.post(projectURL,data=payload,auth=auth)\n",
    "projectID = json.loads(project.text)['id']\n",
    "\n",
    "print(\"project >>>> \",project.status_code)"
   ]
  },
  {
   "cell_type": "code",
   "execution_count": 3,
   "metadata": {},
   "outputs": [],
   "source": [
    "import unittest\n",
    "\n",
    "class TestCDHIntegration(unittest.TestCase):\n",
    "\n",
    "\n",
    "    # Test case for Deploying a Model\n",
    "    def test_DataHub_Success(self):\n",
    "        url = \"https://zmk.latest.stage.c8y.io/service/mlw/projects/\"+projectID+\"/resources/importFromDatahub/data\"\n",
    "        sqlQuery = {\"sql\": 'select * from t23897369DataLake.\"c8y-dremio\".t23897369.alarms',\n",
    "                    \"fileName\":\"myData123\"}\n",
    "        # payload = sqlQuery\n",
    "        payload = json.dumps(sqlQuery)\n",
    "        headers = {\n",
    "        'Content-Type': 'application/json'\n",
    "        }\n",
    "        response = requests.post(url,data=payload,headers=headers,auth=auth)\n",
    "        resp=json.loads(response.text)\n",
    "        self.assertEqual(response.status_code,200)\n",
    "        self.assertEqual(resp['type'],\"DATAHUB\")\n",
    "        self.assertEqual(resp['name'].split(\"_\")[0],\"myData123\")\n",
    "        self.assertEqual(resp['status'],\"RUNNING\")\n",
    "        self.assertEqual(resp['projectName'],\"Project06\")\n",
    "        self.assertEqual(resp['recurrence'],\"ONE_TIME\")\n",
    "        self.assertEqual(resp['properties'][0]['key'],\"file_name\")\n",
    "        self.assertEqual(resp['properties'][0]['value'],\"myData123\")\n",
    "        self.assertEqual(resp['individualTasks'][list(resp['individualTasks'].keys())[0]]['status'],\"RUNNING\")\n",
    "        self.assertEqual(resp['individualTasks'][list(resp['individualTasks'].keys())[0]]['type'],\"DATAHUB\")\n",
    "        self.assertEqual(resp['individualTasks'][list(resp['individualTasks'].keys())[0]]['id'].split(\"_\")[1],\"DataHub\")\n",
    "        tasksID=resp['id']\n",
    "        time.sleep(10)\n",
    "        url='https://zmk.latest.stage.c8y.io/service/mlw/tasks/'+tasksID\n",
    "        resp=requests.get(url,auth=auth)\n",
    "        respTasks1=json.loads(resp.text)\n",
    "        listOfTaskIndi=[i['id'] for i in respTasks1['individualTasks']]\n",
    "        indTaskID=listOfTaskIndi[0]\n",
    "        self.assertEqual(respTasks1['individualTasks'][0]['projectID'],projectID)\n",
    "        urlTask2='https://zmk.latest.stage.c8y.io/service/mlw/tasks/'+tasksID+'/task/'+indTaskID\n",
    "        resp=requests.get(urlTask2,auth=auth)\n",
    "        respTasks3=json.loads(resp.content)\n",
    "        self.assertEqual(respTasks3['status'],'COMPLETED')\n",
    "\n",
    "    \n",
    "    def test_DataHub_Failure(self):\n",
    "        url = \"https://zmk.latest.stage.c8y.io/service/mlw/projects/\"+projectID+\"/resources/importFromDatahub/data\"\n",
    "        sqlQuery = {\"sql\": 'select * from t23897369DataLake.\"c8y-dremio\".t23897369.alar',\n",
    "                    \"fileName\":\"myData1234\"}\n",
    "        # payload = sqlQuery\n",
    "        payload = json.dumps(sqlQuery)\n",
    "        headers = {\n",
    "        'Content-Type': 'application/json'\n",
    "        }\n",
    "        response = requests.post(url,data=payload,headers=headers,auth=auth)\n",
    "        resp=json.loads(response.text)\n",
    "        self.assertEqual(response.status_code,200)\n",
    "        self.assertEqual(resp['type'],\"DATAHUB\")\n",
    "        self.assertEqual(resp['name'].split(\"_\")[0],\"myData1234\")\n",
    "        self.assertEqual(resp['status'],\"RUNNING\")\n",
    "        self.assertEqual(resp['projectName'],\"Project06\")\n",
    "        self.assertEqual(resp['recurrence'],\"ONE_TIME\")\n",
    "        self.assertEqual(resp['properties'][0]['key'],\"file_name\")\n",
    "        self.assertEqual(resp['properties'][0]['value'],\"myData1234\")\n",
    "        self.assertEqual(resp['individualTasks'][list(resp['individualTasks'].keys())[0]]['status'],\"RUNNING\")\n",
    "        self.assertEqual(resp['individualTasks'][list(resp['individualTasks'].keys())[0]]['type'],\"DATAHUB\")\n",
    "        self.assertEqual(resp['individualTasks'][list(resp['individualTasks'].keys())[0]]['id'].split(\"_\")[1],\"DataHub\")\n",
    "        tasksID=resp['id']\n",
    "        time.sleep(10)\n",
    "        url='https://zmk.latest.stage.c8y.io/service/mlw/tasks/'+tasksID\n",
    "        resp=requests.get(url,auth=auth)\n",
    "        respTasks1=json.loads(resp.text)\n",
    "        listOfTaskIndi=[i['id'] for i in respTasks1['individualTasks']]\n",
    "        indTaskID=listOfTaskIndi[0]\n",
    "        self.assertEqual(respTasks1['individualTasks'][0]['projectID'],projectID)\n",
    "        urlTask2='https://zmk.latest.stage.c8y.io/service/mlw/tasks/'+tasksID+'/task/'+indTaskID\n",
    "        resp=requests.get(urlTask2,auth=auth)\n",
    "        respTasks3=json.loads(resp.content)\n",
    "        self.assertEqual(respTasks3['status'],'FAILED')"
   ]
  },
  {
   "cell_type": "code",
   "execution_count": 4,
   "metadata": {},
   "outputs": [
    {
     "name": "stderr",
     "output_type": "stream",
     "text": [
      "..\n",
      "----------------------------------------------------------------------\n",
      "Ran 2 tests in 23.881s\n",
      "\n",
      "OK\n"
     ]
    }
   ],
   "source": [
    "if __name__ == '__main__':\n",
    "    unittest.main(argv=['first-arg-is-ignored'], exit=False)"
   ]
  }
 ],
 "metadata": {
  "kernelspec": {
   "display_name": "Python 3",
   "language": "python",
   "name": "python3"
  },
  "language_info": {
   "codemirror_mode": {
    "name": "ipython",
    "version": 3
   },
   "file_extension": ".py",
   "mimetype": "text/x-python",
   "name": "python",
   "nbconvert_exporter": "python",
   "pygments_lexer": "ipython3",
   "version": "3.6.5"
  }
 },
 "nbformat": 4,
 "nbformat_minor": 4
}
