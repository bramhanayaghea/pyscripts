{
 "cells": [
  {
   "cell_type": "code",
   "execution_count": 7,
   "id": "5cf620ba-0b35-406e-95b1-1fa57b62eb3b",
   "metadata": {
    "tags": []
   },
   "outputs": [],
   "source": [
    "import json\n",
    "\n",
    "def check_duplicate_names(json_data):\n",
    "    names = set()\n",
    "    duplicate_names = set()\n",
    "\n",
    "    def check_duplicates(obj):\n",
    "        if isinstance(obj, dict):\n",
    "            if \"name\" in obj:\n",
    "                name = obj[\"name\"]\n",
    "                if name in names:\n",
    "                    duplicate_names.add(name)\n",
    "                else:\n",
    "                    names.add(name)\n",
    "            for key, value in obj.items():\n",
    "                check_duplicates(value)\n",
    "        elif isinstance(obj, list):\n",
    "            for item in obj:\n",
    "                check_duplicates(item)\n",
    "\n",
    "    check_duplicates(json_data)\n",
    "\n",
    "    if duplicate_names:\n",
    "        print(\"Duplicate name values found:\", duplicate_names)\n",
    "        return False\n",
    "    else:\n",
    "        print(\"No duplicate name values found.\")\n",
    "        return True\n",
    "\n",
    "def validate_json_file(file_path):\n",
    "    try:\n",
    "        with open(file_path) as file:\n",
    "            json_data = json.load(file)\n",
    "            # If the JSON file is valid, the parsing will succeed without any exceptions\n",
    "            print(\"JSON validation successful!\")\n",
    "            return check_duplicate_names(json_data)\n",
    "    except ValueError as e:\n",
    "        print(\"JSON validation failed!\")\n",
    "        print(e)\n",
    "        return False\n",
    "    except IOError as e:\n",
    "        print(\"Error reading the file:\")\n",
    "        print(e)\n",
    "        return False\n",
    "\n",
    "\n"
   ]
  },
  {
   "cell_type": "code",
   "execution_count": 8,
   "id": "2517cd8f-49b2-420a-b359-3f42fed5ab24",
   "metadata": {
    "tags": []
   },
   "outputs": [
    {
     "name": "stdout",
     "output_type": "stream",
     "text": [
      "JSON validation successful!\n",
      "Duplicate name values found: {'ADDA_Microservices_ADPayWallet_TammADPayWalletTokenBS_EndpointURL', 'ADDA_ADJD_ADJDNotaryPublicG2GProviderv10_WS_ConsumerEndpointURL', 'ADDA_GSB_ICAUpdatePersonInformation_WS_apiKeyValue', 'ADDA_ZHO_ZHOPeopleOfDeterminationCard_password', 'ADDA_ADM_SitePlan_WS_ConsumerEndpointURL', 'ADDA_DigitalDocumentsApiDataFiltering_ADP_VehicleOwnershipDoc_Business_WS_ConsumerEndpointURL', 'ADDA_ADM_DEDNotificationService_WS_apiKeyValue', 'RetrieveEmployeeInformationSA_password', 'ADDA_DOE_Provider_ClearanceCertificate_WS_ConsumerEndpointURL', 'ADDA_DigitalDocumentsApiDataFiltering_DMAT_OwnershipDeedService_businessV3_WS_ConsumerEndpointURL', 'ADDA_DOH_DOHPersonHealthInsurance_Proxy_WS_ConsumerEndpointURL', 'ADDA_DED_EconomyLicenseDetails_Business_WS_ConsumerEndpointURL', 'ADDA_TAMMESB_ADP_ActivityServicePS_password', 'ADDA_GSB_ICAUpdatePersonInformation_WS_apiKey', 'ADDA_GSB_ICAUpdatePersonInformation_WS_password', 'ADDA_MOI_CheckEstablishmentRenewalEligibility_WS_apiKey', 'FamilyBookServiceSA_V1_password', 'ADDA_ADEK_EducationLicense_V1_WS_ConsumerEndpointURL', 'ADDA_KF_KF_MembershipCertificate_WS_ConsumerEndpointURL', 'ADDA_Microservices_ADPay_refundTransaction_EndpointURL', 'ADDA_GSB_UpdateSickLeaveDetails_WS_password', 'ADDA_ADM_PLP_ADMIPSService_Content-Type', 'ADDA_TRA_syncTradeLicense_MOEc_WS_apiKeyValue', 'ADDA_GSB_ManageCompanyDetails_MOHRE_PS_GSB-APIKey', 'ADDA_ADFCA_GetMandatoryDocs_WS_ConsumerEndpointURL', 'ADDA_DOH_DOHIPNSNotification_Proxy_V1_WS_ConsumerEndpointURL', 'ADDA_GSB_PLP_GetCompanyEmployeeList_MOHRE_Accept', 'ADDA_PF_MOCD_SalaryDetails_WS_apiKeyValue', 'ADDA_TAMMESB_ADM_PropertyProfileService_WS_ConsumerEndpointURL', 'ADDA_Microservices_ADCUSTOMS_processUtility_EndpointURL', 'ADDA_ADFCA_TransferShipment_WS_ConsumerEndpointURL', 'ADDA_GSB_PLP_GetPensionerDetails_password', 'ADDA_ADM_RejectedReportServiceV1_WS_ConsumerEndpointURL', 'ADDA_MOI_CheckEstablishmentRenewalEligibility_WS_password', 'ADDA_ADJD_ADJDEmbracingIslamG2GProviderv10_WS_ConsumerEndpointURL', 'ADDA_DOH_DOHBirthCertificateInformation_Business_V1_WS_ConsumerEndpointURL', 'ADDA_GSB_ReceiveHousingApplicationInfo_ERC_WS_apiKey', 'ADDA_TAMMESB_ADP_FinesServiceV1_password', 'ADDA_ZHO_ZHOPeopleOfDeterminationCard_username', 'ADDA_Microservices_ADPay_reportApiFetch_EndpointURL', 'ADDA_Microservices_ADPay_inquiryTransaction_EndpointURL', 'ADDA_ADCCI_G2G-ChamberMembershipCertificate_V1_clientId', 'ADDA_ADEK_PrivateSchoolWorkPermitDetails_Provider_V1_WS_ConsumerEndpointURL', 'ADDA_Microservices_ADPayWallet_x-CentraSite-APIKey_APIValue', 'ADDA_HAAD_FitnessCertificateService_ProxyBusiness_WS_ConsumerEndpointURL', 'ADDA_DED_GovEntityNotificationMOI_WS_ConsumerEndpointURL', 'ADDA_GSB_IssueHealthInsuranceCard_SM_WS_apiKeyValue', 'ADDA_ADSSC_ADSSC_SewerageNocService_WS_ConsumerEndpointURL', 'ADDA_ADM_SitePlanService_Business_WS_ConsumerEndpointURL', 'ADDA_TAMMESB_ADM_PropertyPlotUnitService_WS_ConsumerEndpointURL', 'ADDA_TAMMESB_ADP_TrafficProfileServices_WS_ConsumerEndpointURL', 'ADDA_PF_MOCD_SalaryDetails_WS_ProviderURL', 'ADDA_MOI_FamilyBook_Business_WS_ConsumerEndpointURL', 'ADDA_GSB_UpdateSickLeaveDetails_WS_apiKeyValue', 'ADDA_DOT_G2GTransportNocDetailsService_WS_ConsumerEndpointURL', 'ADDA_ADCCI_G2G-ChamberMembershipCertificate_V2_clientSecret', 'ADDA_Microservices_ADPay_cardOnFile_EndpointURL', 'ADDA_Microservices_ADPay_voidTransaction_EndpointURL', 'ADDA_GSB_ConsignmentCustomsDetails_MOCCAE_BS_WS_username', 'ADDA_ADJD_ADJDPowerOfAttorneyG2GProviderv10_WS_ConsumerEndpointURL', 'ADDA_SCMAF_SCAD_FileAidPensionBeneficiaryEio_WS_ProviderURL', 'ADDA_TAMMESB_ADP_vehiclesservices_WS_password', 'ADDA_ADWEA_WaterQuality_WS_ConsumerEndpointURL', 'ADDA_GSB_GetPrisonerDetails_MOI_PS_GSB-APIKey', 'ADDA_DigitalDocumentsApiDataFiltering_DMAT_ADMTawtheeq_V3_WS_ConsumerEndpointURL', 'ADDA_SCMAF_SCAD_FileInheritorContactEio_WS_ProviderURL', 'ADDA_SCMAF_Provider_HeirCertificate_WS_ConsumerEndpointURL', 'ADDA_TAMMESB_ADM_ADM_TAMM_UserLoginprofiles_V3PSPPL_EndpointURL', 'ADDA_MOI_CheckEstablishmentRenewalEligibility_WS_username', 'ADDA_TRA_syncTradeLicense_MOEc_WS_apiKey', 'ADDA_TRA_updateICAInitialApproval_ICA_DED_WS_password', 'ADDA_CWM_G2GCWMWasterMgmttPracticePermitServicev10_WS_ConsumerEndpointURL', 'ADDA_GSB_PLP_GetCompanyEmployeesList_MOHRE_username', 'ADDA_ADCCI_G2G-ChamberMembershipCertificate_Provider_V1_WS_username', 'ADDA_GSB_ConsignmentCustomsDetails_MOCCAE_BS_WS_password', 'ADDA_CWM_G2GCWMWasteProductionNocServicev10_WS_ConsumerEndpointURL', 'ADDA_GSB_PLP_GetPensionerDetails_username', 'ADDA_Microservices_ADPayWallet_TammADPayWalletServicesBS_EndpointURL', 'ADDA_TRA_updateICAInitialApproval_ICA_DED_WS_username', 'ADDA_GSB_PLP_GetCompanyEmployeeList_MOHRE_Content-Type', 'ADDA_GSB_UpdateSickLeaveDetails_WS_apiKey', 'ADDA_DPM_ENOC_FPReplyABCSComponentService_WS_apiKey', 'ADDA_ADWEA_ePayments_WS_ConsumerEndpointURL', 'ADDA_DOT_G2GTransportPermitDetailsServiceProviderv10_WS_ConsumerEndpointURL', 'ADDA_TRA_HAAD_Cancellation_WS_username', 'ADDA_TAMMESB_MOHRE_PLP_ManageEmploymentDetails_MOHRE_EndpointURL', 'SubmitAbroadTreatment_SA_username', 'ADDA_GSB_RetrieveEmployeeInformationPS_GSB-APIKey', 'ADDA_MOI_RequestEstablishmentV3_WS_apiKeyValue', 'ADDA_MOI_FamilyBook_WS_ConsumerEndpointURL', 'ADDA_ADJD_ADJDAttestationG2GProviderv10_WS_ConsumerEndpointURL', 'ADDA_SCMAF_FileInheritorContactEio_WS_ConsumerEndpointURL', 'ADDA_DED_ECServiceV2_WS_ConsumerEndpointURL', 'ADDA_DigitalDocumentsApiDataFiltering_DCT_G2GDCTEventPermitsPLP_EndpointURL', 'ADDA_TAMMESB_ADP_FinesServiceV1_username', 'ADDA_DigitalDocumentsApiDataFiltering_DED_EconomyLicenseDetails_Business_API_V2_WS_ConsumerEndpointURL', 'ADDA_GSB_GetPersonVaccinationDetails_PS_GSB-APIKey', 'ADDA_GSB_ReceiveHousingApplicationInfo_ERC_WS_username', 'ADDA_DMAT_LandVerificationService_ConsumerV1_WS_ConsumerEndpointURL', 'ADDA_GSB_GetPensionAndEmployeeReport_MOHRE_PS_Accept', 'ADDA_GSB_IssueHealthInsuranceCard_SM_WS_apiKey', 'ADDA_ADCCI_G2G-ChamberMembershipCertificate_Provider_V1_WS_password', 'ADDA_ADM_OwnershipDeedService_Business_WS_ConsumerEndpointURL', 'ADDA_Microservices_ADPay_authReportApi_EndpointURL', 'ADDA_GSB_ReceiveHousingApplicationInfo_ERC_WS_apiKeyValue', 'ADDA_GSB_PLP_VerifyLCAInvoiceAttestation_MOFAIC_EndpointURL', 'ADDA_ADCCI_G2G-ChamberMembershipCertificate_V2_method', 'ADDA_ADCCI_G2G-ChamberMembershipCertificate_V1_ConsumerEndpointURL', 'ADDA_PF_MOCD_SalaryDetails_WS_password', 'ADDA_TRA_syncTradeLicense_MOEc_WS_password', 'ADDA_DED_ADBCTradeLicenseSearch_WS_ConsumerEndpointURL', 'ADDA_DPM_ENOC_FPReplyABCSComponentService_WS_apiKeyValue', 'FamilyBookServiceSA_V1_username', 'ADDA_MOI_CheckEstablishmentRenewalEligibility_WS_apiKeyValue', 'ADDA_ADCCI_G2G-ChamberMembershipCertificate_V1_method', 'ADDA_TammMicroservices_ADCUSTOMS_customerCare_WS_ConsumerEndpointURL', 'ADDA_ADWEA_ePaymentGateway_WS_ConsumerEndpointURL', 'ADDA_ADJD_ADJDPartnershipContractG2GProviderv10_WS_ConsumerEndpointURL', 'ADDA_ADM_PaymentStatusNotifyV2_WS_ConsumerEndpointURL', 'ADDA_ADWEA_WaterElectricityBill_Business_WS_password', 'SubmitAbroadTreatment_SA_password', 'ADDA_DigitalDocumentsApiDataFiltering_ADP_DrivingLicenseInformation_Providerv3_WS_ConsumerEndpointURL', 'ADDA_ADJD_ADJDMarriageContractG2GProviderv10_WS_ConsumerEndpointURL', 'ADDA_TRA_updateICAInitialApproval_ICA_DED_WS_apiKeyValue', 'ADDA_ADCCI_G2G-ChamberMembershipCertificate_V2_clientId', 'ADDA_ADM_ADMAttachmentInbound_WS_ConsumerEndpointURL', 'ADDA_DigitalDocumentsApiDataFiltering_ADWEA_WaterElectricityBill_Business_v2_WS_ConsumerEndpointURL', 'RetrieveEmployeeInformationSA_username', 'ADDA_PF_MOCD_SalaryDetails_WS_username', 'ADDA_TAMMESB_ADM_ADM_TAMM_boundaryWallPLP_EndpointURL', 'ADDA_GSB_IssueHealthInsuranceCard_SM_WS_password', 'ADDA_ADM_DEDNotificationService_WS_apiKey', 'ADDA_GSB_ReceiveHousingApplicationInfo_ERC_WS_password', 'ADDA_MOI_RequestEstablishmentV3_WS_username', 'ADDA_ADWEA_UserManagementWSDL20New_WS_ConsumerEndpointURL', 'ADDA_TAMMESB_ADP_CrashReportsWSDL_WS_password', 'ADDA_DOF_DOFTCAServiceV10_WS_ConsumerEndpointURL', 'ADDA_SGCRM_ADSICTAMMSelfServiceBS_WS_ConsumerEndpointURL', 'ADDA_DOH_BirthCertificatePull_V1_WS_ConsumerEndpointURL', 'ADDA_ADMTAMM_ConfirmPaymentAAM_WS_ConsumerEndpointURL', 'ADDA_ADWEA_BalanceEnquiryWSDL20New_WS_ConsumerEndpointURL', 'ADDA_ADCCI_G2G-ChamberMembershipCertificate_V1_clientSecret', 'ADDA_ADM_SitePlanService_WS_ConsumerEndpointURL', 'ADDA_GSB_ConsignmentCustomsDetails_MOCCAE_BS_WS_apiKey', 'ADDA_ADFCA_animallogcertificatedetailprocess_client_ep_WS_ConsumerEndpointURL', 'ADDA_Microservices_ADPay_finalizationRequest_EndpointURL', 'ADDA_GSB_GetEmployeeDetailsPS_GSB-APIKey', 'ADDA_GSB_ConsignmentCustomsDetails_MOCCAE_BS_WS_apiKeyValue', 'ADDA_Microservices_ADPay_purchaseRequest_EndpointURL', 'ADDA_DPM_BuildingPermitDetailsService_ProviderV2_WS_ConsumerEndpointURL', 'ADDA_ADWEA_WQWorkorder_WS_ConsumerEndpointURL', 'ADDA_ADM_PLP_ADMIPSService_EndpointURL', 'ADDA_TAMMESB_ADM_OwnerProfileService_WS_ConsumerEndpointURL', 'ADDA_ADEK_ApprovalLetterDetails_ProviderV1_WS_ConsumerEndpointURL', 'ADDA_TAMM_TAMMSubscriberServices_TAMM_ADLocker_DocumentSharedUpsertBS_ConsumerEndpointURL', 'ADDA_DED_ADBCInfoDesk_WS_ConsumerEndpointURL', 'ADDA_Microservices_ADCUSTOMS_utilityDashboard_EndpointURL', 'ADDA_CWM_G2GCWMDisposalCertificateServiceV10_WS_ConsumerEndpointURL', 'ADDA_DOH_DOHDeathCertificateInformation_PubBusiness_V1_WS_username', 'ADDA_CWM_G2GCWMWasteTransportationVehiclePermitServicev10_WS_ConsumerEndpointURL', 'ADDA_MOI_RequestEstablishmentV3_WS_password', 'ADDA_DigitalDocumentsApiDataFiltering_DOH_FitnessCertificateService_Business_V2_WS_ConsumerEndpointURL', 'ADDA_DED_IDBCustomsExemption_WS_ConsumerEndpointURL', 'ADDA_TRA_syncTradeLicense_MOEc_WS_username', 'ADDA_DOH_SickLeaveCertficate_V1_WS_ConsumerEndpointURL', 'ADDA_GSB_PLP_GetCompanyEmployeesList_MOHRE_password', 'ADDA_MOI_FamilyBook_Business_WS_GSB-APIKey', 'ADDA_TAMMESB_ADP_ActivityServicePS_username', 'ADDA_SGCRM_ADSICSelfServiceWS_EnuV10_WS_ConsumerEndpointURL', 'ADDA_MOI_RequestEstablishmentV3_WS_apiKey', 'ADDA_DOH_DOHDeathCertificateInformation_Business_V1_WS_ConsumerEndpointURL', 'ADDA_GSB_IssueHealthInsuranceCard_SM_WS_username', 'ADDA_SCMAF_Provider_FileStatementCertificate_WS_ConsumerEndpointURL', 'ADDA_TammMicroservices_ADCUSTOMS_utilityDashboard_WS_ConsumerEndpointURL', 'ADDA_ADCCI_G2G-ChamberMembershipCertificate_Provider_V1_WS_ConsumerEndpointURL', 'ADDA_Microservices_ADPay_captureTransaction_EndpointURL', 'ADDA_DOF_ICP_ADERPICPABSCONTWS_WS_ProviderURL', 'ADDA_HAAD_FitnessCertificateServiceV10_WS_ConsumerEndpointURL', 'ADDA_GSB_UpdateSickLeaveDetails_WS_username', 'ADDA_TRA_updateICAInitialApproval_ICA_DED_WS_apiKey', 'ADDA_DigitalDocumentsApiDataFiltering_DMAT_PropertyCertificateService_ProviderV3_WS_ConsumerEndpointURL', 'ADDA_KF_KF_FundingRequest_WS_ConsumerEndpointURL', 'ADDA_GSB_ICAUpdatePersonInformation_WS_username', 'ADDA_ADEK_StudentProfileDetailsService_ProviderV1_WS_ConsumerEndpointURL', 'ADDA_ADP_VehicleOwnershipDoc_Business_WS_ConsumerEndpointURL', 'ADDA_PF_MOCD_SalaryDetails_WS_apiKey'}\n"
     ]
    },
    {
     "data": {
      "text/plain": [
       "False"
      ]
     },
     "execution_count": 8,
     "metadata": {},
     "output_type": "execute_result"
    }
   ],
   "source": [
    "# Replace 'file_path' with the actual path to your JSON file\n",
    "file_path = 'C://Users//inbra//testAutomate//stub1//env_config_test.json'\n",
    "validate_json_file(file_path)"
   ]
  },
  {
   "cell_type": "code",
   "execution_count": null,
   "id": "63ab86e7-4b71-4ca8-81a5-9965c262f1ce",
   "metadata": {},
   "outputs": [],
   "source": []
  }
 ],
 "metadata": {
  "kernelspec": {
   "display_name": "Python 3 (ipykernel)",
   "language": "python",
   "name": "python3"
  },
  "language_info": {
   "codemirror_mode": {
    "name": "ipython",
    "version": 3
   },
   "file_extension": ".py",
   "mimetype": "text/x-python",
   "name": "python",
   "nbconvert_exporter": "python",
   "pygments_lexer": "ipython3",
   "version": "3.8.10"
  }
 },
 "nbformat": 4,
 "nbformat_minor": 5
}
