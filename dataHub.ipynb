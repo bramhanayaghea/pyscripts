{
 "cells": [
  {
   "cell_type": "markdown",
   "metadata": {},
   "source": [
    "### Authentication API"
   ]
  },
  {
   "cell_type": "code",
   "execution_count": 130,
   "metadata": {},
   "outputs": [],
   "source": [
    "import requests\n",
    "from requests.auth import HTTPBasicAuth\n",
    "import json\n",
    "\n",
    "url = \"https://datahub.eu-latest.cumulocity.com/apiv2/login\"\n",
    "\n",
    "payload = {\n",
    "  \"userName\": \"t15058219/demo\",\n",
    "  \"password\": \"Manage2020\"\n",
    "}\n",
    "\n",
    "headers = {\n",
    "  'Content-Type': 'application/json'\n",
    "}\n",
    "\n",
    "response = requests.request(\"POST\", url, headers=headers, data = json.dumps(payload))"
   ]
  },
  {
   "cell_type": "code",
   "execution_count": 131,
   "metadata": {},
   "outputs": [],
   "source": [
    "token_id = json.loads(response.text)['token']"
   ]
  },
  {
   "cell_type": "code",
   "execution_count": 132,
   "metadata": {},
   "outputs": [
    {
     "data": {
      "text/plain": [
       "'df3rlacn8j4ddoadc3vpq0b6gs'"
      ]
     },
     "execution_count": 132,
     "metadata": {},
     "output_type": "execute_result"
    }
   ],
   "source": [
    "token_id"
   ]
  },
  {
   "cell_type": "markdown",
   "metadata": {},
   "source": [
    "### Show resources"
   ]
  },
  {
   "cell_type": "code",
   "execution_count": 133,
   "metadata": {},
   "outputs": [
    {
     "data": {
      "text/plain": [
       "{'resources': [{'type': 'PHYSICAL_DATASET_SOURCE_FOLDER',\n",
       "   'name': 'alarms',\n",
       "   'fullPath': ['t15058219DataLake',\n",
       "    'sag-customer-poc',\n",
       "    't15058219',\n",
       "    'alarms']},\n",
       "  {'type': 'FOLDER',\n",
       "   'name': 'c8y_cdh_temp',\n",
       "   'fullPath': ['t15058219DataLake',\n",
       "    'sag-customer-poc',\n",
       "    't15058219',\n",
       "    'c8y_cdh_temp'],\n",
       "   'url': '/resourcetree/t15058219DataLake.%22sag-customer-poc%22.t15058219.c8y_cdh_temp'},\n",
       "  {'type': 'PHYSICAL_DATASET_SOURCE_FOLDER',\n",
       "   'name': 'events',\n",
       "   'fullPath': ['t15058219DataLake',\n",
       "    'sag-customer-poc',\n",
       "    't15058219',\n",
       "    'events']},\n",
       "  {'type': 'PHYSICAL_DATASET_SOURCE_FOLDER',\n",
       "   'name': 'measurements_c8y_Acceleration',\n",
       "   'fullPath': ['t15058219DataLake',\n",
       "    'sag-customer-poc',\n",
       "    't15058219',\n",
       "    'measurements_c8y_Acceleration']}]}"
      ]
     },
     "execution_count": 133,
     "metadata": {},
     "output_type": "execute_result"
    }
   ],
   "source": [
    "tenantID = payload['userName'].split(\"/\")[0]\n",
    "params = \"?showDatasets=true&showSources=true&showSpaces=true&showHomes=true\"\n",
    "\n",
    "url = \"https://datahub.eu-latest.cumulocity.com/apiv2/resourcetree/\"+tenantID+\"DataLake\"+params\n",
    "\n",
    "headers = {\n",
    "  'Authorization': '_dremio'+token_id\n",
    "}\n",
    "\n",
    "response = requests.request(\"GET\", url, headers=headers)\n",
    "if 'url' in json.loads(response.text)['resources'][0].keys():\n",
    "    while 'url' in json.loads(response.text)['resources'][0].keys():\n",
    "        tempURL = json.loads(response.text)['resources'][0]['url']\n",
    "        url = \"https://datahub.eu-latest.cumulocity.com/apiv2\"+tempURL+params\n",
    "        response = requests.request(\"GET\", url, headers=headers)\n",
    "\n",
    "resources = json.loads(response.text)\n",
    "resources"
   ]
  },
  {
   "cell_type": "markdown",
   "metadata": {},
   "source": [
    "### SQL"
   ]
  },
  {
   "cell_type": "code",
   "execution_count": 134,
   "metadata": {},
   "outputs": [],
   "source": [
    "url = \"https://datahub.eu-latest.cumulocity.com/api/v3/sql\"\n",
    "\n",
    "sqlQuery = {\"sql\": 'Select * from t15058219DataLake.\"sag-customer-poc\".t15058219.events'}\n",
    "\n",
    "payload = json.dumps(sqlQuery)\n",
    "\n",
    "headers = {\n",
    "  'Authorization': '_dremio'+token_id,\n",
    "  'Content-Type': 'application/json'\n",
    "}\n",
    "\n",
    "response = requests.request(\"POST\", url, headers=headers, data = payload)"
   ]
  },
  {
   "cell_type": "code",
   "execution_count": 135,
   "metadata": {},
   "outputs": [],
   "source": [
    "sqlID = json.loads(response.text)['id']"
   ]
  },
  {
   "cell_type": "code",
   "execution_count": 136,
   "metadata": {},
   "outputs": [
    {
     "data": {
      "text/plain": [
       "'20fbb5cc-72cb-8867-9e58-8a578df76d00'"
      ]
     },
     "execution_count": 136,
     "metadata": {},
     "output_type": "execute_result"
    }
   ],
   "source": [
    "sqlID"
   ]
  },
  {
   "cell_type": "markdown",
   "metadata": {},
   "source": [
    "### Get Job Status"
   ]
  },
  {
   "cell_type": "code",
   "execution_count": 27,
   "metadata": {},
   "outputs": [],
   "source": [
    "url = \"https://datahub.eu-latest.cumulocity.com/api/v3/job/\"+sqlID\n",
    "\n",
    "headers = {\n",
    "  'Authorization': '_dremio'+token_id\n",
    "}\n",
    "\n",
    "response = requests.request(\"GET\", url, headers=headers)"
   ]
  },
  {
   "cell_type": "code",
   "execution_count": 30,
   "metadata": {},
   "outputs": [],
   "source": [
    "jobState = json.loads(response.text)['jobState']"
   ]
  },
  {
   "cell_type": "code",
   "execution_count": 38,
   "metadata": {},
   "outputs": [
    {
     "data": {
      "text/plain": [
       "'COMPLETED'"
      ]
     },
     "execution_count": 38,
     "metadata": {},
     "output_type": "execute_result"
    }
   ],
   "source": [
    "jobState"
   ]
  },
  {
   "cell_type": "markdown",
   "metadata": {},
   "source": [
    "### Get results (data)"
   ]
  },
  {
   "cell_type": "code",
   "execution_count": 31,
   "metadata": {},
   "outputs": [],
   "source": [
    "url = \"https://datahub.eu-latest.cumulocity.com/api/v3/job/\"+sqlID+\"/results\"\n",
    "\n",
    "headers = {\n",
    "  'Authorization': '_dremio'+token_id\n",
    "}\n",
    "\n",
    "if jobState == 'COMPLETED':\n",
    "    response = requests.request(\"GET\", url, headers=headers)"
   ]
  },
  {
   "cell_type": "code",
   "execution_count": 35,
   "metadata": {},
   "outputs": [],
   "source": [
    "import pandas as pd\n",
    "data = pd.DataFrame(json.loads(response.text)['rows'])"
   ]
  },
  {
   "cell_type": "code",
   "execution_count": 36,
   "metadata": {},
   "outputs": [
    {
     "data": {
      "text/html": [
       "<div>\n",
       "<style scoped>\n",
       "    .dataframe tbody tr th:only-of-type {\n",
       "        vertical-align: middle;\n",
       "    }\n",
       "\n",
       "    .dataframe tbody tr th {\n",
       "        vertical-align: top;\n",
       "    }\n",
       "\n",
       "    .dataframe thead th {\n",
       "        text-align: right;\n",
       "    }\n",
       "</style>\n",
       "<table border=\"1\" class=\"dataframe\">\n",
       "  <thead>\n",
       "    <tr style=\"text-align: right;\">\n",
       "      <th></th>\n",
       "      <th>id</th>\n",
       "      <th>creationTime</th>\n",
       "      <th>creationTimeOffset</th>\n",
       "      <th>creationTimeWithOffset</th>\n",
       "      <th>lastUpdated</th>\n",
       "      <th>lastUpdatedOffset</th>\n",
       "      <th>lastUpdatedWithOffset</th>\n",
       "      <th>YEAR</th>\n",
       "      <th>MONTH</th>\n",
       "      <th>DAY</th>\n",
       "      <th>time</th>\n",
       "      <th>timeOffset</th>\n",
       "      <th>timeWithOffset</th>\n",
       "      <th>source</th>\n",
       "      <th>text</th>\n",
       "      <th>type</th>\n",
       "      <th>dir0</th>\n",
       "      <th>dir1</th>\n",
       "      <th>dir2</th>\n",
       "      <th>dir3</th>\n",
       "    </tr>\n",
       "  </thead>\n",
       "  <tbody>\n",
       "    <tr>\n",
       "      <th>0</th>\n",
       "      <td>4039841</td>\n",
       "      <td>2020-06-01 13:19:21.553</td>\n",
       "      <td>0</td>\n",
       "      <td>2020-06-01 13:19:21.553</td>\n",
       "      <td>2020-06-01 13:19:21.553</td>\n",
       "      <td>0</td>\n",
       "      <td>2020-06-01 13:19:21.553</td>\n",
       "      <td>2020</td>\n",
       "      <td>06</td>\n",
       "      <td>01</td>\n",
       "      <td>2020-06-01 13:19:21.553</td>\n",
       "      <td>0</td>\n",
       "      <td>2020-06-01 13:19:21.553</td>\n",
       "      <td>922629</td>\n",
       "      <td>This is a warning</td>\n",
       "      <td>Testing</td>\n",
       "      <td>monthly_2020_06</td>\n",
       "      <td>2020</td>\n",
       "      <td>06</td>\n",
       "      <td>None</td>\n",
       "    </tr>\n",
       "    <tr>\n",
       "      <th>1</th>\n",
       "      <td>4039872</td>\n",
       "      <td>2020-06-01 13:21:51.559</td>\n",
       "      <td>0</td>\n",
       "      <td>2020-06-01 13:21:51.559</td>\n",
       "      <td>2020-06-01 13:21:51.559</td>\n",
       "      <td>0</td>\n",
       "      <td>2020-06-01 13:21:51.559</td>\n",
       "      <td>2020</td>\n",
       "      <td>06</td>\n",
       "      <td>01</td>\n",
       "      <td>2020-06-01 13:21:51.559</td>\n",
       "      <td>0</td>\n",
       "      <td>2020-06-01 13:21:51.559</td>\n",
       "      <td>922629</td>\n",
       "      <td>This is a warning</td>\n",
       "      <td>Testing</td>\n",
       "      <td>monthly_2020_06</td>\n",
       "      <td>2020</td>\n",
       "      <td>06</td>\n",
       "      <td>None</td>\n",
       "    </tr>\n",
       "    <tr>\n",
       "      <th>2</th>\n",
       "      <td>4039903</td>\n",
       "      <td>2020-06-01 13:24:21.554</td>\n",
       "      <td>0</td>\n",
       "      <td>2020-06-01 13:24:21.554</td>\n",
       "      <td>2020-06-01 13:24:21.554</td>\n",
       "      <td>0</td>\n",
       "      <td>2020-06-01 13:24:21.554</td>\n",
       "      <td>2020</td>\n",
       "      <td>06</td>\n",
       "      <td>01</td>\n",
       "      <td>2020-06-01 13:24:21.554</td>\n",
       "      <td>0</td>\n",
       "      <td>2020-06-01 13:24:21.554</td>\n",
       "      <td>922629</td>\n",
       "      <td>This is a warning</td>\n",
       "      <td>Testing</td>\n",
       "      <td>monthly_2020_06</td>\n",
       "      <td>2020</td>\n",
       "      <td>06</td>\n",
       "      <td>None</td>\n",
       "    </tr>\n",
       "    <tr>\n",
       "      <th>3</th>\n",
       "      <td>4039934</td>\n",
       "      <td>2020-06-01 13:26:51.579</td>\n",
       "      <td>0</td>\n",
       "      <td>2020-06-01 13:26:51.579</td>\n",
       "      <td>2020-06-01 13:26:51.579</td>\n",
       "      <td>0</td>\n",
       "      <td>2020-06-01 13:26:51.579</td>\n",
       "      <td>2020</td>\n",
       "      <td>06</td>\n",
       "      <td>01</td>\n",
       "      <td>2020-06-01 13:26:51.579</td>\n",
       "      <td>0</td>\n",
       "      <td>2020-06-01 13:26:51.579</td>\n",
       "      <td>922629</td>\n",
       "      <td>This is a warning</td>\n",
       "      <td>Testing</td>\n",
       "      <td>monthly_2020_06</td>\n",
       "      <td>2020</td>\n",
       "      <td>06</td>\n",
       "      <td>None</td>\n",
       "    </tr>\n",
       "    <tr>\n",
       "      <th>4</th>\n",
       "      <td>4039965</td>\n",
       "      <td>2020-06-01 13:29:21.571</td>\n",
       "      <td>0</td>\n",
       "      <td>2020-06-01 13:29:21.571</td>\n",
       "      <td>2020-06-01 13:29:21.571</td>\n",
       "      <td>0</td>\n",
       "      <td>2020-06-01 13:29:21.571</td>\n",
       "      <td>2020</td>\n",
       "      <td>06</td>\n",
       "      <td>01</td>\n",
       "      <td>2020-06-01 13:29:21.571</td>\n",
       "      <td>0</td>\n",
       "      <td>2020-06-01 13:29:21.571</td>\n",
       "      <td>922629</td>\n",
       "      <td>This is a warning</td>\n",
       "      <td>Testing</td>\n",
       "      <td>monthly_2020_06</td>\n",
       "      <td>2020</td>\n",
       "      <td>06</td>\n",
       "      <td>None</td>\n",
       "    </tr>\n",
       "  </tbody>\n",
       "</table>\n",
       "</div>"
      ],
      "text/plain": [
       "        id             creationTime  creationTimeOffset  \\\n",
       "0  4039841  2020-06-01 13:19:21.553                   0   \n",
       "1  4039872  2020-06-01 13:21:51.559                   0   \n",
       "2  4039903  2020-06-01 13:24:21.554                   0   \n",
       "3  4039934  2020-06-01 13:26:51.579                   0   \n",
       "4  4039965  2020-06-01 13:29:21.571                   0   \n",
       "\n",
       "    creationTimeWithOffset              lastUpdated  lastUpdatedOffset  \\\n",
       "0  2020-06-01 13:19:21.553  2020-06-01 13:19:21.553                  0   \n",
       "1  2020-06-01 13:21:51.559  2020-06-01 13:21:51.559                  0   \n",
       "2  2020-06-01 13:24:21.554  2020-06-01 13:24:21.554                  0   \n",
       "3  2020-06-01 13:26:51.579  2020-06-01 13:26:51.579                  0   \n",
       "4  2020-06-01 13:29:21.571  2020-06-01 13:29:21.571                  0   \n",
       "\n",
       "     lastUpdatedWithOffset  YEAR MONTH DAY                     time  \\\n",
       "0  2020-06-01 13:19:21.553  2020    06  01  2020-06-01 13:19:21.553   \n",
       "1  2020-06-01 13:21:51.559  2020    06  01  2020-06-01 13:21:51.559   \n",
       "2  2020-06-01 13:24:21.554  2020    06  01  2020-06-01 13:24:21.554   \n",
       "3  2020-06-01 13:26:51.579  2020    06  01  2020-06-01 13:26:51.579   \n",
       "4  2020-06-01 13:29:21.571  2020    06  01  2020-06-01 13:29:21.571   \n",
       "\n",
       "   timeOffset           timeWithOffset  source               text     type  \\\n",
       "0           0  2020-06-01 13:19:21.553  922629  This is a warning  Testing   \n",
       "1           0  2020-06-01 13:21:51.559  922629  This is a warning  Testing   \n",
       "2           0  2020-06-01 13:24:21.554  922629  This is a warning  Testing   \n",
       "3           0  2020-06-01 13:26:51.579  922629  This is a warning  Testing   \n",
       "4           0  2020-06-01 13:29:21.571  922629  This is a warning  Testing   \n",
       "\n",
       "              dir0  dir1 dir2  dir3  \n",
       "0  monthly_2020_06  2020   06  None  \n",
       "1  monthly_2020_06  2020   06  None  \n",
       "2  monthly_2020_06  2020   06  None  \n",
       "3  monthly_2020_06  2020   06  None  \n",
       "4  monthly_2020_06  2020   06  None  "
      ]
     },
     "execution_count": 36,
     "metadata": {},
     "output_type": "execute_result"
    }
   ],
   "source": [
    "data.head()"
   ]
  },
  {
   "cell_type": "code",
   "execution_count": null,
   "metadata": {},
   "outputs": [],
   "source": []
  }
 ],
 "metadata": {
  "kernelspec": {
   "display_name": "Python 3",
   "language": "python",
   "name": "python3"
  },
  "language_info": {
   "codemirror_mode": {
    "name": "ipython",
    "version": 3
   },
   "file_extension": ".py",
   "mimetype": "text/x-python",
   "name": "python",
   "nbconvert_exporter": "python",
   "pygments_lexer": "ipython3",
   "version": "3.6.9"
  }
 },
 "nbformat": 4,
 "nbformat_minor": 4
}
