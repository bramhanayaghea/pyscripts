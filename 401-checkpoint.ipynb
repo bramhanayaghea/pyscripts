{
 "cells": [
  {
   "cell_type": "code",
   "execution_count": 3,
   "id": "5dc9d287-e834-4905-8a04-770a771f5d23",
   "metadata": {
    "tags": []
   },
   "outputs": [
    {
     "name": "stdout",
     "output_type": "stream",
     "text": [
      "Match found in C:\\Users\\inbra\\OneDrive - Software AG\\Documents\\Adda\\msc\\ADM\\testData\\TammJourneyAdm_2.0_31_03_2023\\TammJourneyAdm_2_0_demarcationOfPlotCornersExamination_searchCurrentCustomerProperties_post_20221230023145804_NativeResponse.json:\n",
      "Match found in C:\\Users\\inbra\\OneDrive - Software AG\\Documents\\Adda\\msc\\ADM\\testData\\TammJourneyAdm_2.0_31_03_2023\\TammJourneyAdm_2_0_demarcationOfPlotCornersExamination_searchCurrentCustomerProperties_post_20221230023145804_Response.json:\n",
      "Match found in C:\\Users\\inbra\\OneDrive - Software AG\\Documents\\Adda\\msc\\ADM\\testData\\TammJourneyAdm_2.0_31_03_2023\\TammJourneyAdm_2_0_demarcationOfPlotCornersSecondTime_searchCurrentCustomerProperties_post_20221215161024979_NativeResponse.json:\n",
      "Match found in C:\\Users\\inbra\\OneDrive - Software AG\\Documents\\Adda\\msc\\ADM\\testData\\TammJourneyAdm_2.0_31_03_2023\\TammJourneyAdm_2_0_demarcationOfPlotCornersSecondTime_searchCurrentCustomerProperties_post_20221215161024979_Response.json:\n",
      "Match found in C:\\Users\\inbra\\OneDrive - Software AG\\Documents\\Adda\\msc\\ADM\\testData\\TammJourneyAdm_2.0_31_03_2023\\TammJourneyAdm_2_0_demarcationOfPlotCornersSecondTime_searchCurrentCustomerProperties_post_20221230023154987_NativeResponse.json:\n",
      "Match found in C:\\Users\\inbra\\OneDrive - Software AG\\Documents\\Adda\\msc\\ADM\\testData\\TammJourneyAdm_2.0_31_03_2023\\TammJourneyAdm_2_0_demarcationOfPlotCornersSecondTime_searchCurrentCustomerProperties_post_20221230023154987_Response.json:\n",
      "Match found in C:\\Users\\inbra\\OneDrive - Software AG\\Documents\\Adda\\msc\\ADM\\testData\\TammJourneyAdm_2.0_31_03_2023\\TammJourneyAdm_2_0_demarcationOfPlotCornersSecondTime_searchCurrentCustomerProperties_post_20230106023812739_NativeResponse.json:\n",
      "Match found in C:\\Users\\inbra\\OneDrive - Software AG\\Documents\\Adda\\msc\\ADM\\testData\\TammJourneyAdm_2.0_31_03_2023\\TammJourneyAdm_2_0_demarcationOfPlotCornersSecondTime_searchCurrentCustomerProperties_post_20230106023812739_Response.json:\n",
      "Match found in C:\\Users\\inbra\\OneDrive - Software AG\\Documents\\Adda\\msc\\ADM\\testData\\TammJourneyAdm_2.0_31_03_2023\\TammJourneyAdm_2_0_demarcationOfPlotCornersSecondTime_searchCurrentCustomerProperties_post_20230111023715429_NativeResponse.json:\n",
      "Match found in C:\\Users\\inbra\\OneDrive - Software AG\\Documents\\Adda\\msc\\ADM\\testData\\TammJourneyAdm_2.0_31_03_2023\\TammJourneyAdm_2_0_demarcationOfPlotCornersSecondTime_searchCurrentCustomerProperties_post_20230111023715429_Response.json:\n",
      "Match found in C:\\Users\\inbra\\OneDrive - Software AG\\Documents\\Adda\\msc\\ADM\\testData\\TammJourneyAdm_2.0_31_03_2023\\TammJourneyAdm_2_0_demarcationOfPlotCornersSecondTime_searchCurrentCustomerProperties_post_20230112024549658_NativeResponse.json:\n",
      "Match found in C:\\Users\\inbra\\OneDrive - Software AG\\Documents\\Adda\\msc\\ADM\\testData\\TammJourneyAdm_2.0_31_03_2023\\TammJourneyAdm_2_0_demarcationOfPlotCornersSecondTime_searchCurrentCustomerProperties_post_20230112024549658_Response.json:\n",
      "Match found in C:\\Users\\inbra\\OneDrive - Software AG\\Documents\\Adda\\msc\\ADM\\testData\\TammJourneyAdm_2.0_31_03_2023\\TammJourneyAdm_2_0_landVerificationCertificate_getLandVerification_post_20221229023403385_NativeRequest.json:\n",
      "Match found in C:\\Users\\inbra\\OneDrive - Software AG\\Documents\\Adda\\msc\\ADM\\testData\\TammJourneyAdm_2.0_31_03_2023\\TammJourneyAdm_2_0_landVerificationCertificate_getLandVerification_post_20221229023403385_Request.json:\n",
      "Match found in C:\\Users\\inbra\\OneDrive - Software AG\\Documents\\Adda\\msc\\ADM\\testData\\TammJourneyAdm_2.0_31_03_2023\\TammJourneyAdm_2_0_landVerificationCertificate_getLandVerification_post_20221229023700073_NativeRequest.json:\n",
      "Match found in C:\\Users\\inbra\\OneDrive - Software AG\\Documents\\Adda\\msc\\ADM\\testData\\TammJourneyAdm_2.0_31_03_2023\\TammJourneyAdm_2_0_landVerificationCertificate_getLandVerification_post_20221229023700073_Request.json:\n",
      "Match found in C:\\Users\\inbra\\OneDrive - Software AG\\Documents\\Adda\\msc\\ADM\\testData\\TammJourneyAdm_2.0_31_03_2023\\TammJourneyAdm_2_0_landVerificationCertificate_getLandVerification_post_20221229024215430_NativeRequest.json:\n",
      "Match found in C:\\Users\\inbra\\OneDrive - Software AG\\Documents\\Adda\\msc\\ADM\\testData\\TammJourneyAdm_2.0_31_03_2023\\TammJourneyAdm_2_0_landVerificationCertificate_getLandVerification_post_20221229024215430_Request.json:\n",
      "Match found in C:\\Users\\inbra\\OneDrive - Software AG\\Documents\\Adda\\msc\\ADM\\testData\\TammJourneyAdm_2.0_31_03_2023\\TammJourneyAdm_2_0_landVerificationCertificate_getLandVerification_post_20221229024219496_NativeRequest.json:\n",
      "Match found in C:\\Users\\inbra\\OneDrive - Software AG\\Documents\\Adda\\msc\\ADM\\testData\\TammJourneyAdm_2.0_31_03_2023\\TammJourneyAdm_2_0_landVerificationCertificate_getLandVerification_post_20221229024219496_Request.json:\n",
      "Match found in C:\\Users\\inbra\\OneDrive - Software AG\\Documents\\Adda\\msc\\ADM\\testData\\TammJourneyAdm_2.0_31_03_2023\\TammJourneyAdm_2_0_landVerificationCertificate_getLandVerification_post_20221229024223788_NativeRequest.json:\n",
      "Match found in C:\\Users\\inbra\\OneDrive - Software AG\\Documents\\Adda\\msc\\ADM\\testData\\TammJourneyAdm_2.0_31_03_2023\\TammJourneyAdm_2_0_landVerificationCertificate_getLandVerification_post_20221229024223788_Request.json:\n",
      "Match found in C:\\Users\\inbra\\OneDrive - Software AG\\Documents\\Adda\\msc\\ADM\\testData\\TammJourneyAdm_2.0_31_03_2023\\TammJourneyAdm_2_0_landVerificationCertificate_getLandVerification_post_20221229024226592_NativeRequest.json:\n",
      "Match found in C:\\Users\\inbra\\OneDrive - Software AG\\Documents\\Adda\\msc\\ADM\\testData\\TammJourneyAdm_2.0_31_03_2023\\TammJourneyAdm_2_0_landVerificationCertificate_getLandVerification_post_20221229024226592_Request.json:\n",
      "Match found in C:\\Users\\inbra\\OneDrive - Software AG\\Documents\\Adda\\msc\\ADM\\testData\\TammJourneyAdm_2.0_31_03_2023\\TammJourneyAdm_2_0_landVerificationCertificate_getLandVerification_post_20221229024230601_NativeRequest.json:\n",
      "Match found in C:\\Users\\inbra\\OneDrive - Software AG\\Documents\\Adda\\msc\\ADM\\testData\\TammJourneyAdm_2.0_31_03_2023\\TammJourneyAdm_2_0_landVerificationCertificate_getLandVerification_post_20221229024230601_Request.json:\n",
      "Match found in C:\\Users\\inbra\\OneDrive - Software AG\\Documents\\Adda\\msc\\ADM\\testData\\TammJourneyAdm_2.0_31_03_2023\\TammJourneyAdm_2_0_landVerificationCertificate_getLandVerification_post_20221230024755559_NativeRequest.json:\n",
      "Match found in C:\\Users\\inbra\\OneDrive - Software AG\\Documents\\Adda\\msc\\ADM\\testData\\TammJourneyAdm_2.0_31_03_2023\\TammJourneyAdm_2_0_landVerificationCertificate_getLandVerification_post_20221230024755559_Request.json:\n",
      "Match found in C:\\Users\\inbra\\OneDrive - Software AG\\Documents\\Adda\\msc\\ADM\\testData\\TammJourneyAdm_2.0_31_03_2023\\TammJourneyAdm_2_0_landVerificationCertificate_getLandVerification_post_20221230025111028_NativeRequest.json:\n",
      "Match found in C:\\Users\\inbra\\OneDrive - Software AG\\Documents\\Adda\\msc\\ADM\\testData\\TammJourneyAdm_2.0_31_03_2023\\TammJourneyAdm_2_0_landVerificationCertificate_getLandVerification_post_20221230025111028_Request.json:\n",
      "Match found in C:\\Users\\inbra\\OneDrive - Software AG\\Documents\\Adda\\msc\\ADM\\testData\\TammJourneyAdm_2.0_31_03_2023\\TammJourneyAdm_2_0_landVerificationCertificate_getLandVerification_post_20221230025300228_NativeRequest.json:\n",
      "Match found in C:\\Users\\inbra\\OneDrive - Software AG\\Documents\\Adda\\msc\\ADM\\testData\\TammJourneyAdm_2.0_31_03_2023\\TammJourneyAdm_2_0_landVerificationCertificate_getLandVerification_post_20221230025300228_Request.json:\n",
      "Match found in C:\\Users\\inbra\\OneDrive - Software AG\\Documents\\Adda\\msc\\ADM\\testData\\TammJourneyAdm_2.0_31_03_2023\\TammJourneyAdm_2_0_landVerificationCertificate_getLandVerification_post_20221230025302365_NativeRequest.json:\n",
      "Match found in C:\\Users\\inbra\\OneDrive - Software AG\\Documents\\Adda\\msc\\ADM\\testData\\TammJourneyAdm_2.0_31_03_2023\\TammJourneyAdm_2_0_landVerificationCertificate_getLandVerification_post_20221230025302365_Request.json:\n",
      "Match found in C:\\Users\\inbra\\OneDrive - Software AG\\Documents\\Adda\\msc\\ADM\\testData\\TammJourneyAdm_2.0_31_03_2023\\TammJourneyAdm_2_0_landVerificationCertificate_getLandVerification_post_20221230025307449_NativeRequest.json:\n",
      "Match found in C:\\Users\\inbra\\OneDrive - Software AG\\Documents\\Adda\\msc\\ADM\\testData\\TammJourneyAdm_2.0_31_03_2023\\TammJourneyAdm_2_0_landVerificationCertificate_getLandVerification_post_20221230025307449_Request.json:\n",
      "Match found in C:\\Users\\inbra\\OneDrive - Software AG\\Documents\\Adda\\msc\\ADM\\testData\\TammJourneyAdm_2.0_31_03_2023\\TammJourneyAdm_2_0_landVerificationCertificate_getLandVerification_post_20221230025311256_NativeRequest.json:\n",
      "Match found in C:\\Users\\inbra\\OneDrive - Software AG\\Documents\\Adda\\msc\\ADM\\testData\\TammJourneyAdm_2.0_31_03_2023\\TammJourneyAdm_2_0_landVerificationCertificate_getLandVerification_post_20221230025311256_Request.json:\n",
      "Match found in C:\\Users\\inbra\\OneDrive - Software AG\\Documents\\Adda\\msc\\ADM\\testData\\TammJourneyAdm_2.0_31_03_2023\\TammJourneyAdm_2_0_landVerificationCertificate_getLandVerification_post_20221230025315187_NativeRequest.json:\n",
      "Match found in C:\\Users\\inbra\\OneDrive - Software AG\\Documents\\Adda\\msc\\ADM\\testData\\TammJourneyAdm_2.0_31_03_2023\\TammJourneyAdm_2_0_landVerificationCertificate_getLandVerification_post_20221230025315187_Request.json:\n",
      "Match found in C:\\Users\\inbra\\OneDrive - Software AG\\Documents\\Adda\\msc\\ADM\\testData\\TammJourneyAdm_2.0_31_03_2023\\TammJourneyAdm_2_0_landVerificationCertificate_getLandVerification_post_20221231022905169_NativeRequest.json:\n",
      "Match found in C:\\Users\\inbra\\OneDrive - Software AG\\Documents\\Adda\\msc\\ADM\\testData\\TammJourneyAdm_2.0_31_03_2023\\TammJourneyAdm_2_0_landVerificationCertificate_getLandVerification_post_20221231022905169_Request.json:\n",
      "Match found in C:\\Users\\inbra\\OneDrive - Software AG\\Documents\\Adda\\msc\\ADM\\testData\\TammJourneyAdm_2.0_31_03_2023\\TammJourneyAdm_2_0_landVerificationCertificate_getLandVerification_post_20221231023032649_NativeRequest.json:\n",
      "Match found in C:\\Users\\inbra\\OneDrive - Software AG\\Documents\\Adda\\msc\\ADM\\testData\\TammJourneyAdm_2.0_31_03_2023\\TammJourneyAdm_2_0_landVerificationCertificate_getLandVerification_post_20221231023032649_Request.json:\n",
      "Match found in C:\\Users\\inbra\\OneDrive - Software AG\\Documents\\Adda\\msc\\ADM\\testData\\TammJourneyAdm_2.0_31_03_2023\\TammJourneyAdm_2_0_landVerificationCertificate_getLandVerification_post_20221231023033869_NativeRequest.json:\n",
      "Match found in C:\\Users\\inbra\\OneDrive - Software AG\\Documents\\Adda\\msc\\ADM\\testData\\TammJourneyAdm_2.0_31_03_2023\\TammJourneyAdm_2_0_landVerificationCertificate_getLandVerification_post_20221231023033869_Request.json:\n",
      "Match found in C:\\Users\\inbra\\OneDrive - Software AG\\Documents\\Adda\\msc\\ADM\\testData\\TammJourneyAdm_2.0_31_03_2023\\TammJourneyAdm_2_0_landVerificationCertificate_getLandVerification_post_20221231023035047_NativeRequest.json:\n",
      "Match found in C:\\Users\\inbra\\OneDrive - Software AG\\Documents\\Adda\\msc\\ADM\\testData\\TammJourneyAdm_2.0_31_03_2023\\TammJourneyAdm_2_0_landVerificationCertificate_getLandVerification_post_20221231023035047_Request.json:\n",
      "Match found in C:\\Users\\inbra\\OneDrive - Software AG\\Documents\\Adda\\msc\\ADM\\testData\\TammJourneyAdm_2.0_31_03_2023\\TammJourneyAdm_2_0_landVerificationCertificate_getLandVerification_post_20221231023036592_NativeRequest.json:\n",
      "Match found in C:\\Users\\inbra\\OneDrive - Software AG\\Documents\\Adda\\msc\\ADM\\testData\\TammJourneyAdm_2.0_31_03_2023\\TammJourneyAdm_2_0_landVerificationCertificate_getLandVerification_post_20221231023036592_Request.json:\n",
      "Match found in C:\\Users\\inbra\\OneDrive - Software AG\\Documents\\Adda\\msc\\ADM\\testData\\TammJourneyAdm_2.0_31_03_2023\\TammJourneyAdm_2_0_landVerificationCertificate_getLandVerification_post_20221231023037711_NativeRequest.json:\n",
      "Match found in C:\\Users\\inbra\\OneDrive - Software AG\\Documents\\Adda\\msc\\ADM\\testData\\TammJourneyAdm_2.0_31_03_2023\\TammJourneyAdm_2_0_landVerificationCertificate_getLandVerification_post_20221231023037711_Request.json:\n",
      "Match found in C:\\Users\\inbra\\OneDrive - Software AG\\Documents\\Adda\\msc\\ADM\\testData\\TammJourneyAdm_2.0_31_03_2023\\TammJourneyAdm_2_0_landVerificationCertificate_getLandVerification_post_20221231024433626_NativeRequest.json:\n",
      "Match found in C:\\Users\\inbra\\OneDrive - Software AG\\Documents\\Adda\\msc\\ADM\\testData\\TammJourneyAdm_2.0_31_03_2023\\TammJourneyAdm_2_0_landVerificationCertificate_getLandVerification_post_20221231024433626_Request.json:\n",
      "Match found in C:\\Users\\inbra\\OneDrive - Software AG\\Documents\\Adda\\msc\\ADM\\testData\\TammJourneyAdm_2.0_31_03_2023\\TammJourneyAdm_2_0_landVerificationCertificate_getLandVerification_post_20230101023150562_NativeRequest.json:\n",
      "Match found in C:\\Users\\inbra\\OneDrive - Software AG\\Documents\\Adda\\msc\\ADM\\testData\\TammJourneyAdm_2.0_31_03_2023\\TammJourneyAdm_2_0_landVerificationCertificate_getLandVerification_post_20230101023150562_Request.json:\n",
      "Match found in C:\\Users\\inbra\\OneDrive - Software AG\\Documents\\Adda\\msc\\ADM\\testData\\TammJourneyAdm_2.0_31_03_2023\\TammJourneyAdm_2_0_landVerificationCertificate_getLandVerification_post_20230101023449379_NativeRequest.json:\n",
      "Match found in C:\\Users\\inbra\\OneDrive - Software AG\\Documents\\Adda\\msc\\ADM\\testData\\TammJourneyAdm_2.0_31_03_2023\\TammJourneyAdm_2_0_landVerificationCertificate_getLandVerification_post_20230101023449379_Request.json:\n",
      "Match found in C:\\Users\\inbra\\OneDrive - Software AG\\Documents\\Adda\\msc\\ADM\\testData\\TammJourneyAdm_2.0_31_03_2023\\TammJourneyAdm_2_0_landVerificationCertificate_getLandVerification_post_20230101023453714_NativeRequest.json:\n",
      "Match found in C:\\Users\\inbra\\OneDrive - Software AG\\Documents\\Adda\\msc\\ADM\\testData\\TammJourneyAdm_2.0_31_03_2023\\TammJourneyAdm_2_0_landVerificationCertificate_getLandVerification_post_20230101023453714_Request.json:\n",
      "Match found in C:\\Users\\inbra\\OneDrive - Software AG\\Documents\\Adda\\msc\\ADM\\testData\\TammJourneyAdm_2.0_31_03_2023\\TammJourneyAdm_2_0_landVerificationCertificate_getLandVerification_post_20230101023456116_NativeRequest.json:\n",
      "Match found in C:\\Users\\inbra\\OneDrive - Software AG\\Documents\\Adda\\msc\\ADM\\testData\\TammJourneyAdm_2.0_31_03_2023\\TammJourneyAdm_2_0_landVerificationCertificate_getLandVerification_post_20230101023456116_Request.json:\n",
      "Match found in C:\\Users\\inbra\\OneDrive - Software AG\\Documents\\Adda\\msc\\ADM\\testData\\TammJourneyAdm_2.0_31_03_2023\\TammJourneyAdm_2_0_landVerificationCertificate_getLandVerification_post_20230101023458935_NativeRequest.json:\n",
      "Match found in C:\\Users\\inbra\\OneDrive - Software AG\\Documents\\Adda\\msc\\ADM\\testData\\TammJourneyAdm_2.0_31_03_2023\\TammJourneyAdm_2_0_landVerificationCertificate_getLandVerification_post_20230101023458935_Request.json:\n",
      "Match found in C:\\Users\\inbra\\OneDrive - Software AG\\Documents\\Adda\\msc\\ADM\\testData\\TammJourneyAdm_2.0_31_03_2023\\TammJourneyAdm_2_0_landVerificationCertificate_getLandVerification_post_20230101023500580_NativeRequest.json:\n",
      "Match found in C:\\Users\\inbra\\OneDrive - Software AG\\Documents\\Adda\\msc\\ADM\\testData\\TammJourneyAdm_2.0_31_03_2023\\TammJourneyAdm_2_0_landVerificationCertificate_getLandVerification_post_20230101023500580_Request.json:\n",
      "Match found in C:\\Users\\inbra\\OneDrive - Software AG\\Documents\\Adda\\msc\\ADM\\testData\\TammJourneyAdm_2.0_31_03_2023\\TammJourneyAdm_2_0_landVerificationCertificate_getLandVerification_post_20230101024147507_NativeRequest.json:\n",
      "Match found in C:\\Users\\inbra\\OneDrive - Software AG\\Documents\\Adda\\msc\\ADM\\testData\\TammJourneyAdm_2.0_31_03_2023\\TammJourneyAdm_2_0_landVerificationCertificate_getLandVerification_post_20230101024147507_Request.json:\n",
      "Match found in C:\\Users\\inbra\\OneDrive - Software AG\\Documents\\Adda\\msc\\ADM\\testData\\TammJourneyAdm_2.0_31_03_2023\\TammJourneyAdm_2_0_landVerificationCertificate_getLandVerification_post_20230101024934222_NativeRequest.json:\n",
      "Match found in C:\\Users\\inbra\\OneDrive - Software AG\\Documents\\Adda\\msc\\ADM\\testData\\TammJourneyAdm_2.0_31_03_2023\\TammJourneyAdm_2_0_landVerificationCertificate_getLandVerification_post_20230101024934222_Request.json:\n"
     ]
    },
    {
     "ename": "KeyboardInterrupt",
     "evalue": "",
     "output_type": "error",
     "traceback": [
      "\u001b[1;31m---------------------------------------------------------------------------\u001b[0m",
      "\u001b[1;31mKeyboardInterrupt\u001b[0m                         Traceback (most recent call last)",
      "Cell \u001b[1;32mIn[3], line 22\u001b[0m\n\u001b[0;32m     20\u001b[0m \u001b[38;5;66;03m# Root directory to search for files\u001b[39;00m\n\u001b[0;32m     21\u001b[0m root_dir \u001b[38;5;241m=\u001b[39m \u001b[38;5;124m'\u001b[39m\u001b[38;5;124mC:\u001b[39m\u001b[38;5;130;01m\\\\\u001b[39;00m\u001b[38;5;124mUsers\u001b[39m\u001b[38;5;130;01m\\\\\u001b[39;00m\u001b[38;5;124minbra\u001b[39m\u001b[38;5;130;01m\\\\\u001b[39;00m\u001b[38;5;124mOneDrive - Software AG\u001b[39m\u001b[38;5;130;01m\\\\\u001b[39;00m\u001b[38;5;124mDocuments\u001b[39m\u001b[38;5;130;01m\\\\\u001b[39;00m\u001b[38;5;124mAdda\u001b[39m\u001b[38;5;130;01m\\\\\u001b[39;00m\u001b[38;5;124mmsc\u001b[39m\u001b[38;5;130;01m\\\\\u001b[39;00m\u001b[38;5;124mADM\u001b[39m\u001b[38;5;130;01m\\\\\u001b[39;00m\u001b[38;5;124mtestData\u001b[39m\u001b[38;5;130;01m\\\\\u001b[39;00m\u001b[38;5;124mTammJourneyAdm_2.0_31_03_2023\u001b[39m\u001b[38;5;124m'\u001b[39m\n\u001b[1;32m---> 22\u001b[0m \u001b[43msearch_for_401\u001b[49m\u001b[43m(\u001b[49m\u001b[43mroot_dir\u001b[49m\u001b[43m)\u001b[49m\n",
      "Cell \u001b[1;32mIn[3], line 8\u001b[0m, in \u001b[0;36msearch_for_401\u001b[1;34m(directory)\u001b[0m\n\u001b[0;32m      6\u001b[0m \u001b[38;5;28;01mfor\u001b[39;00m file \u001b[38;5;129;01min\u001b[39;00m files:\n\u001b[0;32m      7\u001b[0m     \u001b[38;5;28;01mif\u001b[39;00m file\u001b[38;5;241m.\u001b[39mendswith(\u001b[38;5;124m\"\u001b[39m\u001b[38;5;124m.json\u001b[39m\u001b[38;5;124m\"\u001b[39m):\n\u001b[1;32m----> 8\u001b[0m         \u001b[38;5;28;01mwith\u001b[39;00m \u001b[38;5;28;43mopen\u001b[39;49m\u001b[43m(\u001b[49m\u001b[43mos\u001b[49m\u001b[38;5;241;43m.\u001b[39;49m\u001b[43mpath\u001b[49m\u001b[38;5;241;43m.\u001b[39;49m\u001b[43mjoin\u001b[49m\u001b[43m(\u001b[49m\u001b[43mroot\u001b[49m\u001b[43m,\u001b[49m\u001b[43m \u001b[49m\u001b[43mfile\u001b[49m\u001b[43m)\u001b[49m\u001b[43m,\u001b[49m\u001b[43m \u001b[49m\u001b[38;5;124;43m\"\u001b[39;49m\u001b[38;5;124;43mr\u001b[39;49m\u001b[38;5;124;43m\"\u001b[39;49m\u001b[43m,\u001b[49m\u001b[43m \u001b[49m\u001b[43mencoding\u001b[49m\u001b[38;5;241;43m=\u001b[39;49m\u001b[38;5;124;43m'\u001b[39;49m\u001b[38;5;124;43mutf-8\u001b[39;49m\u001b[38;5;124;43m'\u001b[39;49m\u001b[43m)\u001b[49m \u001b[38;5;28;01mas\u001b[39;00m f:\n\u001b[0;32m      9\u001b[0m             \u001b[38;5;28;01mtry\u001b[39;00m:\n\u001b[0;32m     10\u001b[0m                 data \u001b[38;5;241m=\u001b[39m json\u001b[38;5;241m.\u001b[39mload(f)\n",
      "File \u001b[1;32m~\\AppData\\Local\\Packages\\PythonSoftwareFoundation.Python.3.8_qbz5n2kfra8p0\\LocalCache\\local-packages\\Python38\\site-packages\\IPython\\core\\interactiveshell.py:282\u001b[0m, in \u001b[0;36m_modified_open\u001b[1;34m(file, *args, **kwargs)\u001b[0m\n\u001b[0;32m    275\u001b[0m \u001b[38;5;28;01mif\u001b[39;00m file \u001b[38;5;129;01min\u001b[39;00m {\u001b[38;5;241m0\u001b[39m, \u001b[38;5;241m1\u001b[39m, \u001b[38;5;241m2\u001b[39m}:\n\u001b[0;32m    276\u001b[0m     \u001b[38;5;28;01mraise\u001b[39;00m \u001b[38;5;167;01mValueError\u001b[39;00m(\n\u001b[0;32m    277\u001b[0m         \u001b[38;5;124mf\u001b[39m\u001b[38;5;124m\"\u001b[39m\u001b[38;5;124mIPython won\u001b[39m\u001b[38;5;124m'\u001b[39m\u001b[38;5;124mt let you open fd=\u001b[39m\u001b[38;5;132;01m{\u001b[39;00mfile\u001b[38;5;132;01m}\u001b[39;00m\u001b[38;5;124m by default \u001b[39m\u001b[38;5;124m\"\u001b[39m\n\u001b[0;32m    278\u001b[0m         \u001b[38;5;124m\"\u001b[39m\u001b[38;5;124mas it is likely to crash IPython. If you know what you are doing, \u001b[39m\u001b[38;5;124m\"\u001b[39m\n\u001b[0;32m    279\u001b[0m         \u001b[38;5;124m\"\u001b[39m\u001b[38;5;124myou can use builtins\u001b[39m\u001b[38;5;124m'\u001b[39m\u001b[38;5;124m open.\u001b[39m\u001b[38;5;124m\"\u001b[39m\n\u001b[0;32m    280\u001b[0m     )\n\u001b[1;32m--> 282\u001b[0m \u001b[38;5;28;01mreturn\u001b[39;00m \u001b[43mio_open\u001b[49m\u001b[43m(\u001b[49m\u001b[43mfile\u001b[49m\u001b[43m,\u001b[49m\u001b[43m \u001b[49m\u001b[38;5;241;43m*\u001b[39;49m\u001b[43margs\u001b[49m\u001b[43m,\u001b[49m\u001b[43m \u001b[49m\u001b[38;5;241;43m*\u001b[39;49m\u001b[38;5;241;43m*\u001b[39;49m\u001b[43mkwargs\u001b[49m\u001b[43m)\u001b[49m\n",
      "File \u001b[1;32mC:\\Program Files\\WindowsApps\\PythonSoftwareFoundation.Python.3.8_3.8.2800.0_x64__qbz5n2kfra8p0\\lib\\codecs.py:309\u001b[0m, in \u001b[0;36mBufferedIncrementalDecoder.__init__\u001b[1;34m(self, errors)\u001b[0m\n\u001b[0;32m    303\u001b[0m \u001b[38;5;28;01mclass\u001b[39;00m \u001b[38;5;21;01mBufferedIncrementalDecoder\u001b[39;00m(IncrementalDecoder):\n\u001b[0;32m    304\u001b[0m \u001b[38;5;250m    \u001b[39m\u001b[38;5;124;03m\"\"\"\u001b[39;00m\n\u001b[0;32m    305\u001b[0m \u001b[38;5;124;03m    This subclass of IncrementalDecoder can be used as the baseclass for an\u001b[39;00m\n\u001b[0;32m    306\u001b[0m \u001b[38;5;124;03m    incremental decoder if the decoder must be able to handle incomplete\u001b[39;00m\n\u001b[0;32m    307\u001b[0m \u001b[38;5;124;03m    byte sequences.\u001b[39;00m\n\u001b[0;32m    308\u001b[0m \u001b[38;5;124;03m    \"\"\"\u001b[39;00m\n\u001b[1;32m--> 309\u001b[0m     \u001b[38;5;28;01mdef\u001b[39;00m \u001b[38;5;21m__init__\u001b[39m(\u001b[38;5;28mself\u001b[39m, errors\u001b[38;5;241m=\u001b[39m\u001b[38;5;124m'\u001b[39m\u001b[38;5;124mstrict\u001b[39m\u001b[38;5;124m'\u001b[39m):\n\u001b[0;32m    310\u001b[0m         IncrementalDecoder\u001b[38;5;241m.\u001b[39m\u001b[38;5;21m__init__\u001b[39m(\u001b[38;5;28mself\u001b[39m, errors)\n\u001b[0;32m    311\u001b[0m         \u001b[38;5;66;03m# undecoded input that is kept between calls to decode()\u001b[39;00m\n",
      "\u001b[1;31mKeyboardInterrupt\u001b[0m: "
     ]
    }
   ],
   "source": [
    "import json\n",
    "import os\n",
    "\n",
    "def search_for_401(directory):\n",
    "    for root, dirs, files in os.walk(directory):\n",
    "        for file in files:\n",
    "            if file.endswith(\".json\"):\n",
    "                with open(os.path.join(root, file), \"r\", encoding='utf-8') as f:\n",
    "                    try:\n",
    "                        data = json.load(f)\n",
    "                        if \"code 401\" in str(data):\n",
    "                            print(f\"Match found in {os.path.join(root, file)}:\")\n",
    "                            for num, line in enumerate(f, 1):\n",
    "                                if \"code 401\" in line:\n",
    "                                    print(f\"Line {num}: {line}\")\n",
    "                    except json.JSONDecodeError as e:\n",
    "                        print(f\"Error reading {os.path.join(root, file)}: {e}\")\n",
    "\n",
    "\n",
    "# Root directory to search for files\n",
    "root_dir = 'C:\\\\Users\\\\inbra\\\\OneDrive - Software AG\\\\Documents\\\\Adda\\\\msc\\\\ADM\\\\testData\\\\TammJourneyAdm_2.0_31_03_2023'\n",
    "search_for_401(root_dir)"
   ]
  },
  {
   "cell_type": "code",
   "execution_count": null,
   "id": "edc379f9-a67d-46fb-8a9d-033e2c5ff48f",
   "metadata": {},
   "outputs": [],
   "source": []
  }
 ],
 "metadata": {
  "kernelspec": {
   "display_name": "Python 3 (ipykernel)",
   "language": "python",
   "name": "python3"
  },
  "language_info": {
   "codemirror_mode": {
    "name": "ipython",
    "version": 3
   },
   "file_extension": ".py",
   "mimetype": "text/x-python",
   "name": "python",
   "nbconvert_exporter": "python",
   "pygments_lexer": "ipython3",
   "version": "3.8.10"
  }
 },
 "nbformat": 4,
 "nbformat_minor": 5
}
