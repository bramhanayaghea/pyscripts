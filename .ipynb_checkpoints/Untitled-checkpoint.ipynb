{
 "cells": [
  {
   "cell_type": "code",
   "execution_count": null,
   "id": "72d00ba5-3c92-414e-b5e9-4682d33de7b1",
   "metadata": {},
   "outputs": [],
   "source": [
    "  # Create a directory for each matching string\n",
    "            for s in matching_strings:\n",
    "                folder_path = os.path.join(dirpath, s)\n",
    "                if not os.path.exists(folder_path):\n",
    "                    os.makedirs(folder_path)"
   ]
  }
 ],
 "metadata": {
  "kernelspec": {
   "display_name": "Python 3 (ipykernel)",
   "language": "python",
   "name": "python3"
  },
  "language_info": {
   "codemirror_mode": {
    "name": "ipython",
    "version": 3
   },
   "file_extension": ".py",
   "mimetype": "text/x-python",
   "name": "python",
   "nbconvert_exporter": "python",
   "pygments_lexer": "ipython3",
   "version": "3.8.10"
  }
 },
 "nbformat": 4,
 "nbformat_minor": 5
}
