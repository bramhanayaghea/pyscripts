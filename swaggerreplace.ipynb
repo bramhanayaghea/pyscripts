{
 "cells": [
  {
   "cell_type": "code",
   "execution_count": 6,
   "id": "ab4224a5-852f-4abc-aeb9-41af2479a20b",
   "metadata": {
    "tags": []
   },
   "outputs": [],
   "source": [
    "import yaml\n",
    "\n",
    "def modify_fields(node, fields_to_remove, fields_to_empty):\n",
    "    if isinstance(node, list):\n",
    "        for i in node:\n",
    "            modify_fields(i, fields_to_remove, fields_to_empty)\n",
    "    elif isinstance(node, dict):\n",
    "        for field in fields_to_remove:\n",
    "            if field in node:\n",
    "                del node[field]\n",
    "        for field in fields_to_empty:\n",
    "            if field in node:\n",
    "                node[field] = {}\n",
    "        for key in node.keys():\n",
    "            modify_fields(node[key], fields_to_remove, fields_to_empty)\n",
    "\n",
    "def main():\n",
    "    with open('swagger.yaml', 'r', encoding='utf-8') as f:\n",
    "        data = yaml.safe_load(f)\n",
    "\n",
    "    modify_fields(data, ['example'], ['x-examples'])\n",
    "\n",
    "    # Dump data into a string instead of directly into a file\n",
    "    yaml_str = yaml.dump(data, default_flow_style=True)\n",
    "\n",
    "    # Replace new lines with spaces\n",
    "    yaml_str = yaml_str.replace('\\n', ' ')\n",
    "\n",
    "    with open('lean_swagger.yaml', 'w') as f:\n",
    "        f.write(yaml_str)\n",
    "\n",
    "if __name__ == '__main__':\n",
    "    main()\n"
   ]
  },
  {
   "cell_type": "code",
   "execution_count": null,
   "id": "250e091d-e268-4dd5-a994-6b2a9328db10",
   "metadata": {},
   "outputs": [],
   "source": []
  },
  {
   "cell_type": "code",
   "execution_count": null,
   "id": "573da1b0-428b-4419-87a0-38d49296894a",
   "metadata": {},
   "outputs": [],
   "source": []
  }
 ],
 "metadata": {
  "kernelspec": {
   "display_name": "Python 3 (ipykernel)",
   "language": "python",
   "name": "python3"
  },
  "language_info": {
   "codemirror_mode": {
    "name": "ipython",
    "version": 3
   },
   "file_extension": ".py",
   "mimetype": "text/x-python",
   "name": "python",
   "nbconvert_exporter": "python",
   "pygments_lexer": "ipython3",
   "version": "3.8.10"
  }
 },
 "nbformat": 4,
 "nbformat_minor": 5
}
