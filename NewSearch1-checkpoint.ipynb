{
 "cells": [
  {
   "cell_type": "code",
   "execution_count": 9,
   "id": "63d7ef6b-e187-4d8f-9016-16ed85384fca",
   "metadata": {
    "tags": []
   },
   "outputs": [
    {
     "ename": "SyntaxError",
     "evalue": "expression cannot contain assignment, perhaps you meant \"==\"? (4047625956.py, line 34)",
     "output_type": "error",
     "traceback": [
      "\u001b[1;36m  Cell \u001b[1;32mIn[9], line 34\u001b[1;36m\u001b[0m\n\u001b[1;33m    if file.lower().endswith(('.xql', '.js')) and file.lower().startswith(pipeline_prefix) and substring in open(os.path.join(root, file), 'r','encoding'='utf-8').read().lower():\u001b[0m\n\u001b[1;37m                                                                                                                                               ^\u001b[0m\n\u001b[1;31mSyntaxError\u001b[0m\u001b[1;31m:\u001b[0m expression cannot contain assignment, perhaps you meant \"==\"?\n"
     ]
    }
   ],
   "source": [
    "import os\n",
    "import pandas as pd\n",
    "import chardet\n",
    "# Load in the input\n",
    "df = pd.read_excel('C:\\\\Users\\\\inbra\\\\OneDrive - Software AG\\\\Documents\\\\Adda\\\\msc\\\\DCT\\\\TammJourneyDCT_2_Summary.xlsx')\n",
    "# extract substring from column\n",
    "\n",
    "substrings = df['API_Endpoint'].str.replace('^https://sgs\\.api\\.abudhabi\\.ae/gateway/TammJourneyDct/2\\.0', '').tolist()\n",
    "#print(substrings)\n",
    "# Create a new column called 'present' and initialize it to False\n",
    "df['present'] = False\n",
    "\n",
    "# List of words to search for\n",
    "search_words = ['eventLicensing/organizers/{id}','eventLicensing/organizers/validateContactMail/{contactMail}/{OrganizedID}','eventLicensing/v2/payment/getRecieptUrl','eventLicensing/event/{id}/venues','eventLicensing/sharedServices/vwTicketPaymentDetails','eventLicensing/event/{eventId}/paymentCallBack','eventLicensing/organizers/getSelfOrganizerByIdNoArea/{Id}','specialLicense/saveNoc','eventLicensing/participant/getById','eventLicensing/event/{id}/lineItems/eventApprovalStatusId','eventLicensing/draft/createEntertainerPermit','eventLicensing/entertainerPermit/{id}/invoices','eventLicensing/masterData/educationLevels','venueBooking/venueUpdatePayment','venueBooking/bookingEvents','specialLicense/specialLicenseByTradeLicense','artWorkshop/deleteOrder','venueBooking/venueBook','hotelLicensing/requests/{id}/payment','eventLicensing/category/{parentId}/childs','eventLicensing/companies/{id}','sso/linkSsoUser','specialLicense/specialLicenseMasterData','artWorkshop/productAvailability','eventLicensing/userNotifications/updateIsRead','eventLicensing/event/workFlow','eventLicensing/userNotifications/count','venueBooking/venueAvailability','artWorkshop/onboardUser','eventLicensing/survey/type','eventLicensing/sponsors','eventLicensing/notifications/{id}','eventLicensing/organizers/getSelfOrganizerProfileStatusCount/{emiratesId}','specialLicense/nocList','eventLicensing/entertainerPermit/permitsListing/count','eventLicensing/organizers/validateCompanyTL/{tlNumber}','specialLicense/specialLicenseProfile','sso/otp','eventLicensing/draft/{id}/delete','eventLicensing/sharedServices/eventTermsAndConditions','hotelLicensing/requests','eventLicensing/draft/entertainerPermit','eventLicensing/organizers/getSelfOrganizerById/{Id}','eventLicensing/organizers/delinkUser','eventLicensing/organizers','eventLicensing/participant/{id}','eventLicensing/participant/submit','hotelLicensing/classificationTypes/{id}','eventLicensing/event/eventsListing/count','hotelLicensing/classificationTypes','venues/{id}','eventLicensing/draft/participant','specialLicense/document','eventLicensing/v2/emailParticipant/sendParticipaintOtp','touristGuideLicensing/registration/licenseEligibility','eventLicensing/participant/sendInvitiationsByEmail','events/getEventDetails','venueBooking/venueCancel','eventLicensing/companies/venusView/count','specialLicense/nocDetails','specialLicense/payment/invoice/{id}','hotelLicensing/requests/{id}/paymentCallBack','specialLicense/temparoryLicenseList','artWorkshop/productDetails','eventLicensing/organizers/removeContact/{contactID}','venueBooking/token','hotelLicensing/hotelLicenseTermsAndConditions/{id}','venueBooking/venueExtend','hotelLicensing/requests/{id}/accounts/type/{id2}','eventLicensing/draft/venue','eventLicensing/event/amend','artWorkshop/productLocations','eventLicensing/organizers/listUsers/count','hotelLicensing/accountTypes','eventLicensing/v2/payment/downloadReceipt','specialLicense/circular','hotelLicensing/hotelLicenseRegions','eventLicensing/masterData/genders','eventLicensing/token','hotelLicensing/common/disclaimer/{id}','eventLicensing/entertainerPermit/{id}/paymentApprovalStatus','venueBooking/venuebooking','venueBooking/bookingEvent','eventLicensing/masterData/userTypes','eventLicensing/participant','eventLicensing/masterData/permitType','eventLicensing/event/{id}/permitStatus','eventLicensing/mstrAreaCategory','eventLicensing/v2/emailParticipant/verifyOtp','eventLicensing/organizers/addContact','eventLicensing/masterData/shapes','venueBooking/venueAmend','artWorkshop/reservationDetails','eventLicensing/draft/entertainerPermit/count','eventLicensing/organizers/addUserForOrganizer','eventLicensing/v2/event/{eventId}/invoices','eventLicensing/organizers/businessLicense','eventLicensing/entertainerPermit/{id}/paymentCallBack','eventLicensing/v2/emailParticipant/verifyToken','eventLicensing/event/getEvent/{id}','venueBooking/eventsAudiences','eventLicensing/event/{id}/cancel','eventLicensing/category/fullCategoryName/{categoryId}','events/getEvents','eventLicensing/mstrParticipantType','eventLicensing/event/{id}','eventLicensing/event/{id}/comments','venues','artWorkshop/createOrder','hotelLicensing/requests/{id}/attachments','eventLicensing/companies/venusView','specialLicense/payment/paymentCallBack/{id}','eventLicensing/entertainerPermit/ammentComment','hotelLicensing/requests/{id}/facilities','eventLicensing/organizers/getSelfOrganizerProfileStatus/{emiratesId}','hotelLicensing/requests/{id}/attachmentTypes','eventLicensing/masterData/permitActivity','artWorkshop/productList','venueBooking/termsConditions','eventLicensing/sharedServices/fileContent','eventLicensing/masterData/notificationCategory','sso/v2/ssoUserDetails','eventLicensing/userNotifications/getAllNoAttachment','hotelLicensing/requests/{id}/accounts/{id2}','eventLicensing/event/submit','eventLicensing/organizers/validateContactMail/{contactMail}','token','eventLicensing/organizers/getSelfOrganizercount/{emiratesId}','hotelLicensing/requests/{id}/submit','artWorkshop/orderVoucher','eventLicensing/masterData/visaTypes','eventLicensing/masterData/professions','hotelLicensing/createHotelLicenseRequest','eventLicensing/masterData/marketingCategories','eventLicensing/organizers/validateCompanyTL/{tlNumber}/{OrganizedID}','hotelLicensing/requests/{id}/projectdetails','eventLicensing/draft/{id}/{entityName}','specialLicense/token','eventLicensing/venueCities','eventLicensing/participant/count','eventLicensing/v2/sharedServices/vwPaymentDetails','eventLicensing/organizers/listUsers','hotelLicensing/unitGroups','eventLicensing/masterData/religions','eventLicensing/sharedServices/entertainmentPermitTermsAndConditions','eventLicensing/organizers/validateCompanyName/{companyName}','eventLicensing/sharedServices/getActionNotificationByUserId','venueBooking/venueUserProfile','eventLicensing/venueCities/all','eventLicensing/entertainerPermit/{id}/cancel','eventLicensing/organizers/getSelfOrganizer/{userName}','eventLicensing/organizers/submit','artWorkshop/updateReservation','hotelLicensing/classificationTypes/{id}/ratings','artWorkshop/createAwInvoice','venueBooking/venueUserProfilePost','eventLicensing/participant/emailValid','artWorkshop/token','sso/modifySsoUserDetails','venueBooking/rentalFees','artWorkshop/productOrderDetails','eventLicensing/countries','eventLicensing/sharedServices/vwTicketPaymentDetails/count','eventLicensing/organizers/validateUserAssociation','eventLicensing/v2/emailParticipant/expireToken','artWorkshop/artWorkShopOrders','events/token','eventLicensing/masterData/permitIssuePeriod','hotelLicensing/requests/{id}/accounts','eventLicensing/entertainerPermit/{id}/permitVoucherViewModel','eventLicensing/organizersView','eventLicensing/organizers/validateCompanyName/{companyName}/{organizedID}','artWorkshop/createReservation','hotelLicensing/unitGroups/{id}/UnitTypes','eventLicensing/entertainerPermit/{id}','eventLicensing/survey/questions','eventLicensing/v2/areaList/shapes','specialLicense/temparoryLicense','eventLicensing/sharedServices/vwPaymentDetails','eventLicensing/sharedServices/roleSections','eventLicensing/participant/passportValid','eventLicensing/activities','eventLicensing/file','touristGuideLicensing/token','venueBooking/venueInfo','eventLicensing/entertainerPermit/submit','specialLicense/specialLicenseVenues','eventLicensing/draft/createEvent','eventLicensing/sharedServices/updateActionNotification','eventLicensing/masterData/socialNetworkType','sso/v3/ssoUserDetails','eventLicensing/draft/event','eventLicensing/sharePoint/getTaskItemStatus','eventLicensing/survey/submit','eventLicensing/draft/event/count','eventLicensing/masterData/passportTypes','hotelLicensing/attachmentTypes','venueBooking/eventTypes','hotelLicensing/token','specialLicense/saveDocument','eventLicensing/masterData/nationalities','eventLicensing/marketing/getByEventId/{id}','eventLicensing/draft/venue/count','venueBooking/organizationTypes','eventLicensing/participant/emiratesIdValid','eventLicensing/entertainerPermit/{id}/approvalStatus/{approvalStatusId}','eventLicensing/entertainerPermit/workFlow','eventLicensing/masterData/speakerLanguages','eventLicensing/organizationCategories','eventLicensing/attachments/byCode/{code}','sso/createSsoUser','venueBooking/venueApplication','venueBooking/venueApplicationDetail','eventLicensing/organizers/{id}/isEligibleForApply','eventLicensing/venue/submit','eventLicensing/entertainerPermit/amend','hotelLicensing/permits','hotelLicensing/requests/{id}/status','venueBooking/emirates','eventLicensing/organizersView/count','eventLicensing/organizers/setAdminUser','hotelLicensing/requests/{id}','eventLicensing/category','eventLicensing/entertainerPermit/permitsListing','artWorkshop/updateAwInvoice','eventLicensing/event/eventsListing','eventLicensing/sharedServices/pdfLicense','eventLicensing/licenseType','artWorkshop/updateOrder','eventLicensing/participant/amend/{id}','eventLicensing/countries/{id}/cities','artWorkshop/profiles/{id}','artWorkshop/productCategories','eventLicensing/entertainerPermit/{id}/renew','eventLicensing/v2/entertainerPermit/{permitId}/invoices','eventLicensing/companies/area/{id}','sso/token','eventLicensing/draft/participant/count','eventLicensing/entertainerPermit/{permitId}/getApproved','hotelLicensing/requests/{id}/permit','venueBooking/venueEvents','hotelLicensing/accountTypes/{id}']\n",
    "search_strings = ['hotelLicensing/accountTypes/{id}']\n",
    "search_strings1 = ['token']\n",
    "\n",
    "# Directory path to search in\n",
    "dir_path = 'C:\\\\JDeveloper\\\\mywork\\\\Adda_Prod\\\\TammMicroservices'\n",
    "\n",
    "\n",
    "def search_files(start_dir, search_str):\n",
    "    search_str = search_str.lower().split('/')\n",
    "    for root, dirs, files in os.walk(start_dir):\n",
    "        for file in files:\n",
    "            file_path = os.path.join(root, file)\n",
    "            if file.lower().endswith('.pipeline') and search_str[0] in file.lower():\n",
    "                pipeline_prefix = os.path.splitext(file)[0]\n",
    "                search_substring(start_dir, search_str[1], pipeline_prefix)\n",
    "    \n",
    "def search_substring(start_dir, substring, pipeline_prefix):\n",
    "    for root, dirs, files in os.walk(start_dir):\n",
    "        for file in files:\n",
    "            if file.lower().endswith(('.xql', '.js')) and file.lower().startswith(pipeline_prefix) and substring in open(os.path.join(root, file), 'r',encoding='utf-8').read().lower():\n",
    "                print(f\"Match found in file: {os.path.join(root, file)}\")\n",
    "                print(f\"Matched substring: {substring}\") \n",
    "                print()\n",
    "\n"
   ]
  },
  {
   "cell_type": "code",
   "execution_count": 6,
   "id": "4ff9d2e2-3e55-4219-9574-1af4a3c16e0e",
   "metadata": {
    "tags": []
   },
   "outputs": [
    {
     "name": "stdout",
     "output_type": "stream",
     "text": [
      "https://sgs.api.abudhabi.ae/gateway/TammJourneyDct2.0/eventLicensing/organizers/{id}\n"
     ]
    },
    {
     "ename": "UnicodeDecodeError",
     "evalue": "'charmap' codec can't decode byte 0x81 in position 2430: character maps to <undefined>",
     "output_type": "error",
     "traceback": [
      "\u001b[1;31m---------------------------------------------------------------------------\u001b[0m",
      "\u001b[1;31mUnicodeDecodeError\u001b[0m                        Traceback (most recent call last)",
      "Cell \u001b[1;32mIn[6], line 7\u001b[0m\n\u001b[0;32m      4\u001b[0m mask \u001b[38;5;241m=\u001b[39m df[\u001b[38;5;124m'\u001b[39m\u001b[38;5;124mAPI_Endpoint\u001b[39m\u001b[38;5;124m'\u001b[39m]\u001b[38;5;241m.\u001b[39mstr\u001b[38;5;241m.\u001b[39mcontains(substring , case\u001b[38;5;241m=\u001b[39m\u001b[38;5;28;01mFalse\u001b[39;00m) \n\u001b[0;32m      5\u001b[0m \u001b[38;5;28;01mif\u001b[39;00m mask\u001b[38;5;241m.\u001b[39many():\n\u001b[0;32m      6\u001b[0m     \u001b[38;5;66;03m# If the string is present, call the function with the string as argument\u001b[39;00m\n\u001b[1;32m----> 7\u001b[0m     result\u001b[38;5;241m=\u001b[39m\u001b[43msearch_files\u001b[49m\u001b[43m(\u001b[49m\u001b[43mdir_path\u001b[49m\u001b[43m,\u001b[49m\u001b[43msubstring\u001b[49m\u001b[43m)\u001b[49m\n\u001b[0;32m      8\u001b[0m     \u001b[38;5;28mprint\u001b[39m (result)\n\u001b[0;32m      9\u001b[0m     \u001b[38;5;28;01mif\u001b[39;00m result\u001b[38;5;241m==\u001b[39m\u001b[38;5;28;01mTrue\u001b[39;00m:\n\u001b[0;32m     10\u001b[0m         \u001b[38;5;66;03m# If the function returns a value, update the 'present' column to True\u001b[39;00m\n",
      "Cell \u001b[1;32mIn[5], line 29\u001b[0m, in \u001b[0;36msearch_files\u001b[1;34m(start_dir, search_str)\u001b[0m\n\u001b[0;32m     27\u001b[0m \u001b[38;5;28;01mif\u001b[39;00m file\u001b[38;5;241m.\u001b[39mlower()\u001b[38;5;241m.\u001b[39mendswith(\u001b[38;5;124m'\u001b[39m\u001b[38;5;124m.pipeline\u001b[39m\u001b[38;5;124m'\u001b[39m) \u001b[38;5;129;01mand\u001b[39;00m search_str[\u001b[38;5;241m0\u001b[39m] \u001b[38;5;129;01min\u001b[39;00m file\u001b[38;5;241m.\u001b[39mlower():\n\u001b[0;32m     28\u001b[0m     \u001b[38;5;28;01mwith\u001b[39;00m \u001b[38;5;28mopen\u001b[39m(file_path, \u001b[38;5;124m'\u001b[39m\u001b[38;5;124mr\u001b[39m\u001b[38;5;124m'\u001b[39m) \u001b[38;5;28;01mas\u001b[39;00m f:\n\u001b[1;32m---> 29\u001b[0m         pipeline_contents \u001b[38;5;241m=\u001b[39m \u001b[43mf\u001b[49m\u001b[38;5;241;43m.\u001b[39;49m\u001b[43mread\u001b[49m\u001b[43m(\u001b[49m\u001b[43m)\u001b[49m\n\u001b[0;32m     30\u001b[0m     pipeline_prefix \u001b[38;5;241m=\u001b[39m os\u001b[38;5;241m.\u001b[39mpath\u001b[38;5;241m.\u001b[39msplitext(file)[\u001b[38;5;241m0\u001b[39m]\n\u001b[0;32m     31\u001b[0m     search_substring(start_dir, search_str[\u001b[38;5;241m1\u001b[39m], pipeline_prefix)\n",
      "File \u001b[1;32mC:\\Program Files\\WindowsApps\\PythonSoftwareFoundation.Python.3.8_3.8.2800.0_x64__qbz5n2kfra8p0\\lib\\encodings\\cp1252.py:23\u001b[0m, in \u001b[0;36mIncrementalDecoder.decode\u001b[1;34m(self, input, final)\u001b[0m\n\u001b[0;32m     22\u001b[0m \u001b[38;5;28;01mdef\u001b[39;00m \u001b[38;5;21mdecode\u001b[39m(\u001b[38;5;28mself\u001b[39m, \u001b[38;5;28minput\u001b[39m, final\u001b[38;5;241m=\u001b[39m\u001b[38;5;28;01mFalse\u001b[39;00m):\n\u001b[1;32m---> 23\u001b[0m     \u001b[38;5;28;01mreturn\u001b[39;00m \u001b[43mcodecs\u001b[49m\u001b[38;5;241;43m.\u001b[39;49m\u001b[43mcharmap_decode\u001b[49m\u001b[43m(\u001b[49m\u001b[38;5;28;43minput\u001b[39;49m\u001b[43m,\u001b[49m\u001b[38;5;28;43mself\u001b[39;49m\u001b[38;5;241;43m.\u001b[39;49m\u001b[43merrors\u001b[49m\u001b[43m,\u001b[49m\u001b[43mdecoding_table\u001b[49m\u001b[43m)\u001b[49m[\u001b[38;5;241m0\u001b[39m]\n",
      "\u001b[1;31mUnicodeDecodeError\u001b[0m: 'charmap' codec can't decode byte 0x81 in position 2430: character maps to <undefined>"
     ]
    }
   ],
   "source": [
    "for substring in substrings:\n",
    "    searchurl = 'https://sgs.api.abudhabi.ae/gateway/TammJourneyDct2.0' + substring\n",
    "    print(searchurl)\n",
    "    mask = df['API_Endpoint'].str.contains(substring , case=False) \n",
    "    if mask.any():\n",
    "        # If the string is present, call the function with the string as argument\n",
    "        result=search_files(dir_path,substring)\n",
    "        print (result)\n",
    "        if result==True:\n",
    "            # If the function returns a value, update the 'present' column to True\n",
    "            \n",
    "            df.loc[mask, 'present'] = True\n",
    "# Save the updated dataframe to a new Excel file\n",
    "df.to_excel('C:\\\\Users\\\\inbra\\\\OneDrive - Software AG\\\\Documents\\\\Adda\\\\msc\\\\DCT\\\\result.xlsx', index=False)"
   ]
  },
  {
   "cell_type": "code",
   "execution_count": null,
   "id": "b134938a-4e24-4107-b2ed-6cb6a28fc0db",
   "metadata": {},
   "outputs": [],
   "source": []
  }
 ],
 "metadata": {
  "kernelspec": {
   "display_name": "Python 3 (ipykernel)",
   "language": "python",
   "name": "python3"
  },
  "language_info": {
   "codemirror_mode": {
    "name": "ipython",
    "version": 3
   },
   "file_extension": ".py",
   "mimetype": "text/x-python",
   "name": "python",
   "nbconvert_exporter": "python",
   "pygments_lexer": "ipython3",
   "version": "3.8.10"
  }
 },
 "nbformat": 4,
 "nbformat_minor": 5
}
