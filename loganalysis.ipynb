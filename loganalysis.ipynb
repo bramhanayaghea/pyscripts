{
 "cells": [
  {
   "cell_type": "code",
   "execution_count": 3,
   "id": "2b453142-fbfc-4499-8dbb-ebb694fde567",
   "metadata": {
    "tags": []
   },
   "outputs": [
    {
     "name": "stdout",
     "output_type": "stream",
     "text": [
      "API: ADCustomsGenericServices_1.0\n",
      "Total Invocations: 53096\n",
      "Success: 52964 | Failure: 132\n",
      "High Response Time: 12073\n",
      "------------------------------\n"
     ]
    }
   ],
   "source": [
    "import os\n",
    "import re\n",
    "from fnmatch import fnmatch\n",
    "from collections import defaultdict\n",
    "\n",
    "# Define a dictionary to store API invocations and their response details\n",
    "api_invocations = defaultdict(list)\n",
    "\n",
    "# Specify the directory to search\n",
    "search_directory = \"C:\\\\Users\\\\inbra\\\\OneDrive - Software AG\\\\Documents\\\\Adda\\\\\\go-live\\\\07-09-2023\"\n",
    "\n",
    "# Function to process log files\n",
    "def process_log_file(file_path):\n",
    "    with open(file_path, 'r') as f:\n",
    "        log_lines = f.readlines()\n",
    "\n",
    "    for line in log_lines:\n",
    "        api_info_match = re.search(r'\\[APIINFO: (.*?)\\]', line)\n",
    "        response_code_match = re.search(r'\\[ProviderResponseCode=(\\d+)\\|', line)\n",
    "        response_time_match = re.search(r'\\[RESPONSETIME: (\\d+) ms\\]', line)\n",
    "\n",
    "        if api_info_match and response_code_match and response_time_match:\n",
    "            api_info = api_info_match.group(1)\n",
    "            response_code = int(response_code_match.group(1))\n",
    "            response_time = int(response_time_match.group(1))\n",
    "\n",
    "            if response_code == 200:\n",
    "                result = \"success\"\n",
    "            else:\n",
    "                result = \"failure\"\n",
    "\n",
    "            if response_time > 1000:\n",
    "                response_time_status = \"high_response_time\"\n",
    "            else:\n",
    "                response_time_status = \"normal_response_time\"\n",
    "\n",
    "            api_invocations[api_info].append((result, response_time_status))\n",
    "\n",
    "# Recursively search for log files in the directory and its subdirectories\n",
    "for root, dirs, files in os.walk(search_directory):\n",
    "    for file in files:\n",
    "        if fnmatch(file, \"*.log\"):\n",
    "            file_path = os.path.join(root, file)\n",
    "            process_log_file(file_path)\n",
    "\n",
    "# Print results\n",
    "for api_info, invocations in api_invocations.items():\n",
    "    total_invocations = len(invocations)\n",
    "    success_count = sum(1 for result, _ in invocations if result == \"success\")\n",
    "    failure_count = total_invocations - success_count\n",
    "    high_response_time_count = sum(1 for _, response_time_status in invocations if response_time_status == \"high_response_time\")\n",
    "\n",
    "    print(f\"API: {api_info}\")\n",
    "    print(f\"Total Invocations: {total_invocations}\")\n",
    "    print(f\"Success: {success_count} | Failure: {failure_count}\")\n",
    "    print(f\"High Response Time: {high_response_time_count}\")\n",
    "    print(\"-\" * 30)\n"
   ]
  },
  {
   "cell_type": "code",
   "execution_count": null,
   "id": "124970c9-4c34-48dc-b9af-5704a42f5728",
   "metadata": {},
   "outputs": [],
   "source": []
  },
  {
   "cell_type": "code",
   "execution_count": null,
   "id": "92b08b89-af92-4922-81a4-0c999f34eba1",
   "metadata": {},
   "outputs": [],
   "source": []
  }
 ],
 "metadata": {
  "kernelspec": {
   "display_name": "Python 3 (ipykernel)",
   "language": "python",
   "name": "python3"
  },
  "language_info": {
   "codemirror_mode": {
    "name": "ipython",
    "version": 3
   },
   "file_extension": ".py",
   "mimetype": "text/x-python",
   "name": "python",
   "nbconvert_exporter": "python",
   "pygments_lexer": "ipython3",
   "version": "3.8.10"
  }
 },
 "nbformat": 4,
 "nbformat_minor": 5
}
