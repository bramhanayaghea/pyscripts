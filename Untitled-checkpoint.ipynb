{
 "cells": [
  {
   "cell_type": "code",
   "execution_count": 1,
   "id": "d65326b5-8d87-4752-87a9-33c4445b4326",
   "metadata": {
    "tags": []
   },
   "outputs": [],
   "source": [
    "import xml.etree.ElementTree as ET\n",
    "import json\n",
    "\n",
    "def xsd_to_json_schema(xsd_file_path, json_schema_file_path):\n",
    "    xsd_tree = ET.parse(xsd_file_path)\n",
    "    json_schema = handle_element(xsd_tree.getroot())\n",
    "    with open(json_schema_file_path, 'w') as f:\n",
    "        json.dump(json_schema, f, indent=2)\n",
    "\n",
    "def handle_element(element):\n",
    "    if 'type' in element.attrib:\n",
    "        element_type = element.attrib['type']\n",
    "        if element_type.startswith('xsd:'):\n",
    "            json_schema = handle_xsd_type(element_type)\n",
    "        else:\n",
    "            json_schema = handle_complex_type(element)\n",
    "    else:\n",
    "        json_schema = handle_complex_type(element)\n",
    "    return json_schema\n",
    "\n",
    "def handle_xsd_type(xsd_type):\n",
    "    type_mapping = {\n",
    "        'xsd:string': 'string',\n",
    "        'xsd:boolean': 'boolean',\n",
    "        'xsd:int': 'integer',\n",
    "        'xsd:long': 'number',\n",
    "        'xsd:dateTime': 'string',\n",
    "        'xsd:date': 'string',\n",
    "        'xsd:time': 'string',\n",
    "        'xsd:base64Binary': 'string'\n",
    "    }\n",
    "    format_mapping = {\n",
    "        'xsd:dateTime': 'date-time',\n",
    "        'xsd:date': 'date',\n",
    "        'xsd:time': 'time',\n",
    "        'xsd:base64Binary': 'base64'\n",
    "    }\n",
    "    json_schema = {'type': type_mapping.get(xsd_type, 'string')}\n",
    "    if xsd_type in format_mapping:\n",
    "        json_schema['format'] = format_mapping[xsd_type]\n",
    "    return json_schema\n",
    "\n",
    "def handle_complex_type(element):\n",
    "    json_schema = {'type': 'object', 'properties': {}}\n",
    "    for child in element:\n",
    "        if child.tag.endswith('element'):\n",
    "            child_name = child.attrib['name']\n",
    "            json_schema['properties'][child_name] = handle_element(child)\n",
    "    return json_schema\n"
   ]
  },
  {
   "cell_type": "code",
   "execution_count": 2,
   "id": "2af4624c-69e1-44f8-9002-ec0a01d477d5",
   "metadata": {
    "tags": []
   },
   "outputs": [],
   "source": [
    "# usage\n",
    "xsd_file='c:\\\\users\\\\inbra\\\\workspaceUtil\\\\PersonProfileSchemas_Custom-2.xsd'\n",
    "output_json='c:\\\\users\\\\inbra\\\\workspaceUtil\\\\samplejson.json'\n",
    "xsd_to_json_schema(xsd_file, output_json)"
   ]
  },
  {
   "cell_type": "code",
   "execution_count": null,
   "id": "a3c063be-aacc-45c0-b067-3ec74fd36c8f",
   "metadata": {},
   "outputs": [],
   "source": []
  }
 ],
 "metadata": {
  "kernelspec": {
   "display_name": "Python 3 (ipykernel)",
   "language": "python",
   "name": "python3"
  },
  "language_info": {
   "codemirror_mode": {
    "name": "ipython",
    "version": 3
   },
   "file_extension": ".py",
   "mimetype": "text/x-python",
   "name": "python",
   "nbconvert_exporter": "python",
   "pygments_lexer": "ipython3",
   "version": "3.8.10"
  }
 },
 "nbformat": 4,
 "nbformat_minor": 5
}
