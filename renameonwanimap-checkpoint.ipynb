{
 "cells": [
  {
   "cell_type": "code",
   "execution_count": null,
   "id": "6f96cc94-dee0-437c-b728-c73a12c753c3",
   "metadata": {},
   "outputs": [],
   "source": [
    "import os\n",
    "\n",
    "root_dir = 'C:\\\\Users\\\\inbra\\\\testAutomate\\\\adm\\\\TammJourneyAdm_2.0_31_03_2023\\\\renamed'\n",
    "\n",
    "# Traverse the root directory and its subdirectories\n",
    "for dirpath, dirnames, filenames in os.walk(root_dir):\n",
    "    # Loop through the files in the current directory\n",
    "    for filename in filenames:\n",
    "        # Check if the filename contains \"onwaniMap\"\n",
    "        if 'onwaniMap' in filename:\n",
    "            src_file = os.path.join(dirpath, filename)\n",
    "            new_filename = filename.replace('onwaniMap', 'onwaniMap_')\n",
    "            dst_file = os.path.join(dirpath, new_filename)\n",
    "            os.rename(src_file, dst_file)\n"
   ]
  }
 ],
 "metadata": {
  "kernelspec": {
   "display_name": "Python 3 (ipykernel)",
   "language": "python",
   "name": "python3"
  },
  "language_info": {
   "codemirror_mode": {
    "name": "ipython",
    "version": 3
   },
   "file_extension": ".py",
   "mimetype": "text/x-python",
   "name": "python",
   "nbconvert_exporter": "python",
   "pygments_lexer": "ipython3",
   "version": "3.8.10"
  }
 },
 "nbformat": 4,
 "nbformat_minor": 5
}
