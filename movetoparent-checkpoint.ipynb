{
 "cells": [
  {
   "cell_type": "code",
   "execution_count": null,
   "id": "a17870a2-feab-41b7-8762-1731617b3e45",
   "metadata": {},
   "outputs": [],
   "source": [
    "import os\n",
    "import shutil\n",
    "\n",
    "main_dir = 'C:\\\\Users\\\\inbra\\\\testAutomate\\\\adm\\\\TammJourneyAdm_2.0_31_03_2023\\\\renamed'\n",
    "\n",
    "# Loop through all subdirectories\n",
    "for subdir in os.listdir(main_dir):\n",
    "    subdir_path = os.path.join(main_dir, subdir)\n",
    "\n",
    "    # Check if the path is a directory and not a file\n",
    "    if os.path.isdir(subdir_path):\n",
    "        # Move all files from the subdirectory to the main directory\n",
    "        for file in os.listdir(subdir_path):\n",
    "            file_path = os.path.join(subdir_path, file)\n",
    "            if os.path.isfile(file_path):\n",
    "                shutil.move(file_path, main_dir)"
   ]
  }
 ],
 "metadata": {
  "kernelspec": {
   "display_name": "Python 3 (ipykernel)",
   "language": "python",
   "name": "python3"
  },
  "language_info": {
   "codemirror_mode": {
    "name": "ipython",
    "version": 3
   },
   "file_extension": ".py",
   "mimetype": "text/x-python",
   "name": "python",
   "nbconvert_exporter": "python",
   "pygments_lexer": "ipython3",
   "version": "3.8.10"
  }
 },
 "nbformat": 4,
 "nbformat_minor": 5
}
