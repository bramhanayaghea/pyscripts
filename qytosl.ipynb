{
 "cells": [
  {
   "cell_type": "code",
   "execution_count": 12,
   "id": "4f148422-fc4f-4419-a44a-c409278f9a00",
   "metadata": {
    "tags": []
   },
   "outputs": [
    {
     "ename": "XMLSyntaxError",
     "evalue": "Start tag expected, '<' not found, line 2, column 1 (file:/C:/Users/inbra/pyscripts/xquery/SecurePersonInquiryResp1-1-copy.xqy, line 2)",
     "output_type": "error",
     "traceback": [
      "Traceback \u001b[1;36m(most recent call last)\u001b[0m:\n",
      "\u001b[0m  File \u001b[0;32m~\\AppData\\Local\\Packages\\PythonSoftwareFoundation.Python.3.8_qbz5n2kfra8p0\\LocalCache\\local-packages\\Python38\\site-packages\\IPython\\core\\interactiveshell.py:3460\u001b[0m in \u001b[0;35mrun_code\u001b[0m\n    exec(code_obj, self.user_global_ns, self.user_ns)\u001b[0m\n",
      "\u001b[0m  Cell \u001b[0;32mIn[12], line 35\u001b[0m\n    xslt_string = xqy_to_xslt(xqy_file)\u001b[0m\n",
      "\u001b[0m  Cell \u001b[0;32mIn[12], line 14\u001b[0m in \u001b[0;35mxqy_to_xslt\u001b[0m\n    xqy_tree = etree.parse(xqy_file)\u001b[0m\n",
      "\u001b[0m  File \u001b[0;32msrc\\lxml\\etree.pyx:3541\u001b[0m in \u001b[0;35mlxml.etree.parse\u001b[0m\n",
      "\u001b[0m  File \u001b[0;32msrc\\lxml\\parser.pxi:1879\u001b[0m in \u001b[0;35mlxml.etree._parseDocument\u001b[0m\n",
      "\u001b[0m  File \u001b[0;32msrc\\lxml\\parser.pxi:1905\u001b[0m in \u001b[0;35mlxml.etree._parseDocumentFromURL\u001b[0m\n",
      "\u001b[0m  File \u001b[0;32msrc\\lxml\\parser.pxi:1808\u001b[0m in \u001b[0;35mlxml.etree._parseDocFromFile\u001b[0m\n",
      "\u001b[0m  File \u001b[0;32msrc\\lxml\\parser.pxi:1180\u001b[0m in \u001b[0;35mlxml.etree._BaseParser._parseDocFromFile\u001b[0m\n",
      "\u001b[0m  File \u001b[0;32msrc\\lxml\\parser.pxi:618\u001b[0m in \u001b[0;35mlxml.etree._ParserContext._handleParseResultDoc\u001b[0m\n",
      "\u001b[0m  File \u001b[0;32msrc\\lxml\\parser.pxi:728\u001b[0m in \u001b[0;35mlxml.etree._handleParseResult\u001b[0m\n",
      "\u001b[1;36m  File \u001b[1;32msrc\\lxml\\parser.pxi:657\u001b[1;36m in \u001b[1;35mlxml.etree._raiseParseError\u001b[1;36m\n",
      "\u001b[1;36m  File \u001b[1;32mfile:/C:/Users/inbra/pyscripts/xquery/SecurePersonInquiryResp1-1-copy.xqy:2\u001b[1;36m\u001b[0m\n\u001b[1;31mXMLSyntaxError\u001b[0m\u001b[1;31m:\u001b[0m Start tag expected, '<' not found, line 2, column 1\n"
     ]
    }
   ],
   "source": [
    "import lxml.etree as etree\n",
    "\n",
    "def xqy_to_xslt(xqy_file):\n",
    "  \"\"\"Converts an XQuery file to an XSLT file.\n",
    "\n",
    "  Args:\n",
    "    xqy_file: The path to the XQuery file.\n",
    "\n",
    "  Returns:\n",
    "    The XSLT file as a string.\n",
    "  \"\"\"\n",
    "\n",
    "  # Read the XQuery file.\n",
    "  xqy_tree = etree.parse(xqy_file)\n",
    "\n",
    "  # Create an empty XSLT stylesheet.\n",
    "  xslt_tree = etree.ElementTree()\n",
    "  xslt_stylesheet = etree.Element('xsl:stylesheet', version='1.0', xmlns='http://www.w3.org/1999/XSL/Transform')\n",
    "  xslt_tree.setroot(xslt_stylesheet)\n",
    "\n",
    "  # Iterate over the XQuery expressions in the file and convert them to XSLT templates.\n",
    "  for xqy_expression in xqy_tree.iterfind('.//xquery:expr'):\n",
    "    xslt_template = etree.Element('xsl:template', match='*')\n",
    "    xslt_template.append(etree.fromstring(xqy_expression.text))\n",
    "    xslt_stylesheet.append(xslt_template)\n",
    "\n",
    "  # Return the XSLT stylesheet as a string.\n",
    "  return etree.tostring(xslt_tree, encoding='utf-8')\n",
    "\n",
    "# Example usage:\n",
    "\n",
    "xqy_file = 'C:\\\\Users\\\\inbra\\\\pyscripts\\\\xquery\\\\SecurePersonInquiryResp1-1-copy.xqy'\n",
    "xslt_file = 'C:\\\\Users\\\\inbra\\\\pyscripts\\\\xquery\\\\SecurePersonInquiryResp1-1.xsl'\n",
    "\n",
    "xslt_string = xqy_to_xslt(xqy_file)\n",
    "# Write the XSLT file to a file.\n",
    "with open(xslt_file, 'w') as f:\n",
    "  f.write(xslt_string)\n",
    "\n"
   ]
  },
  {
   "cell_type": "code",
   "execution_count": null,
   "id": "5df59ccc-b1c9-426a-b1c4-39d0c4f8ba53",
   "metadata": {},
   "outputs": [],
   "source": []
  },
  {
   "cell_type": "code",
   "execution_count": null,
   "id": "921f14d6-c7af-4422-b54c-0c54bf3094a1",
   "metadata": {},
   "outputs": [],
   "source": []
  },
  {
   "cell_type": "code",
   "execution_count": null,
   "id": "e37563f4-2e3a-465c-93d3-efad4dc9006e",
   "metadata": {},
   "outputs": [],
   "source": []
  }
 ],
 "metadata": {
  "kernelspec": {
   "display_name": "Python 3 (ipykernel)",
   "language": "python",
   "name": "python3"
  },
  "language_info": {
   "codemirror_mode": {
    "name": "ipython",
    "version": 3
   },
   "file_extension": ".py",
   "mimetype": "text/x-python",
   "name": "python",
   "nbconvert_exporter": "python",
   "pygments_lexer": "ipython3",
   "version": "3.8.10"
  }
 },
 "nbformat": 4,
 "nbformat_minor": 5
}
