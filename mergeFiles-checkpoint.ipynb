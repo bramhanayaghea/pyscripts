{
 "cells": [
  {
   "cell_type": "code",
   "execution_count": 4,
   "id": "4415bd2e-7e0f-4dc9-ace3-37642064ea61",
   "metadata": {
    "tags": []
   },
   "outputs": [],
   "source": [
    "# importing the required modules\n",
    "import glob\n",
    "import pandas as pd\n",
    "\n",
    "# specifying the path to excel files - location of all generated excel reports\n",
    "path = \"C:/Users/inbra/OneDrive - Software AG/Documents/Adda/testReports\"\n",
    "\n",
    "# excel files in the path\n",
    "file_list = glob.glob(path + \"/*.xlsx\")\n",
    " \n",
    "# list of excel files we want to merge.\n",
    "# pd.read_excel(file_path) reads the \n",
    "# excel data into pandas dataframe.\n",
    "excl_list = []\n",
    " \n",
    "for file in file_list:\n",
    "    excl_list.append(pd.read_excel(file))\n",
    " \n",
    "# concatenate all DataFrames in the list\n",
    "# into a single DataFrame, returns new\n",
    "# DataFrame.\n",
    "excl_merged = pd.concat(excl_list).drop_duplicates().reset_index(drop=True)   \n",
    "\n",
    "# exports the dataframe into excel file with\n",
    "# specified name.\n",
    "excl_merged.to_excel('C:/Users/inbra/OneDrive - Software AG/Documents/Adda/testReports/total_report_errors.xlsx', index=False)\n"
   ]
  },
  {
   "cell_type": "code",
   "execution_count": null,
   "id": "98d9a29e-f091-4f46-bc13-8b4ee0f89c42",
   "metadata": {},
   "outputs": [],
   "source": []
  },
  {
   "cell_type": "code",
   "execution_count": null,
   "id": "5d6baf99-e578-4d70-a737-907a6d0d6ada",
   "metadata": {},
   "outputs": [],
   "source": []
  }
 ],
 "metadata": {
  "kernelspec": {
   "display_name": "Python 3 (ipykernel)",
   "language": "python",
   "name": "python3"
  },
  "language_info": {
   "codemirror_mode": {
    "name": "ipython",
    "version": 3
   },
   "file_extension": ".py",
   "mimetype": "text/x-python",
   "name": "python",
   "nbconvert_exporter": "python",
   "pygments_lexer": "ipython3",
   "version": "3.8.10"
  }
 },
 "nbformat": 4,
 "nbformat_minor": 5
}
