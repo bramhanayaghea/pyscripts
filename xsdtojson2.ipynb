{
 "cells": [
  {
   "cell_type": "code",
   "execution_count": 16,
   "id": "02047cf9-be47-47e7-a941-84ededd60c89",
   "metadata": {
    "tags": []
   },
   "outputs": [],
   "source": [
    "import xml.etree.ElementTree as ET\n",
    "import json\n",
    "\n",
    "def parse_complexType(complexType_element):\n",
    "    json_schema = {\n",
    "        \"type\": \"object\",\n",
    "        \"properties\": {}\n",
    "    }\n",
    "    \n",
    "    sequence = complexType_element.find('{http://www.w3.org/2001/XMLSchema}sequence')\n",
    "    if sequence is not None:\n",
    "        for element in sequence.findall('{http://www.w3.org/2001/XMLSchema}element'):\n",
    "            json_schema[\"properties\"][element.attrib['name']] = handle_element(element)\n",
    "\n",
    "    return json_schema\n",
    "\n",
    "def handle_element(element):\n",
    "    if 'type' in element.attrib:\n",
    "        element_type = element.attrib['type']\n",
    "        json_schema = {}\n",
    "        if element_type.startswith('xsd:'):\n",
    "            if element_type == \"xsd:string\":\n",
    "                json_schema[\"type\"] = \"string\"\n",
    "            elif element_type == \"xsd:int\":\n",
    "                json_schema[\"type\"] = \"int\"\n",
    "            elif element_type in [\"xsd:long\", \"xsd:decimal\"]:\n",
    "                json_schema[\"type\"] = \"number\"\n",
    "            elif element_type == \"xsd:base64Binary\":\n",
    "                json_schema = {\n",
    "                    \"type\": \"string\",\n",
    "                    \"binaryEncoding \": \"base64\"\n",
    "                }\n",
    "            elif element_type == \"xsd:boolean\":\n",
    "                   json_schema[\"type\"] = \"booelan\"\n",
    "            elif element_type == \"xsd:dateTime\":\n",
    "                json_schema = {\n",
    "                    \"type\": \"string\",\n",
    "                    \"format\": \"date-time\"\n",
    "                }\n",
    "            elif element_type == \"xsd:date\":\n",
    "                json_schema = {\n",
    "                    \"type\": \"string\",\n",
    "                    \"format\": \"date\"\n",
    "                }\n",
    "        else:\n",
    "            json_schema[\"type\"] = \"object\"\n",
    "        \n",
    "        return json_schema\n",
    "    else:\n",
    "        complexType = element.find('{http://www.w3.org/2001/XMLSchema}complexType')\n",
    "        if complexType is not None:\n",
    "            return parse_complexType(complexType)\n",
    "        else:\n",
    "            return {\n",
    "                \"type\": \"object\",\n",
    "                \"properties\": {}\n",
    "            }\n",
    "\n",
    "def xsd_to_json_schema(xsd,json_file):\n",
    "    tree = ET.parse(xsd)\n",
    "    root = tree.getroot()\n",
    "\n",
    "    json_schema = {\n",
    "        \"$schema\": \"http://json-schema.org/draft-07/schema#\",\n",
    "        \"type\": \"object\",\n",
    "        \"properties\": {}\n",
    "    }\n",
    "\n",
    "    for element in root.findall('{http://www.w3.org/2001/XMLSchema}element'):\n",
    "        json_schema[\"properties\"][element.attrib['name']] = handle_element(element)\n",
    "\n",
    "    with open(json_file, 'w') as f:\n",
    "        json.dump(json_schema, f, indent=2)\n",
    "\n",
    "\n"
   ]
  },
  {
   "cell_type": "code",
   "execution_count": 17,
   "id": "74363943-6d14-4762-8c8e-cd7e22a6f39c",
   "metadata": {
    "tags": []
   },
   "outputs": [],
   "source": [
    "# usage\n",
    "xsd_file='c:\\\\users\\\\inbra\\\\workspaceUtil\\\\PersonProfileSchemas_Custom.xsd'\n",
    "output_json='c:\\\\users\\\\inbra\\\\workspaceUtil\\\\PersonProfileSchemas_Custom.json'\n",
    "xsd_to_json_schema(xsd_file, output_json)"
   ]
  },
  {
   "cell_type": "code",
   "execution_count": null,
   "id": "0ba3da39-bab7-465c-a130-39360b468e7d",
   "metadata": {},
   "outputs": [],
   "source": []
  }
 ],
 "metadata": {
  "kernelspec": {
   "display_name": "Python 3 (ipykernel)",
   "language": "python",
   "name": "python3"
  },
  "language_info": {
   "codemirror_mode": {
    "name": "ipython",
    "version": 3
   },
   "file_extension": ".py",
   "mimetype": "text/x-python",
   "name": "python",
   "nbconvert_exporter": "python",
   "pygments_lexer": "ipython3",
   "version": "3.8.10"
  }
 },
 "nbformat": 4,
 "nbformat_minor": 5
}
