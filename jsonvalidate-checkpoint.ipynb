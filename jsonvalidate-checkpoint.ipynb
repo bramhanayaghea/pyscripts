{
 "cells": [
  {
   "cell_type": "code",
   "execution_count": 6,
   "id": "5cf620ba-0b35-406e-95b1-1fa57b62eb3b",
   "metadata": {
    "tags": []
   },
   "outputs": [
    {
     "ename": "IndentationError",
     "evalue": "unexpected indent (574697641.py, line 7)",
     "output_type": "error",
     "traceback": [
      "\u001b[1;36m  Cell \u001b[1;32mIn[6], line 7\u001b[1;36m\u001b[0m\n\u001b[1;33m    duplicate_names = set()\u001b[0m\n\u001b[1;37m    ^\u001b[0m\n\u001b[1;31mIndentationError\u001b[0m\u001b[1;31m:\u001b[0m unexpected indent\n"
     ]
    }
   ],
   "source": [
    "import json\n",
    "\n",
    "def check_duplicate_names(json_data):\n",
    "    names = set()\n",
    "    duplicate_names = set()\n",
    "\n",
    "    def check_duplicates(obj):\n",
    "        if isinstance(obj, dict):\n",
    "            if \"name\" in obj:\n",
    "                name = obj[\"name\"]\n",
    "                if name in names:\n",
    "                    duplicate_names.add(name)\n",
    "                else:\n",
    "                    names.add(name)\n",
    "            for key, value in obj.items():\n",
    "                check_duplicates(value)\n",
    "        elif isinstance(obj, list):\n",
    "            for item in obj:\n",
    "                check_duplicates(item)\n",
    "\n",
    "    check_duplicates(json_data)\n",
    "\n",
    "    if duplicate_names:\n",
    "        print(\"Duplicate name values found:\", duplicate_names)\n",
    "        return False\n",
    "    else:\n",
    "        print(\"No duplicate name values found.\")\n",
    "        return True\n",
    "\n",
    "def validate_json_file(file_path):\n",
    "    try:\n",
    "        with open(file_path) as file:\n",
    "            json_data = json.load(file)\n",
    "            # If the JSON file is valid, the parsing will succeed without any exceptions\n",
    "            print(\"JSON validation successful!\")\n",
    "            return check_duplicate_names(json_data)\n",
    "    except ValueError as e:\n",
    "        print(\"JSON validation failed!\")\n",
    "        print(e)\n",
    "        return False\n",
    "    except IOError as e:\n",
    "        print(\"Error reading the file:\")\n",
    "        print(e)\n",
    "        return False\n",
    "\n",
    "\n"
   ]
  },
  {
   "cell_type": "code",
   "execution_count": 5,
   "id": "2517cd8f-49b2-420a-b359-3f42fed5ab24",
   "metadata": {
    "tags": []
   },
   "outputs": [
    {
     "name": "stdout",
     "output_type": "stream",
     "text": [
      "JSON validation successful!\n"
     ]
    },
    {
     "data": {
      "text/plain": [
       "True"
      ]
     },
     "execution_count": 5,
     "metadata": {},
     "output_type": "execute_result"
    }
   ],
   "source": [
    "# Replace 'file_path' with the actual path to your JSON file\n",
    "file_path = 'C://Users//inbra//testAutomate//stub1//env_config_test.json'\n",
    "validate_json_file(file_path)"
   ]
  },
  {
   "cell_type": "code",
   "execution_count": null,
   "id": "63ab86e7-4b71-4ca8-81a5-9965c262f1ce",
   "metadata": {},
   "outputs": [],
   "source": []
  }
 ],
 "metadata": {
  "kernelspec": {
   "display_name": "Python 3 (ipykernel)",
   "language": "python",
   "name": "python3"
  },
  "language_info": {
   "codemirror_mode": {
    "name": "ipython",
    "version": 3
   },
   "file_extension": ".py",
   "mimetype": "text/x-python",
   "name": "python",
   "nbconvert_exporter": "python",
   "pygments_lexer": "ipython3",
   "version": "3.8.10"
  }
 },
 "nbformat": 4,
 "nbformat_minor": 5
}
