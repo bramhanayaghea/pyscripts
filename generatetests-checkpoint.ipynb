{
 "cells": [
  {
   "cell_type": "code",
   "execution_count": 3,
   "id": "36f9186a-4def-4206-ab6e-398c2e19e42f",
   "metadata": {
    "tags": []
   },
   "outputs": [],
   "source": [
    "import os\n",
    "import json\n",
    "\n",
    "# Function to read the JSON file and return its content\n",
    "def read_json(file_path):\n",
    "    with open(file_path, 'r') as file:\n",
    "        return json.load(file)\n",
    "\n",
    "# Function to create a Postman request item from JSON files\n",
    "def create_request_item(api_name, operation_name, method_name, request_id):\n",
    "    request = read_json(f'{api_name}_{operation_name}_{method_name}_{request_id}_Request.json')\n",
    "    request_header = read_json(f'{api_name}_{operation_name}_{method_name}_{request_id}_RequestHeader.json')\n",
    "    response_header = read_json(f'{api_name}_{operation_name}_{method_name}_{request_id}_ResponseHeader.json')\n",
    "    response = read_json(f'{api_name}_{operation_name}_{method_name}_{request_id}_Response.json')\n",
    "\n",
    "    resource_url = request_header['transactionResource']\n",
    "    headers = request_header['headers']\n",
    "    headers.append({'key': '.ASPXAUTH', 'value': '{{ASPXAUTH}}'})\n",
    "\n",
    "    return {\n",
    "        'name': f'{api_name}_{operation_name}_{method_name}',\n",
    "        'request': {\n",
    "            'method': method_name,\n",
    "            'header': headers,\n",
    "            'url': '{{baseURL}}' + resource_url,\n",
    "            'body': request\n",
    "        },\n",
    "        'response': [{\n",
    "            'code': 200,\n",
    "            'header': response_header,\n",
    "            'body': json.dumps(response)\n",
    "        }]\n",
    "    }\n",
    "\n",
    "# Main function to generate the Postman collection\n",
    "def generate_postman_collection():\n",
    "    collection = {\n",
    "        'info': {\n",
    "            'name': 'Generated Postman Collection',\n",
    "            'schema': 'https://schema.getpostman.com/json/collection/v2.1.0/collection.json'\n",
    "        },\n",
    "        'variable': [\n",
    "            {\n",
    "                'key': 'baseURL',\n",
    "                'value': ''\n",
    "            },\n",
    "            {\n",
    "                'key': 'ASPXAUTH',\n",
    "                'value': ''\n",
    "            }\n",
    "        ],\n",
    "        'item': []\n",
    "    }\n",
    "\n",
    "    api_names = set()\n",
    "\n",
    "    for file in os.listdir():\n",
    "        if '_Request.json' in file:\n",
    "            api_name, operation_name, method_name, request_id, _ = file.split('_')\n",
    "            api_names.add(api_name)\n",
    "            request_item = create_request_item(api_name, operation_name, method_name, request_id)\n",
    "            collection['item'].append(request_item)\n",
    "\n",
    "    for api_name in api_names:\n",
    "        os.makedirs(api_name, exist_ok=True)\n",
    "\n",
    "    with open('Generated_Postman_Collection.json', 'w') as file:\n",
    "        json.dump(collection, file, indent=2)\n",
    "\n",
    "if __name__ == '__main__':\n",
    "    generate_postman_collection()\n"
   ]
  },
  {
   "cell_type": "code",
   "execution_count": 4,
   "id": "5db14fe4-0c8b-4614-9a6d-0822ee54437e",
   "metadata": {
    "tags": []
   },
   "outputs": [
    {
     "ename": "SyntaxError",
     "evalue": "invalid syntax (1250797849.py, line 1)",
     "output_type": "error",
     "traceback": [
      "\u001b[1;36m  Cell \u001b[1;32mIn[4], line 1\u001b[1;36m\u001b[0m\n\u001b[1;33m    python generate_postman_collection.py\u001b[0m\n\u001b[1;37m           ^\u001b[0m\n\u001b[1;31mSyntaxError\u001b[0m\u001b[1;31m:\u001b[0m invalid syntax\n"
     ]
    }
   ],
   "source": [
    "python generatetests.py"
   ]
  },
  {
   "cell_type": "code",
   "execution_count": null,
   "id": "3725a8f9-5cf6-46dc-b62b-a84ef9734f5d",
   "metadata": {},
   "outputs": [],
   "source": []
  }
 ],
 "metadata": {
  "kernelspec": {
   "display_name": "Python 3 (ipykernel)",
   "language": "python",
   "name": "python3"
  },
  "language_info": {
   "codemirror_mode": {
    "name": "ipython",
    "version": 3
   },
   "file_extension": ".py",
   "mimetype": "text/x-python",
   "name": "python",
   "nbconvert_exporter": "python",
   "pygments_lexer": "ipython3",
   "version": "3.8.10"
  }
 },
 "nbformat": 4,
 "nbformat_minor": 5
}
