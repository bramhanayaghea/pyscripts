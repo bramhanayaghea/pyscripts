{
 "cells": [
  {
   "cell_type": "code",
   "execution_count": null,
   "id": "efcfc0a3-da94-44fa-b161-d72e84041532",
   "metadata": {},
   "outputs": [],
   "source": [
    "import os\n",
    "import re\n",
    "\n",
    "def parse_log(log_file):\n",
    "  \"\"\"Parses the given log file and returns a list of connections.\"\"\"\n",
    "  connections = []\n",
    "  for line in open(log_file):\n",
    "    # Match the connection information in the log line.\n",
    "    match = re.match(r'(.*) (.*) (.*) (.*) (.*)', line)\n",
    "    if match:\n",
    "      # Create a connection object and add it to the list.\n",
    "      connections.append({\n",
    "        'time': match.group(1),\n",
    "        'connection_id': match.group(2),\n",
    "        'remote_jvm': match.group(3),\n",
    "        'local_port': match.group(4),\n",
    "        'state': match.group(5),\n",
    "      })\n",
    "  return connections\n",
    "\n",
    "def parse_logs(folder):\n",
    "  \"\"\"Parses all log files in the given folder and returns a list of connections.\"\"\"\n",
    "  connections = []\n",
    "  for file in os.listdir(folder):\n",
    "    if file.endswith('.log'):\n",
    "      connections += parse_log(os.path.join(folder, file))\n",
    "  return connections\n",
    "\n",
    "connections = parse_logs('C:\\\\Users\\\\inbra\\\\OneDrive - Software AG\\\\Documents\\\\Adda\\\\issues\\\\tcclient issue\\\\tsa-logs\\\\tsa-1')\n",
    "\n",
    "# Print the information about each connection.\n",
    "for connection in connections:\n",
    "  print('The connection was made at {}.'.format(connection['time']))\n",
    "  print('The connection ID is {}.'.format(connection['connection_id']))\n",
    "  print('The remote JVM is {}.'.format(connection['remote_jvm']))\n",
    "  print('The local port is {}.'.format(connection['local_port']))\n",
    "  print('The connection state is {}.'.format(connection['state']))\n"
   ]
  }
 ],
 "metadata": {
  "kernelspec": {
   "display_name": "Python 3 (ipykernel)",
   "language": "python",
   "name": "python3"
  },
  "language_info": {
   "codemirror_mode": {
    "name": "ipython",
    "version": 3
   },
   "file_extension": ".py",
   "mimetype": "text/x-python",
   "name": "python",
   "nbconvert_exporter": "python",
   "pygments_lexer": "ipython3",
   "version": "3.8.10"
  }
 },
 "nbformat": 4,
 "nbformat_minor": 5
}
